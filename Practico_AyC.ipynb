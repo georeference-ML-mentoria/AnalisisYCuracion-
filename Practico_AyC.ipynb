{
 "cells": [
  {
   "cell_type": "markdown",
   "metadata": {
    "colab_type": "text",
    "id": "6rj5IlyYDYLD"
   },
   "source": [
    "## Introduccion, Analisis y Curacion de Datos\n",
    "\n",
    "## Diplodatos 2020, Mentorias\n",
    "### Mentor: Ramiro Caro"
   ]
  },
  {
   "cell_type": "code",
   "execution_count": 1,
   "metadata": {
    "colab": {},
    "colab_type": "code",
    "id": "A9-o_rCuyZes"
   },
   "outputs": [],
   "source": [
    "# !pip install geopandas\n",
    "# !apt install libspatialindex-dev\n",
    "# !pip install rtree\n",
    "# !pip install osmnx\n",
    "# !pip install contextily"
   ]
  },
  {
   "cell_type": "markdown",
   "metadata": {
    "colab_type": "text",
    "id": "YoEmMUucwpu6"
   },
   "source": [
    "## Introduccion, carga de datos\n",
    "\n",
    "A partir de este punto, utilizaremos los transformadores de distribucion como elemnto de analisis, e incorporaremos datos de consumidores, subestacion y lineas de distribucion."
   ]
  },
  {
   "cell_type": "code",
   "execution_count": 2,
   "metadata": {
    "colab": {},
    "colab_type": "code",
    "id": "7QiqtG-9ybT-"
   },
   "outputs": [],
   "source": [
    "import contextily as ctx\n",
    "import geopandas as gpd\n",
    "import matplotlib.pyplot as plt\n",
    "import pandas as pd\n",
    "import seaborn as sns\n",
    "from shapely.geometry import Point, LineString, Polygon, MultiPoint, MultiLineString\n",
    "import contextily as ctx\n",
    "from scipy.spatial import cKDTree\n",
    "from utils import display_markdown\n",
    "import networkx as nx"
   ]
  },
  {
   "cell_type": "markdown",
   "metadata": {},
   "source": [
    "## importar datos"
   ]
  },
  {
   "cell_type": "code",
   "execution_count": 3,
   "metadata": {
    "colab": {},
    "colab_type": "code",
    "id": "a-wN4MnfyTCk"
   },
   "outputs": [],
   "source": [
    "# Editar con el path correspondiente a sus datos\n",
    "data_path = 'data/SULGIPE_46_2018-12-31_M10_20190611-1750.gdb'"
   ]
  },
  {
   "cell_type": "code",
   "execution_count": 4,
   "metadata": {
    "colab": {
     "base_uri": "https://localhost:8080/",
     "height": 136
    },
    "colab_type": "code",
    "id": "T1xC2lhcuRy-",
    "outputId": "0515c613-1ac1-41c2-903b-8a451f0fb6b4"
   },
   "outputs": [
    {
     "data": {
      "text/plain": [
       "((10508, 33),\n",
       " Index(['COD_ID', 'DIST', 'PAC_1', 'PAC_2', 'PAC_3', 'FAS_CON_P', 'FAS_CON_S',\n",
       "        'FAS_CON_T', 'SIT_ATIV', 'TIP_UNID', 'POS', 'ATRB_PER', 'TEN_LIN_SE',\n",
       "        'CAP_ELO', 'CAP_CHA', 'TAP', 'CONF', 'POSTO', 'POT_NOM', 'PER_FER',\n",
       "        'PER_TOT', 'DAT_CON', 'CTMT', 'UNI_TR_S', 'SUB', 'CONJ', 'MUN', 'BANC',\n",
       "        'TIP_TRAFO', 'MRT', 'DESCR', 'ARE_LOC', 'geometry'],\n",
       "       dtype='object'))"
      ]
     },
     "execution_count": 4,
     "metadata": {},
     "output_type": "execute_result"
    }
   ],
   "source": [
    "untrd = gpd.read_file(data_path, driver='FileGDB', layer='UNTRD')\n",
    "untrd = untrd.to_crs(epsg=31984)\n",
    "untrd.shape, untrd.columns"
   ]
  },
  {
   "cell_type": "code",
   "execution_count": 5,
   "metadata": {
    "colab": {
     "base_uri": "https://localhost:8080/",
     "height": 204
    },
    "colab_type": "code",
    "id": "F0yigp8pyWvx",
    "outputId": "e6e45e5d-6737-4fad-b67f-a9bc09272100"
   },
   "outputs": [
    {
     "data": {
      "text/plain": [
       "((17, 53),\n",
       " Index(['COD_ID', 'SUB', 'BARR_1', 'BARR_2', 'BARR_3', 'PAC_1', 'PAC_2',\n",
       "        'PAC_3', 'DIST', 'FAS_CON_P', 'FAS_CON_S', 'FAS_CON_T', 'SIT_ATIV',\n",
       "        'TIP_UNID', 'POS', 'POT_NOM', 'POT_F01', 'POT_F02', 'PER_FER',\n",
       "        'PER_TOT', 'BANC', 'DAT_CON', 'CONJ', 'MUN', 'TIP_TRAFO', 'ALOC_PERD',\n",
       "        'ENES_01', 'ENES_02', 'ENES_03', 'ENES_04', 'ENES_05', 'ENES_06',\n",
       "        'ENES_07', 'ENES_08', 'ENES_09', 'ENES_10', 'ENES_11', 'ENES_12',\n",
       "        'ENET_01', 'ENET_02', 'ENET_03', 'ENET_04', 'ENET_05', 'ENET_06',\n",
       "        'ENET_07', 'ENET_08', 'ENET_09', 'ENET_10', 'ENET_11', 'ENET_12',\n",
       "        'DESCR', 'ARE_LOC', 'geometry'],\n",
       "       dtype='object'))"
      ]
     },
     "execution_count": 5,
     "metadata": {},
     "output_type": "execute_result"
    }
   ],
   "source": [
    "untrs = gpd.read_file(data_path, driver='FileGDB', layer='UNTRS')\n",
    "untrs.shape, untrs.columns"
   ]
  },
  {
   "cell_type": "code",
   "execution_count": 6,
   "metadata": {
    "colab": {
     "base_uri": "https://localhost:8080/",
     "height": 187
    },
    "colab_type": "code",
    "id": "neS4sBkdzboc",
    "outputId": "501b300d-58e6-4d85-9ab7-32b23ac79190"
   },
   "outputs": [
    {
     "data": {
      "text/plain": [
       "Index(['COD_ID', 'PN_CON_1', 'PN_CON_2', 'CTMT', 'UNI_TR_S', 'SUB', 'CONJ',\n",
       "       'DIST', 'PAC_1', 'PAC_2', 'FAS_CON', 'TIP_CND', 'POS', 'ODI_FAS',\n",
       "       'TI_FAS', 'ODI_NEU', 'TI_NEU', 'COMP', 'DESCR', 'SITCONTFAS',\n",
       "       'SITCONTNEU', 'ARE_LOC', 'Shape_Length', 'geometry'],\n",
       "      dtype='object')"
      ]
     },
     "execution_count": 6,
     "metadata": {},
     "output_type": "execute_result"
    }
   ],
   "source": [
    "ssmt = gpd.read_file(data_path, driver='FileGDB', layer='SSDMT') # the electrical lines\n",
    "ssmt.columns"
   ]
  },
  {
   "cell_type": "code",
   "execution_count": 7,
   "metadata": {
    "colab": {
     "base_uri": "https://localhost:8080/",
     "height": 289
    },
    "colab_type": "code",
    "id": "Sp2Ewh9L0cke",
    "outputId": "4ce1ee12-69fe-4677-b2c8-4df0b9db732b"
   },
   "outputs": [
    {
     "data": {
      "text/plain": [
       "(Index(['COD_ID', 'DIST', 'GEOM_CAB', 'FORM_CAB', 'MAT_FAS_1', 'MAT_FAS_2',\n",
       "        'MAT_FAS_3', 'MAT_NEU', 'ISO_FAS_1', 'ISO_FAS_2', 'ISO_FAS_3',\n",
       "        'ISO_NEU', 'CND_FAS', 'R1', 'X1', 'FTRCNV', 'CNOM', 'CMAX', 'CM_FAS',\n",
       "        'TUC_FAS', 'A1_FAS', 'A2_FAS', 'A3_FAS', 'A4_FAS', 'A5_FAS', 'A6_FAS',\n",
       "        'CM_NEU', 'TUC_NEU', 'A1_NEU', 'A2_NEU', 'A3_NEU', 'A4_NEU', 'A5_NEU',\n",
       "        'A6_NEU', 'DESCR', 'BIT_FAS_1', 'BIT_FAS_2', 'BIT_FAS_3', 'BIT_NEU',\n",
       "        'geometry'],\n",
       "       dtype='object'),\n",
       " Index(['COD_ID', 'DIST', 'GEOM_CAB', 'FORM_CAB', 'MAT_FAS_1', 'MAT_FAS_2',\n",
       "        'MAT_FAS_3', 'MAT_NEU', 'ISO_FAS_1', 'ISO_FAS_2', 'ISO_FAS_3',\n",
       "        'ISO_NEU', 'CND_FAS', 'R1', 'X1', 'FTRCNV', 'CNOM', 'CMAX', 'CM_FAS',\n",
       "        'TUC_FAS', 'A1_FAS', 'A2_FAS', 'A3_FAS', 'A4_FAS', 'A5_FAS', 'A6_FAS',\n",
       "        'CM_NEU', 'TUC_NEU', 'A1_NEU', 'A2_NEU', 'A3_NEU', 'A4_NEU', 'A5_NEU',\n",
       "        'A6_NEU', 'DESCR', 'BIT_FAS_1', 'BIT_FAS_2', 'BIT_FAS_3', 'BIT_NEU',\n",
       "        'geometry'],\n",
       "       dtype='object'))"
      ]
     },
     "execution_count": 7,
     "metadata": {},
     "output_type": "execute_result"
    }
   ],
   "source": [
    "segcon = gpd.read_file(data_path, driver='FileGDB', layer='SEGCON')\n",
    "segcon.columns, segcon.columns"
   ]
  },
  {
   "cell_type": "code",
   "execution_count": 8,
   "metadata": {
    "colab": {
     "base_uri": "https://localhost:8080/",
     "height": 255
    },
    "colab_type": "code",
    "id": "KacEd34JzdO4",
    "outputId": "7ee4cc05-3912-4d07-e3b0-52f433974dab"
   },
   "outputs": [
    {
     "data": {
      "text/plain": [
       "(Index(['DIST', 'PAC', 'PN_CON', 'UNI_TR_D', 'CTMT', 'UNI_TR_S', 'SUB', 'CONJ',\n",
       "        'MUN', 'BRR', 'CEP', 'CLAS_SUB', 'CNAE', 'TIP_CC', 'FAS_CON', 'GRU_TEN',\n",
       "        'TEN_FORN', 'GRU_TAR', 'SIT_ATIV', 'DAT_CON', 'CAR_INST', 'LIV',\n",
       "        'ENE_01', 'ENE_02', 'ENE_03', 'ENE_04', 'ENE_05', 'ENE_06', 'ENE_07',\n",
       "        'ENE_08', 'ENE_09', 'ENE_10', 'ENE_11', 'ENE_12', 'DIC', 'FIC',\n",
       "        'SEMRED', 'DESCR', 'ARE_LOC', 'geometry'],\n",
       "       dtype='object'),\n",
       " Index(['DIST', 'PAC', 'PN_CON', 'UNI_TR_D', 'CTMT', 'UNI_TR_S', 'SUB', 'CONJ',\n",
       "        'MUN', 'BRR', 'CEP', 'CLAS_SUB', 'CNAE', 'TIP_CC', 'FAS_CON', 'GRU_TEN',\n",
       "        'TEN_FORN', 'GRU_TAR', 'SIT_ATIV', 'DAT_CON', 'CAR_INST', 'LIV',\n",
       "        'ENE_01', 'ENE_02', 'ENE_03', 'ENE_04', 'ENE_05', 'ENE_06', 'ENE_07',\n",
       "        'ENE_08', 'ENE_09', 'ENE_10', 'ENE_11', 'ENE_12', 'DIC', 'FIC',\n",
       "        'SEMRED', 'DESCR', 'ARE_LOC', 'geometry'],\n",
       "       dtype='object'))"
      ]
     },
     "execution_count": 8,
     "metadata": {},
     "output_type": "execute_result"
    }
   ],
   "source": [
    "ucbt = gpd.read_file(data_path, driver='FileGDB', layer='UCBT')\n",
    "ucbt.columns, ucbt.columns"
   ]
  },
  {
   "cell_type": "markdown",
   "metadata": {
    "colab_type": "text",
    "id": "pa-bOWcEhua5"
   },
   "source": [
    "## Informacion sobre consumindores\n",
    "\n",
    "1 - *En base a los resultados obtenidos en el practico 1. Defina que informacion sobre consumidores, es la mas relevante para la estimacion de calidad de servicio.*\n",
    "\n",
    "La información que creo es más relevante involucra:\n",
    "\n",
    "* Ubicación geográfica del consumidor, ya que la calidad varía de acuerdo a si la zona es urbana o rural (variables CONJ, MUN, BRR, CEP, ARE_LOC).\n",
    "* Cantidad de consumo, ya que las unidades que consumen más parecen ser las que más cortes sufren (variables ENE_*).\n",
    "* Actividad económica realizada por el consumidor, ya que hay algunas actividades que consumen más que otras, y unidades que varían en frecuencia de corte de acuerdo a la actividad económica (variable CNAE).\n",
    "* Frecuencia y duración de los cortes (variables DIC y FIC).\n",
    "\n"
   ]
  },
  {
   "cell_type": "code",
   "execution_count": 9,
   "metadata": {},
   "outputs": [],
   "source": [
    "ene_col_names = ['ENE_{:02}'.format(i) for i in range(1, 13)]\n",
    "ucbt_relevant_num_col_names = ene_col_names + ['DIC', 'FIC']\n",
    "ucbt_relevant_col_names = (\n",
    "    ['UNI_TR_D', 'UNI_TR_S', 'CONJ', 'MUN', 'BRR', 'CEP', 'ARE_LOC', 'CNAE'] +\n",
    "    ucbt_relevant_num_col_names\n",
    ")"
   ]
  },
  {
   "cell_type": "markdown",
   "metadata": {},
   "source": [
    "2 - *Realize el tratamiento de las filas con valores invalidos y outliers, y luego agrupe los datos en base a la variable UNI_TF_D.*\n",
    "¿Qué tan completo está ucbt? Veamos proporciones de cantidades de filas sin datos nulos:"
   ]
  },
  {
   "cell_type": "code",
   "execution_count": 10,
   "metadata": {},
   "outputs": [
    {
     "data": {
      "text/markdown": [
       "148801 / 148801 = **100.00%**"
      ],
      "text/plain": [
       "<IPython.core.display.Markdown object>"
      ]
     },
     "metadata": {},
     "output_type": "display_data"
    }
   ],
   "source": [
    "total_len = len(ucbt)\n",
    "len_without_na = len(ucbt.dropna())\n",
    "prop = len_without_na / total_len\n",
    "display_markdown('{} / {} = **{:.2%}**'.format(len_without_na, total_len, prop))\n",
    "\"\"\"\n",
    "if prop < 1.0:\n",
    "    display_markdown('Valores nulos por columna:')\n",
    "    missing_values_count = dataframe.isnull().sum()\n",
    "    for key, value in missing_values_count[missing_values_count > 0].items():\n",
    "        display_markdown('* **{}** tiene {} valores nulos'.format(key, value))\n",
    "    print()\n",
    "\"\"\";"
   ]
  },
  {
   "cell_type": "markdown",
   "metadata": {},
   "source": [
    "Vemos que el conjunto de datos está completo.\n",
    "\n",
    "Ahora veamos qué cantidad de valores atípicos hay en ucbt:"
   ]
  },
  {
   "cell_type": "code",
   "execution_count": 11,
   "metadata": {},
   "outputs": [
    {
     "data": {
      "text/markdown": [
       "* **ENE_01**: 77 / 148801 = **0.05%**"
      ],
      "text/plain": [
       "<IPython.core.display.Markdown object>"
      ]
     },
     "metadata": {},
     "output_type": "display_data"
    },
    {
     "data": {
      "text/markdown": [
       "* **ENE_02**: 99 / 148801 = **0.07%**"
      ],
      "text/plain": [
       "<IPython.core.display.Markdown object>"
      ]
     },
     "metadata": {},
     "output_type": "display_data"
    },
    {
     "data": {
      "text/markdown": [
       "* **ENE_03**: 75 / 148801 = **0.05%**"
      ],
      "text/plain": [
       "<IPython.core.display.Markdown object>"
      ]
     },
     "metadata": {},
     "output_type": "display_data"
    },
    {
     "data": {
      "text/markdown": [
       "* **ENE_04**: 81 / 148801 = **0.05%**"
      ],
      "text/plain": [
       "<IPython.core.display.Markdown object>"
      ]
     },
     "metadata": {},
     "output_type": "display_data"
    },
    {
     "data": {
      "text/markdown": [
       "* **ENE_05**: 75 / 148801 = **0.05%**"
      ],
      "text/plain": [
       "<IPython.core.display.Markdown object>"
      ]
     },
     "metadata": {},
     "output_type": "display_data"
    },
    {
     "data": {
      "text/markdown": [
       "* **ENE_06**: 69 / 148801 = **0.05%**"
      ],
      "text/plain": [
       "<IPython.core.display.Markdown object>"
      ]
     },
     "metadata": {},
     "output_type": "display_data"
    },
    {
     "data": {
      "text/markdown": [
       "* **ENE_07**: 70 / 148801 = **0.05%**"
      ],
      "text/plain": [
       "<IPython.core.display.Markdown object>"
      ]
     },
     "metadata": {},
     "output_type": "display_data"
    },
    {
     "data": {
      "text/markdown": [
       "* **ENE_08**: 69 / 148801 = **0.05%**"
      ],
      "text/plain": [
       "<IPython.core.display.Markdown object>"
      ]
     },
     "metadata": {},
     "output_type": "display_data"
    },
    {
     "data": {
      "text/markdown": [
       "* **ENE_09**: 78 / 148801 = **0.05%**"
      ],
      "text/plain": [
       "<IPython.core.display.Markdown object>"
      ]
     },
     "metadata": {},
     "output_type": "display_data"
    },
    {
     "data": {
      "text/markdown": [
       "* **ENE_10**: 75 / 148801 = **0.05%**"
      ],
      "text/plain": [
       "<IPython.core.display.Markdown object>"
      ]
     },
     "metadata": {},
     "output_type": "display_data"
    },
    {
     "data": {
      "text/markdown": [
       "* **ENE_11**: 90 / 148801 = **0.06%**"
      ],
      "text/plain": [
       "<IPython.core.display.Markdown object>"
      ]
     },
     "metadata": {},
     "output_type": "display_data"
    },
    {
     "data": {
      "text/markdown": [
       "* **ENE_12**: 79 / 148801 = **0.05%**"
      ],
      "text/plain": [
       "<IPython.core.display.Markdown object>"
      ]
     },
     "metadata": {},
     "output_type": "display_data"
    },
    {
     "data": {
      "text/markdown": [
       "* **DIC**: 2976 / 148801 = **2.00%**"
      ],
      "text/plain": [
       "<IPython.core.display.Markdown object>"
      ]
     },
     "metadata": {},
     "output_type": "display_data"
    },
    {
     "data": {
      "text/markdown": [
       "* **FIC**: 1652 / 148801 = **1.11%**"
      ],
      "text/plain": [
       "<IPython.core.display.Markdown object>"
      ]
     },
     "metadata": {},
     "output_type": "display_data"
    }
   ],
   "source": [
    "for col_name in ucbt[ucbt_relevant_num_col_names]:\n",
    "    value_is_outlier = (\n",
    "        (ucbt[col_name] - ucbt[col_name].mean()).abs() > 3 * ucbt[col_name].std()\n",
    "    )\n",
    "    outliers_len = len(ucbt[col_name][value_is_outlier])\n",
    "    total_len = len(ucbt[col_name])\n",
    "    display_markdown('* **{}**: {} / {} = **{:.2%}**'.format(\n",
    "        col_name,\n",
    "        outliers_len,\n",
    "        total_len,\n",
    "        outliers_len / total_len\n",
    "    ))"
   ]
  },
  {
   "cell_type": "markdown",
   "metadata": {},
   "source": [
    "Vemos que hay más valores atípicos en las columnas DIC y FIC. Hagamos gráficos de caja de estas varaibles:"
   ]
  },
  {
   "cell_type": "code",
   "execution_count": 12,
   "metadata": {},
   "outputs": [
    {
     "data": {
      "text/plain": [
       "<matplotlib.axes._subplots.AxesSubplot at 0x7fe1dd5f5d10>"
      ]
     },
     "execution_count": 12,
     "metadata": {},
     "output_type": "execute_result"
    },
    {
     "data": {
      "image/png": "[encoded data removed]",
      "text/plain": [
       "<Figure size 432x288 with 1 Axes>"
      ]
     },
     "metadata": {
      "needs_background": "light"
     },
     "output_type": "display_data"
    },
    {
     "data": {
      "image/png": "[encoded data removed]",
      "text/plain": [
       "<Figure size 432x288 with 1 Axes>"
      ]
     },
     "metadata": {
      "needs_background": "light"
     },
     "output_type": "display_data"
    }
   ],
   "source": [
    "plt.figure()\n",
    "sns.boxplot(ucbt.DIC)\n",
    "plt.figure()\n",
    "sns.boxplot(ucbt.FIC)"
   ]
  },
  {
   "cell_type": "markdown",
   "metadata": {},
   "source": [
    "¿Qué tal si graficamos las variables sin valores atípicos?"
   ]
  },
  {
   "cell_type": "code",
   "execution_count": 13,
   "metadata": {},
   "outputs": [
    {
     "data": {
      "text/plain": [
       "<matplotlib.axes._subplots.AxesSubplot at 0x7fe1dd6c73d0>"
      ]
     },
     "execution_count": 13,
     "metadata": {},
     "output_type": "execute_result"
    },
    {
     "data": {
      "image/png": "[encoded data removed]",
      "text/plain": [
       "<Figure size 432x288 with 1 Axes>"
      ]
     },
     "metadata": {
      "needs_background": "light"
     },
     "output_type": "display_data"
    },
    {
     "data": {
      "image/png": "[encoded data removed]",
      "text/plain": [
       "<Figure size 432x288 with 1 Axes>"
      ]
     },
     "metadata": {
      "needs_background": "light"
     },
     "output_type": "display_data"
    }
   ],
   "source": [
    "dic_is_outlier = (ucbt.DIC - ucbt.DIC.mean()).abs() > 3 * ucbt.DIC.std()\n",
    "fic_is_outlier = (ucbt.FIC - ucbt.FIC.mean()).abs() > 3 * ucbt.FIC.std()\n",
    "\n",
    "plt.figure()\n",
    "sns.boxplot(ucbt[~dic_is_outlier].DIC)\n",
    "plt.figure()\n",
    "sns.boxplot(ucbt[~fic_is_outlier].FIC)"
   ]
  },
  {
   "cell_type": "markdown",
   "metadata": {},
   "source": [
    "Así se ve mejor.\n",
    "\n",
    "Eliminemos los consumidores que tengan valores atípicos en DIC o en FIC y quedémonos sólo con las columnas que nos interesan. Además, agrupemos a los consumidores por transformador de distribución:\n",
    "\n"
   ]
  },
  {
   "cell_type": "code",
   "execution_count": 14,
   "metadata": {},
   "outputs": [
    {
     "data": {
      "text/html": [
       "<div>\n",
       "<style scoped>\n",
       "    .dataframe tbody tr th:only-of-type {\n",
       "        vertical-align: middle;\n",
       "    }\n",
       "\n",
       "    .dataframe tbody tr th {\n",
       "        vertical-align: top;\n",
       "    }\n",
       "\n",
       "    .dataframe thead th {\n",
       "        text-align: right;\n",
       "    }\n",
       "</style>\n",
       "<table border=\"1\" class=\"dataframe\">\n",
       "  <thead>\n",
       "    <tr style=\"text-align: right;\">\n",
       "      <th></th>\n",
       "      <th>COD_ID</th>\n",
       "      <th>CONJ</th>\n",
       "      <th>MUN</th>\n",
       "      <th>ARE_LOC</th>\n",
       "      <th>geometry</th>\n",
       "      <th>UNI_TR_S</th>\n",
       "      <th>DIC</th>\n",
       "      <th>FIC</th>\n",
       "      <th>CNAE</th>\n",
       "      <th>ENE_01</th>\n",
       "      <th>...</th>\n",
       "      <th>ENE_03</th>\n",
       "      <th>ENE_04</th>\n",
       "      <th>ENE_05</th>\n",
       "      <th>ENE_06</th>\n",
       "      <th>ENE_07</th>\n",
       "      <th>ENE_08</th>\n",
       "      <th>ENE_09</th>\n",
       "      <th>ENE_10</th>\n",
       "      <th>ENE_11</th>\n",
       "      <th>ENE_12</th>\n",
       "    </tr>\n",
       "  </thead>\n",
       "  <tbody>\n",
       "    <tr>\n",
       "      <th>0</th>\n",
       "      <td>4_1040341</td>\n",
       "      <td>12737</td>\n",
       "      <td>2805802</td>\n",
       "      <td>NU</td>\n",
       "      <td>POINT (627712.617 8776098.670)</td>\n",
       "      <td>1_SESAQ_1</td>\n",
       "      <td>7.050</td>\n",
       "      <td>8.0</td>\n",
       "      <td>0</td>\n",
       "      <td>147.0</td>\n",
       "      <td>...</td>\n",
       "      <td>150.0</td>\n",
       "      <td>115.0</td>\n",
       "      <td>140.0</td>\n",
       "      <td>162.0</td>\n",
       "      <td>148.0</td>\n",
       "      <td>202.0</td>\n",
       "      <td>204.0</td>\n",
       "      <td>189.0</td>\n",
       "      <td>195.0</td>\n",
       "      <td>160.0</td>\n",
       "    </tr>\n",
       "    <tr>\n",
       "      <th>1</th>\n",
       "      <td>4_1040306</td>\n",
       "      <td>12737</td>\n",
       "      <td>2805802</td>\n",
       "      <td>NU</td>\n",
       "      <td>POINT (626353.418 8777498.606)</td>\n",
       "      <td>1_SESAQ_1</td>\n",
       "      <td>5.470</td>\n",
       "      <td>7.0</td>\n",
       "      <td>0</td>\n",
       "      <td>275.0</td>\n",
       "      <td>...</td>\n",
       "      <td>263.0</td>\n",
       "      <td>256.0</td>\n",
       "      <td>204.0</td>\n",
       "      <td>367.0</td>\n",
       "      <td>275.0</td>\n",
       "      <td>241.0</td>\n",
       "      <td>278.0</td>\n",
       "      <td>247.0</td>\n",
       "      <td>296.0</td>\n",
       "      <td>287.0</td>\n",
       "    </tr>\n",
       "    <tr>\n",
       "      <th>2</th>\n",
       "      <td>4_1040035</td>\n",
       "      <td>12737</td>\n",
       "      <td>2805802</td>\n",
       "      <td>NU</td>\n",
       "      <td>POINT (635724.137 8773322.662)</td>\n",
       "      <td>1_SESAQ_1</td>\n",
       "      <td>7.130</td>\n",
       "      <td>7.0</td>\n",
       "      <td>0</td>\n",
       "      <td>1732.0</td>\n",
       "      <td>...</td>\n",
       "      <td>1413.0</td>\n",
       "      <td>1647.0</td>\n",
       "      <td>1632.0</td>\n",
       "      <td>1553.0</td>\n",
       "      <td>1590.0</td>\n",
       "      <td>1554.0</td>\n",
       "      <td>1773.0</td>\n",
       "      <td>1623.0</td>\n",
       "      <td>1871.0</td>\n",
       "      <td>1456.0</td>\n",
       "    </tr>\n",
       "    <tr>\n",
       "      <th>3</th>\n",
       "      <td>13_1130368</td>\n",
       "      <td>12743</td>\n",
       "      <td>2917904</td>\n",
       "      <td>NU</td>\n",
       "      <td>POINT (631104.558 8720058.235)</td>\n",
       "      <td>2_SETMG_1</td>\n",
       "      <td>9.965</td>\n",
       "      <td>6.0</td>\n",
       "      <td>0</td>\n",
       "      <td>2026.0</td>\n",
       "      <td>...</td>\n",
       "      <td>2199.0</td>\n",
       "      <td>1923.0</td>\n",
       "      <td>2929.0</td>\n",
       "      <td>2216.0</td>\n",
       "      <td>1782.0</td>\n",
       "      <td>3007.0</td>\n",
       "      <td>3407.0</td>\n",
       "      <td>2763.0</td>\n",
       "      <td>3321.0</td>\n",
       "      <td>2949.0</td>\n",
       "    </tr>\n",
       "    <tr>\n",
       "      <th>4</th>\n",
       "      <td>4_1040036</td>\n",
       "      <td>12737</td>\n",
       "      <td>2805802</td>\n",
       "      <td>NU</td>\n",
       "      <td>POINT (638696.486 8773991.732)</td>\n",
       "      <td>1_SESAQ_1</td>\n",
       "      <td>5.190</td>\n",
       "      <td>6.0</td>\n",
       "      <td>0</td>\n",
       "      <td>692.0</td>\n",
       "      <td>...</td>\n",
       "      <td>604.0</td>\n",
       "      <td>697.0</td>\n",
       "      <td>728.0</td>\n",
       "      <td>577.0</td>\n",
       "      <td>544.0</td>\n",
       "      <td>593.0</td>\n",
       "      <td>590.0</td>\n",
       "      <td>532.0</td>\n",
       "      <td>653.0</td>\n",
       "      <td>608.0</td>\n",
       "    </tr>\n",
       "    <tr>\n",
       "      <th>...</th>\n",
       "      <td>...</td>\n",
       "      <td>...</td>\n",
       "      <td>...</td>\n",
       "      <td>...</td>\n",
       "      <td>...</td>\n",
       "      <td>...</td>\n",
       "      <td>...</td>\n",
       "      <td>...</td>\n",
       "      <td>...</td>\n",
       "      <td>...</td>\n",
       "      <td>...</td>\n",
       "      <td>...</td>\n",
       "      <td>...</td>\n",
       "      <td>...</td>\n",
       "      <td>...</td>\n",
       "      <td>...</td>\n",
       "      <td>...</td>\n",
       "      <td>...</td>\n",
       "      <td>...</td>\n",
       "      <td>...</td>\n",
       "      <td>...</td>\n",
       "    </tr>\n",
       "    <tr>\n",
       "      <th>8828</th>\n",
       "      <td>14_1141247</td>\n",
       "      <td>12743</td>\n",
       "      <td>2927002</td>\n",
       "      <td>NU</td>\n",
       "      <td>POINT (626315.918 8721661.183)</td>\n",
       "      <td>2_SETMG_1</td>\n",
       "      <td>13.990</td>\n",
       "      <td>8.0</td>\n",
       "      <td>0</td>\n",
       "      <td>0.0</td>\n",
       "      <td>...</td>\n",
       "      <td>0.0</td>\n",
       "      <td>0.0</td>\n",
       "      <td>0.0</td>\n",
       "      <td>0.0</td>\n",
       "      <td>0.0</td>\n",
       "      <td>23.0</td>\n",
       "      <td>51.0</td>\n",
       "      <td>164.0</td>\n",
       "      <td>108.0</td>\n",
       "      <td>57.0</td>\n",
       "    </tr>\n",
       "    <tr>\n",
       "      <th>8829</th>\n",
       "      <td>8_1080557</td>\n",
       "      <td>12730</td>\n",
       "      <td>2802809</td>\n",
       "      <td>NU</td>\n",
       "      <td>POINT (673768.068 8730109.019)</td>\n",
       "      <td>1_SECON_1</td>\n",
       "      <td>11.435</td>\n",
       "      <td>6.0</td>\n",
       "      <td>0</td>\n",
       "      <td>69.0</td>\n",
       "      <td>...</td>\n",
       "      <td>58.0</td>\n",
       "      <td>57.0</td>\n",
       "      <td>91.0</td>\n",
       "      <td>103.0</td>\n",
       "      <td>86.0</td>\n",
       "      <td>91.0</td>\n",
       "      <td>110.0</td>\n",
       "      <td>107.0</td>\n",
       "      <td>97.0</td>\n",
       "      <td>115.0</td>\n",
       "    </tr>\n",
       "    <tr>\n",
       "      <th>8830</th>\n",
       "      <td>2_1020110</td>\n",
       "      <td>15600</td>\n",
       "      <td>2800670</td>\n",
       "      <td>UB</td>\n",
       "      <td>POINT (651696.927 8768311.258)</td>\n",
       "      <td>2_SEAUA_1</td>\n",
       "      <td>1.900</td>\n",
       "      <td>1.0</td>\n",
       "      <td>0</td>\n",
       "      <td>0.0</td>\n",
       "      <td>...</td>\n",
       "      <td>0.0</td>\n",
       "      <td>0.0</td>\n",
       "      <td>0.0</td>\n",
       "      <td>0.0</td>\n",
       "      <td>0.0</td>\n",
       "      <td>0.0</td>\n",
       "      <td>0.0</td>\n",
       "      <td>74.0</td>\n",
       "      <td>73.0</td>\n",
       "      <td>67.0</td>\n",
       "    </tr>\n",
       "    <tr>\n",
       "      <th>8831</th>\n",
       "      <td>9_2090010</td>\n",
       "      <td>12730</td>\n",
       "      <td>2806305</td>\n",
       "      <td>NU</td>\n",
       "      <td>POINT (672089.772 8741871.181)</td>\n",
       "      <td>1_SECON_1</td>\n",
       "      <td>10.600</td>\n",
       "      <td>5.0</td>\n",
       "      <td>3600601</td>\n",
       "      <td>1557.0</td>\n",
       "      <td>...</td>\n",
       "      <td>1611.0</td>\n",
       "      <td>1521.0</td>\n",
       "      <td>1711.0</td>\n",
       "      <td>1487.0</td>\n",
       "      <td>1502.0</td>\n",
       "      <td>1639.0</td>\n",
       "      <td>1719.0</td>\n",
       "      <td>1592.0</td>\n",
       "      <td>1630.0</td>\n",
       "      <td>1028.0</td>\n",
       "    </tr>\n",
       "    <tr>\n",
       "      <th>8832</th>\n",
       "      <td>5_1051610</td>\n",
       "      <td>15602</td>\n",
       "      <td>2802106</td>\n",
       "      <td>UB</td>\n",
       "      <td>POINT (669408.000 8755040.000)</td>\n",
       "      <td>1_SEEST_1</td>\n",
       "      <td>4.200</td>\n",
       "      <td>3.0</td>\n",
       "      <td>0</td>\n",
       "      <td>0.0</td>\n",
       "      <td>...</td>\n",
       "      <td>2.0</td>\n",
       "      <td>3.0</td>\n",
       "      <td>1.0</td>\n",
       "      <td>42.0</td>\n",
       "      <td>40.0</td>\n",
       "      <td>45.0</td>\n",
       "      <td>56.0</td>\n",
       "      <td>58.0</td>\n",
       "      <td>72.0</td>\n",
       "      <td>63.0</td>\n",
       "    </tr>\n",
       "  </tbody>\n",
       "</table>\n",
       "<p>8833 rows × 21 columns</p>\n",
       "</div>"
      ],
      "text/plain": [
       "          COD_ID   CONJ      MUN ARE_LOC                        geometry  \\\n",
       "0      4_1040341  12737  2805802      NU  POINT (627712.617 8776098.670)   \n",
       "1      4_1040306  12737  2805802      NU  POINT (626353.418 8777498.606)   \n",
       "2      4_1040035  12737  2805802      NU  POINT (635724.137 8773322.662)   \n",
       "3     13_1130368  12743  2917904      NU  POINT (631104.558 8720058.235)   \n",
       "4      4_1040036  12737  2805802      NU  POINT (638696.486 8773991.732)   \n",
       "...          ...    ...      ...     ...                             ...   \n",
       "8828  14_1141247  12743  2927002      NU  POINT (626315.918 8721661.183)   \n",
       "8829   8_1080557  12730  2802809      NU  POINT (673768.068 8730109.019)   \n",
       "8830   2_1020110  15600  2800670      UB  POINT (651696.927 8768311.258)   \n",
       "8831   9_2090010  12730  2806305      NU  POINT (672089.772 8741871.181)   \n",
       "8832   5_1051610  15602  2802106      UB  POINT (669408.000 8755040.000)   \n",
       "\n",
       "       UNI_TR_S     DIC  FIC     CNAE  ENE_01  ...  ENE_03  ENE_04  ENE_05  \\\n",
       "0     1_SESAQ_1   7.050  8.0        0   147.0  ...   150.0   115.0   140.0   \n",
       "1     1_SESAQ_1   5.470  7.0        0   275.0  ...   263.0   256.0   204.0   \n",
       "2     1_SESAQ_1   7.130  7.0        0  1732.0  ...  1413.0  1647.0  1632.0   \n",
       "3     2_SETMG_1   9.965  6.0        0  2026.0  ...  2199.0  1923.0  2929.0   \n",
       "4     1_SESAQ_1   5.190  6.0        0   692.0  ...   604.0   697.0   728.0   \n",
       "...         ...     ...  ...      ...     ...  ...     ...     ...     ...   \n",
       "8828  2_SETMG_1  13.990  8.0        0     0.0  ...     0.0     0.0     0.0   \n",
       "8829  1_SECON_1  11.435  6.0        0    69.0  ...    58.0    57.0    91.0   \n",
       "8830  2_SEAUA_1   1.900  1.0        0     0.0  ...     0.0     0.0     0.0   \n",
       "8831  1_SECON_1  10.600  5.0  3600601  1557.0  ...  1611.0  1521.0  1711.0   \n",
       "8832  1_SEEST_1   4.200  3.0        0     0.0  ...     2.0     3.0     1.0   \n",
       "\n",
       "      ENE_06  ENE_07  ENE_08  ENE_09  ENE_10  ENE_11  ENE_12  \n",
       "0      162.0   148.0   202.0   204.0   189.0   195.0   160.0  \n",
       "1      367.0   275.0   241.0   278.0   247.0   296.0   287.0  \n",
       "2     1553.0  1590.0  1554.0  1773.0  1623.0  1871.0  1456.0  \n",
       "3     2216.0  1782.0  3007.0  3407.0  2763.0  3321.0  2949.0  \n",
       "4      577.0   544.0   593.0   590.0   532.0   653.0   608.0  \n",
       "...      ...     ...     ...     ...     ...     ...     ...  \n",
       "8828     0.0     0.0    23.0    51.0   164.0   108.0    57.0  \n",
       "8829   103.0    86.0    91.0   110.0   107.0    97.0   115.0  \n",
       "8830     0.0     0.0     0.0     0.0    74.0    73.0    67.0  \n",
       "8831  1487.0  1502.0  1639.0  1719.0  1592.0  1630.0  1028.0  \n",
       "8832    42.0    40.0    45.0    56.0    58.0    72.0    63.0  \n",
       "\n",
       "[8833 rows x 21 columns]"
      ]
     },
     "execution_count": 14,
     "metadata": {},
     "output_type": "execute_result"
    }
   ],
   "source": [
    "clean_ucbt = ucbt[~dic_is_outlier & ~fic_is_outlier][ucbt_relevant_col_names]\n",
    "\n",
    "agg_dict = {\n",
    "    'UNI_TR_S': 'first',\n",
    "    'DIC': 'median',\n",
    "    'FIC': 'median',\n",
    "    'CNAE': pd.Series.mode\n",
    "}\n",
    "for ene_col_name in ene_col_names:\n",
    "    agg_dict[ene_col_name] = 'sum'\n",
    "ext_untrd = clean_ucbt.groupby('UNI_TR_D').agg(agg_dict)\n",
    "\n",
    "ext_untrd = untrd[['COD_ID', 'CONJ', 'MUN', 'ARE_LOC', 'geometry']].merge(ext_untrd, left_on='COD_ID', right_on='UNI_TR_D')\n",
    "\n",
    "ext_untrd"
   ]
  },
  {
   "cell_type": "markdown",
   "metadata": {},
   "source": [
    "3 - *Justifique los metodos utilizados para agrupar las variables numericas y categoricas.*"
   ]
  },
  {
   "cell_type": "markdown",
   "metadata": {},
   "source": [
    "Con respecto a las variables numéricas decido:\n",
    "\n",
    "sumar las de consumo de energía (ENE_*) para así tener cantidad de energía activa de cada transformador por período,\n",
    "sacar medidas de tendencia central tanto para DIC como para FIC para tener una idea de más o menos cuánto duran los cortes y qué tan frecuentes son en cada transformador, respectivamente. Dadas las formas de las distribuciones de DIC y FIC (no simétricas, la primera tal vez con forma de Possion y la segunda con forma exponencial o gamma), la medianas me parecen más adecuadas que las medias ya que estas últimas se ven bastante afectadas por valores muy grandes.\n",
    "Con respecto a las variables categóricas, me quedo con:\n",
    "\n",
    "unidad transformadora de segmentación (UNI_TR_S) para la cual elijo el primer elemento del grupo, ya que cada unidad transformadora de distribución tiene exactamente una unidad transformadora de segmentación.\n",
    "actividad económica (CNAE) para la cual elijo la moda como actividad principal por cada transformador.\n",
    "A CONJ, MUN y ARE_LOC las saco de untrd haciendo merge."
   ]
  },
  {
   "cell_type": "markdown",
   "metadata": {
    "colab_type": "text",
    "id": "L9pgI86JjO8v"
   },
   "source": [
    "## Informacion sobre subestacion\n",
    "\n",
    "4 - Analise la informacion disponible sobre los transformadores de segmentacion (UNI_TR_S > UNTRS)"
   ]
  },
  {
   "cell_type": "code",
   "execution_count": 15,
   "metadata": {
    "colab": {},
    "colab_type": "code",
    "id": "MywEq68gzzGh"
   },
   "outputs": [
    {
     "name": "stdout",
     "output_type": "stream",
     "text": [
      "(17, 53)\n"
     ]
    },
    {
     "data": {
      "text/html": [
       "<div>\n",
       "<style scoped>\n",
       "    .dataframe tbody tr th:only-of-type {\n",
       "        vertical-align: middle;\n",
       "    }\n",
       "\n",
       "    .dataframe tbody tr th {\n",
       "        vertical-align: top;\n",
       "    }\n",
       "\n",
       "    .dataframe thead th {\n",
       "        text-align: right;\n",
       "    }\n",
       "</style>\n",
       "<table border=\"1\" class=\"dataframe\">\n",
       "  <thead>\n",
       "    <tr style=\"text-align: right;\">\n",
       "      <th></th>\n",
       "      <th>DIST</th>\n",
       "      <th>POT_NOM</th>\n",
       "      <th>POT_F01</th>\n",
       "      <th>POT_F02</th>\n",
       "      <th>PER_FER</th>\n",
       "      <th>PER_TOT</th>\n",
       "      <th>BANC</th>\n",
       "      <th>CONJ</th>\n",
       "      <th>ENES_01</th>\n",
       "      <th>ENES_02</th>\n",
       "      <th>...</th>\n",
       "      <th>ENET_03</th>\n",
       "      <th>ENET_04</th>\n",
       "      <th>ENET_05</th>\n",
       "      <th>ENET_06</th>\n",
       "      <th>ENET_07</th>\n",
       "      <th>ENET_08</th>\n",
       "      <th>ENET_09</th>\n",
       "      <th>ENET_10</th>\n",
       "      <th>ENET_11</th>\n",
       "      <th>ENET_12</th>\n",
       "    </tr>\n",
       "  </thead>\n",
       "  <tbody>\n",
       "    <tr>\n",
       "      <th>count</th>\n",
       "      <td>17.0</td>\n",
       "      <td>17.000000</td>\n",
       "      <td>17.0</td>\n",
       "      <td>17.0</td>\n",
       "      <td>17.000000</td>\n",
       "      <td>17.000000</td>\n",
       "      <td>17.0</td>\n",
       "      <td>17.000000</td>\n",
       "      <td>1.700000e+01</td>\n",
       "      <td>1.700000e+01</td>\n",
       "      <td>...</td>\n",
       "      <td>17.0</td>\n",
       "      <td>17.0</td>\n",
       "      <td>17.0</td>\n",
       "      <td>17.0</td>\n",
       "      <td>17.0</td>\n",
       "      <td>17.0</td>\n",
       "      <td>17.0</td>\n",
       "      <td>17.0</td>\n",
       "      <td>17.0</td>\n",
       "      <td>17.0</td>\n",
       "    </tr>\n",
       "    <tr>\n",
       "      <th>mean</th>\n",
       "      <td>46.0</td>\n",
       "      <td>6.764706</td>\n",
       "      <td>0.0</td>\n",
       "      <td>0.0</td>\n",
       "      <td>0.131765</td>\n",
       "      <td>0.608824</td>\n",
       "      <td>0.0</td>\n",
       "      <td>14084.529412</td>\n",
       "      <td>1.397955e+07</td>\n",
       "      <td>1.426265e+07</td>\n",
       "      <td>...</td>\n",
       "      <td>0.0</td>\n",
       "      <td>0.0</td>\n",
       "      <td>0.0</td>\n",
       "      <td>0.0</td>\n",
       "      <td>0.0</td>\n",
       "      <td>0.0</td>\n",
       "      <td>0.0</td>\n",
       "      <td>0.0</td>\n",
       "      <td>0.0</td>\n",
       "      <td>0.0</td>\n",
       "    </tr>\n",
       "    <tr>\n",
       "      <th>std</th>\n",
       "      <td>0.0</td>\n",
       "      <td>3.509441</td>\n",
       "      <td>0.0</td>\n",
       "      <td>0.0</td>\n",
       "      <td>0.082404</td>\n",
       "      <td>0.175957</td>\n",
       "      <td>0.0</td>\n",
       "      <td>1473.628520</td>\n",
       "      <td>4.635029e+06</td>\n",
       "      <td>4.650536e+06</td>\n",
       "      <td>...</td>\n",
       "      <td>0.0</td>\n",
       "      <td>0.0</td>\n",
       "      <td>0.0</td>\n",
       "      <td>0.0</td>\n",
       "      <td>0.0</td>\n",
       "      <td>0.0</td>\n",
       "      <td>0.0</td>\n",
       "      <td>0.0</td>\n",
       "      <td>0.0</td>\n",
       "      <td>0.0</td>\n",
       "    </tr>\n",
       "    <tr>\n",
       "      <th>min</th>\n",
       "      <td>46.0</td>\n",
       "      <td>5.000000</td>\n",
       "      <td>0.0</td>\n",
       "      <td>0.0</td>\n",
       "      <td>0.100000</td>\n",
       "      <td>0.530000</td>\n",
       "      <td>0.0</td>\n",
       "      <td>12730.000000</td>\n",
       "      <td>1.041005e+07</td>\n",
       "      <td>1.067506e+07</td>\n",
       "      <td>...</td>\n",
       "      <td>0.0</td>\n",
       "      <td>0.0</td>\n",
       "      <td>0.0</td>\n",
       "      <td>0.0</td>\n",
       "      <td>0.0</td>\n",
       "      <td>0.0</td>\n",
       "      <td>0.0</td>\n",
       "      <td>0.0</td>\n",
       "      <td>0.0</td>\n",
       "      <td>0.0</td>\n",
       "    </tr>\n",
       "    <tr>\n",
       "      <th>25%</th>\n",
       "      <td>46.0</td>\n",
       "      <td>5.000000</td>\n",
       "      <td>0.0</td>\n",
       "      <td>0.0</td>\n",
       "      <td>0.100000</td>\n",
       "      <td>0.530000</td>\n",
       "      <td>0.0</td>\n",
       "      <td>12737.000000</td>\n",
       "      <td>1.160140e+07</td>\n",
       "      <td>1.165818e+07</td>\n",
       "      <td>...</td>\n",
       "      <td>0.0</td>\n",
       "      <td>0.0</td>\n",
       "      <td>0.0</td>\n",
       "      <td>0.0</td>\n",
       "      <td>0.0</td>\n",
       "      <td>0.0</td>\n",
       "      <td>0.0</td>\n",
       "      <td>0.0</td>\n",
       "      <td>0.0</td>\n",
       "      <td>0.0</td>\n",
       "    </tr>\n",
       "    <tr>\n",
       "      <th>50%</th>\n",
       "      <td>46.0</td>\n",
       "      <td>5.000000</td>\n",
       "      <td>0.0</td>\n",
       "      <td>0.0</td>\n",
       "      <td>0.100000</td>\n",
       "      <td>0.530000</td>\n",
       "      <td>0.0</td>\n",
       "      <td>12743.000000</td>\n",
       "      <td>1.290811e+07</td>\n",
       "      <td>1.340045e+07</td>\n",
       "      <td>...</td>\n",
       "      <td>0.0</td>\n",
       "      <td>0.0</td>\n",
       "      <td>0.0</td>\n",
       "      <td>0.0</td>\n",
       "      <td>0.0</td>\n",
       "      <td>0.0</td>\n",
       "      <td>0.0</td>\n",
       "      <td>0.0</td>\n",
       "      <td>0.0</td>\n",
       "      <td>0.0</td>\n",
       "    </tr>\n",
       "    <tr>\n",
       "      <th>75%</th>\n",
       "      <td>46.0</td>\n",
       "      <td>5.000000</td>\n",
       "      <td>0.0</td>\n",
       "      <td>0.0</td>\n",
       "      <td>0.100000</td>\n",
       "      <td>0.530000</td>\n",
       "      <td>0.0</td>\n",
       "      <td>15601.000000</td>\n",
       "      <td>1.352022e+07</td>\n",
       "      <td>1.388548e+07</td>\n",
       "      <td>...</td>\n",
       "      <td>0.0</td>\n",
       "      <td>0.0</td>\n",
       "      <td>0.0</td>\n",
       "      <td>0.0</td>\n",
       "      <td>0.0</td>\n",
       "      <td>0.0</td>\n",
       "      <td>0.0</td>\n",
       "      <td>0.0</td>\n",
       "      <td>0.0</td>\n",
       "      <td>0.0</td>\n",
       "    </tr>\n",
       "    <tr>\n",
       "      <th>max</th>\n",
       "      <td>46.0</td>\n",
       "      <td>15.000000</td>\n",
       "      <td>0.0</td>\n",
       "      <td>0.0</td>\n",
       "      <td>0.350000</td>\n",
       "      <td>1.060000</td>\n",
       "      <td>0.0</td>\n",
       "      <td>15602.000000</td>\n",
       "      <td>2.589224e+07</td>\n",
       "      <td>2.617161e+07</td>\n",
       "      <td>...</td>\n",
       "      <td>0.0</td>\n",
       "      <td>0.0</td>\n",
       "      <td>0.0</td>\n",
       "      <td>0.0</td>\n",
       "      <td>0.0</td>\n",
       "      <td>0.0</td>\n",
       "      <td>0.0</td>\n",
       "      <td>0.0</td>\n",
       "      <td>0.0</td>\n",
       "      <td>0.0</td>\n",
       "    </tr>\n",
       "  </tbody>\n",
       "</table>\n",
       "<p>8 rows × 32 columns</p>\n",
       "</div>"
      ],
      "text/plain": [
       "       DIST    POT_NOM  POT_F01  POT_F02    PER_FER    PER_TOT  BANC  \\\n",
       "count  17.0  17.000000     17.0     17.0  17.000000  17.000000  17.0   \n",
       "mean   46.0   6.764706      0.0      0.0   0.131765   0.608824   0.0   \n",
       "std     0.0   3.509441      0.0      0.0   0.082404   0.175957   0.0   \n",
       "min    46.0   5.000000      0.0      0.0   0.100000   0.530000   0.0   \n",
       "25%    46.0   5.000000      0.0      0.0   0.100000   0.530000   0.0   \n",
       "50%    46.0   5.000000      0.0      0.0   0.100000   0.530000   0.0   \n",
       "75%    46.0   5.000000      0.0      0.0   0.100000   0.530000   0.0   \n",
       "max    46.0  15.000000      0.0      0.0   0.350000   1.060000   0.0   \n",
       "\n",
       "               CONJ       ENES_01       ENES_02  ...  ENET_03  ENET_04  \\\n",
       "count     17.000000  1.700000e+01  1.700000e+01  ...     17.0     17.0   \n",
       "mean   14084.529412  1.397955e+07  1.426265e+07  ...      0.0      0.0   \n",
       "std     1473.628520  4.635029e+06  4.650536e+06  ...      0.0      0.0   \n",
       "min    12730.000000  1.041005e+07  1.067506e+07  ...      0.0      0.0   \n",
       "25%    12737.000000  1.160140e+07  1.165818e+07  ...      0.0      0.0   \n",
       "50%    12743.000000  1.290811e+07  1.340045e+07  ...      0.0      0.0   \n",
       "75%    15601.000000  1.352022e+07  1.388548e+07  ...      0.0      0.0   \n",
       "max    15602.000000  2.589224e+07  2.617161e+07  ...      0.0      0.0   \n",
       "\n",
       "       ENET_05  ENET_06  ENET_07  ENET_08  ENET_09  ENET_10  ENET_11  ENET_12  \n",
       "count     17.0     17.0     17.0     17.0     17.0     17.0     17.0     17.0  \n",
       "mean       0.0      0.0      0.0      0.0      0.0      0.0      0.0      0.0  \n",
       "std        0.0      0.0      0.0      0.0      0.0      0.0      0.0      0.0  \n",
       "min        0.0      0.0      0.0      0.0      0.0      0.0      0.0      0.0  \n",
       "25%        0.0      0.0      0.0      0.0      0.0      0.0      0.0      0.0  \n",
       "50%        0.0      0.0      0.0      0.0      0.0      0.0      0.0      0.0  \n",
       "75%        0.0      0.0      0.0      0.0      0.0      0.0      0.0      0.0  \n",
       "max        0.0      0.0      0.0      0.0      0.0      0.0      0.0      0.0  \n",
       "\n",
       "[8 rows x 32 columns]"
      ]
     },
     "execution_count": 15,
     "metadata": {},
     "output_type": "execute_result"
    }
   ],
   "source": [
    "print(untrs.shape)\n",
    "untrs.describe()"
   ]
  },
  {
   "cell_type": "code",
   "execution_count": 16,
   "metadata": {},
   "outputs": [
    {
     "name": "stdout",
     "output_type": "stream",
     "text": [
      "       COD_ID    SUB   BARR_1   BARR_2   BARR_3        PAC_1\n",
      "0   2_SETMG_1  SETMG  SETMG_1  SETMG_1           SETMG_1_2_2\n",
      "1   1_SEITI_1  SEITI  SEITI_1  SEITI_1           SEITI_1_1_2\n",
      "2   2_SEAUA_1  SEAUA  SEAUA_1  SEAUA_1           SEAUA_1_2_2\n",
      "3   1_SETMG_1  SETMG  SETMG_1  SETMG_1           SETMG_1_1_2\n",
      "4   1_SEAUA_1  SEAUA  SEAUA_1  SEAUA_1  SEAUA_2  SEAUA_1_1_2\n",
      "5   2_SEITI_1  SEITI  SEITI_1  SEITI_1           SEITI_1_2_2\n",
      "6   1_SESAQ_1  SESAQ  SESAQ_1  SESAQ_1           SESAQ_1_1_2\n",
      "7   1_SECON_1  SECON  SECON_1  SECON_1           SECON_1_1_2\n",
      "8   3_SEITI_1  SEITI  SEITI_1  SEITI_1           SEITI_1_3_2\n",
      "9   2_SESAQ_1  SESAQ  SESAQ_1  SESAQ_1           SESAQ_1_2_2\n",
      "10  3_SETMG_1  SETMG  SETMG_1  SETMG_1           SETMG_1_3_2\n",
      "11  3_SESAQ_1  SESAQ  SESAQ_1  SESAQ_1           SESAQ_1_3_2\n",
      "12  3_SEAUA_1  SEAUA  SEAUA_1  SEAUA_1           SEAUA_1_3_2\n",
      "13  3_SECON_1  SECON  SECON_1  SECON_1           SECON_1_3_2\n",
      "14  2_SECON_1  SECON  SECON_1  SECON_1           SECON_1_2_2\n",
      "15  1_SEEST_1  SEEST  SEEST_1  SEEST_1           SEEST_1_1_2\n",
      "16  2_SEEST_1  SEEST  SEEST_1  SEEST_1           SEEST_1_2_2\n",
      "COD_ID    17\n",
      "SUB        6\n",
      "BARR_1     6\n",
      "BARR_2     6\n",
      "BARR_3     2\n",
      "PAC_1     17\n",
      "dtype: int64\n",
      "\n",
      "          PAC_2 PAC_3  DIST FAS_CON_P FAS_CON_S FAS_CON_T\n",
      "0   SETMG_1_2_1          46       ABC       ABC         0\n",
      "1   SEITI_1_1_1          46       ABC       ABC         0\n",
      "2   SEAUA_1_2_1          46       ABC       ABC         0\n",
      "3   SETMG_1_1_1          46       ABC       ABC         0\n",
      "4   SEAUA_1_1_1          46       ABC       ABC         0\n",
      "5   SEITI_1_2_1          46       ABC       ABC         0\n",
      "6   SESAQ_1_1_1          46       ABC       ABC         0\n",
      "7   SECON_1_1_1          46       ABC       ABC         0\n",
      "8   SEITI_1_3_1          46       ABC       ABC         0\n",
      "9   SESAQ_1_2_1          46       ABC       ABC         0\n",
      "10  SETMG_1_3_1          46       ABC       ABC         0\n",
      "11  SESAQ_1_3_1          46       ABC       ABC         0\n",
      "12  SEAUA_1_3_1          46       ABC       ABC         0\n",
      "13  SECON_1_3_1          46       ABC       ABC         0\n",
      "14  SECON_1_2_1          46       ABC       ABC         0\n",
      "15  SEEST_1_1_1          46       ABC       ABC         0\n",
      "16  SEEST_1_2_1          46       ABC       ABC         0\n",
      "PAC_2        17\n",
      "PAC_3         1\n",
      "DIST          1\n",
      "FAS_CON_P     1\n",
      "FAS_CON_S     1\n",
      "FAS_CON_T     1\n",
      "dtype: int64\n",
      "\n",
      "   SIT_ATIV TIP_UNID POS  POT_NOM  POT_F01  POT_F02\n",
      "0        AT       41  PD      5.0      0.0      0.0\n",
      "1        AT       41  PD     10.0      0.0      0.0\n",
      "2        AT       41  PD      5.0      0.0      0.0\n",
      "3        AT       41  PD      5.0      0.0      0.0\n",
      "4        AT       41  PD      5.0      0.0      0.0\n",
      "5        AT       41  PD     10.0      0.0      0.0\n",
      "6        AT       41  PD      5.0      0.0      0.0\n",
      "7        AT       41  PD      5.0      0.0      0.0\n",
      "8        AT       41  PD      5.0      0.0      0.0\n",
      "9        AT       41  PD      5.0      0.0      0.0\n",
      "10       AT       41  PD      5.0      0.0      0.0\n",
      "11       AT       41  PD      5.0      0.0      0.0\n",
      "12       AT       41  PD      5.0      0.0      0.0\n",
      "13       AT       41  PD      5.0      0.0      0.0\n",
      "14       AT       41  PD      5.0      0.0      0.0\n",
      "15       AT       41  PD     15.0      0.0      0.0\n",
      "16       AT       41  PD     15.0      0.0      0.0\n",
      "SIT_ATIV    1\n",
      "TIP_UNID    1\n",
      "POS         1\n",
      "POT_NOM     3\n",
      "POT_F01     1\n",
      "POT_F02     1\n",
      "dtype: int64\n",
      "\n",
      "    PER_FER  PER_TOT  BANC     DAT_CON   CONJ      MUN\n",
      "0      0.10     0.53     0  31/12/2006  12743  2807501\n",
      "1      0.12     0.67     0  31/12/1988  15601  2803005\n",
      "2      0.10     0.53     0  31/12/2010  15600  2800407\n",
      "3      0.10     0.53     0  31/12/2002  12743  2807501\n",
      "4      0.10     0.53     0  31/12/2010  15600  2800407\n",
      "5      0.12     0.67     0  31/03/1984  15601  2803005\n",
      "6      0.10     0.53     0  31/12/1986  12737  2807402\n",
      "7      0.10     0.53     0  01/09/2003  12730  2801702\n",
      "8      0.10     0.53     0  31/12/1990  15601  2803005\n",
      "9      0.10     0.53     0  31/12/1995  12737  2807402\n",
      "10     0.10     0.53     0  31/12/2008  12743  2807501\n",
      "11     0.10     0.53     0  31/12/1997  12737  2807402\n",
      "12     0.10     0.53     0  31/12/2010  15600  2800407\n",
      "13     0.10     0.53     0  01/09/2003  12730  2801702\n",
      "14     0.10     0.53     0  01/09/2003  12730  2801702\n",
      "15     0.35     1.06     0  30/04/2012  15602  2802106\n",
      "16     0.35     1.06     0  30/04/2012  15602  2802106\n",
      "PER_FER     3\n",
      "PER_TOT     3\n",
      "BANC        1\n",
      "DAT_CON    12\n",
      "CONJ        6\n",
      "MUN         6\n",
      "dtype: int64\n",
      "\n",
      "   TIP_TRAFO ALOC_PERD     ENES_01     ENES_02     ENES_03     ENES_04\n",
      "0          T        A1  12908106.0  13400448.0  12944612.0  12976988.0\n",
      "1          T        A1  11601402.0  11658176.0  11777406.0  11524840.0\n",
      "2          T        A1  13516184.0  13754766.0  13210632.0  13732300.0\n",
      "3          T        A1  12908106.0  13400448.0  12944612.0  12976988.0\n",
      "4          T        A1  13516184.0  13754766.0  13210632.0  13732300.0\n",
      "5          T        A1  11601402.0  11658176.0  11777406.0  11524840.0\n",
      "6          T        A1  13520222.0  13885480.0  13310184.0  13444950.0\n",
      "7          T        A1  10410053.0  10675065.0   9629278.0   9519481.0\n",
      "8          T        A1  11601402.0  11658176.0  11777406.0  11524840.0\n",
      "9          T        A1  13520222.0  13885480.0  13310184.0  13444950.0\n",
      "10         T        A1  12908106.0  13400448.0  12944612.0  12976988.0\n",
      "11         T        A1  13520222.0  13885480.0  13310184.0  13444950.0\n",
      "12         T        A1  13516184.0  13754766.0  13210632.0  13732300.0\n",
      "13         T        A1  10410053.0  10675065.0   9629278.0   9519481.0\n",
      "14         T        A1  10410053.0  10675065.0   9629278.0   9519481.0\n",
      "15         T        A1  25892236.0  26171614.0  25623588.0  25241526.0\n",
      "16         T        A1  25892236.0  26171614.0  25623588.0  25241526.0\n",
      "TIP_TRAFO    1\n",
      "ALOC_PERD    1\n",
      "ENES_01      6\n",
      "ENES_02      6\n",
      "ENES_03      6\n",
      "ENES_04      6\n",
      "dtype: int64\n",
      "\n",
      "       ENES_05     ENES_06     ENES_07     ENES_08     ENES_09     ENES_10\n",
      "0   12695126.0  12055354.0  11296270.0  12919734.0  11518296.0  12361118.0\n",
      "1   11272458.0  10644496.0  10309996.0  10780708.0  11136068.0  11253190.0\n",
      "2   13275176.0  12499754.0  11890812.0  12211838.0  12777444.0  12517464.0\n",
      "3   12695126.0  12055354.0  11296270.0  12919734.0  11518296.0  12361118.0\n",
      "4   13275176.0  12499754.0  11890812.0  12211838.0  12777444.0  12517464.0\n",
      "5   11272458.0  10644496.0  10309996.0  10780708.0  11136068.0  11253190.0\n",
      "6   13191438.0  12313358.0  11755778.0  12337156.0  12848866.0  12691834.0\n",
      "7    8886469.0   8563985.0   7908330.0   8312732.0   8856697.0   8965352.0\n",
      "8   11272458.0  10644496.0  10309996.0  10780708.0  11136068.0  11253190.0\n",
      "9   13191438.0  12313358.0  11755778.0  12337156.0  12848866.0  12691834.0\n",
      "10  12695126.0  12055354.0  11296270.0  12919734.0  11518296.0  12361118.0\n",
      "11  13191438.0  12313358.0  11755778.0  12337156.0  12848866.0  12691834.0\n",
      "12  13275176.0  12499754.0  11890812.0  12211838.0  12777444.0  12517464.0\n",
      "13   8886469.0   8563985.0   7908330.0   8312732.0   8856697.0   8965352.0\n",
      "14   8886469.0   8563985.0   7908330.0   8312732.0   8856697.0   8965352.0\n",
      "15  23860178.0  23318148.0  21736636.0  22637354.0  23495890.0  23170234.0\n",
      "16  23860178.0  23318148.0  21736636.0  22637354.0  23495890.0  23170234.0\n",
      "ENES_05    6\n",
      "ENES_06    6\n",
      "ENES_07    6\n",
      "ENES_08    6\n",
      "ENES_09    6\n",
      "ENES_10    6\n",
      "dtype: int64\n",
      "\n",
      "       ENES_11     ENES_12  ENET_01  ENET_02  ENET_03  ENET_04\n",
      "0   13425248.0  12436300.0      0.0      0.0      0.0      0.0\n",
      "1   12102974.0  11545548.0      0.0      0.0      0.0      0.0\n",
      "2   13914958.0  12711526.0      0.0      0.0      0.0      0.0\n",
      "3   13425248.0  12436300.0      0.0      0.0      0.0      0.0\n",
      "4   13914958.0  12711526.0      0.0      0.0      0.0      0.0\n",
      "5   12102974.0  11545548.0      0.0      0.0      0.0      0.0\n",
      "6   13943276.0  13033788.0      0.0      0.0      0.0      0.0\n",
      "7    9627315.0   9212908.0      0.0      0.0      0.0      0.0\n",
      "8   12102974.0  11545548.0      0.0      0.0      0.0      0.0\n",
      "9   13943276.0  13033788.0      0.0      0.0      0.0      0.0\n",
      "10  13425248.0  12436300.0      0.0      0.0      0.0      0.0\n",
      "11  13943276.0  13033788.0      0.0      0.0      0.0      0.0\n",
      "12  13914958.0  12711526.0      0.0      0.0      0.0      0.0\n",
      "13   9627315.0   9212908.0      0.0      0.0      0.0      0.0\n",
      "14   9627315.0   9212908.0      0.0      0.0      0.0      0.0\n",
      "15  24751778.0  23572646.0      0.0      0.0      0.0      0.0\n",
      "16  24751778.0  23572646.0      0.0      0.0      0.0      0.0\n",
      "ENES_11    6\n",
      "ENES_12    6\n",
      "ENET_01    1\n",
      "ENET_02    1\n",
      "ENET_03    1\n",
      "ENET_04    1\n",
      "dtype: int64\n",
      "\n",
      "    ENET_05  ENET_06  ENET_07  ENET_08  ENET_09  ENET_10\n",
      "0       0.0      0.0      0.0      0.0      0.0      0.0\n",
      "1       0.0      0.0      0.0      0.0      0.0      0.0\n",
      "2       0.0      0.0      0.0      0.0      0.0      0.0\n",
      "3       0.0      0.0      0.0      0.0      0.0      0.0\n",
      "4       0.0      0.0      0.0      0.0      0.0      0.0\n",
      "5       0.0      0.0      0.0      0.0      0.0      0.0\n",
      "6       0.0      0.0      0.0      0.0      0.0      0.0\n",
      "7       0.0      0.0      0.0      0.0      0.0      0.0\n",
      "8       0.0      0.0      0.0      0.0      0.0      0.0\n",
      "9       0.0      0.0      0.0      0.0      0.0      0.0\n",
      "10      0.0      0.0      0.0      0.0      0.0      0.0\n",
      "11      0.0      0.0      0.0      0.0      0.0      0.0\n",
      "12      0.0      0.0      0.0      0.0      0.0      0.0\n",
      "13      0.0      0.0      0.0      0.0      0.0      0.0\n",
      "14      0.0      0.0      0.0      0.0      0.0      0.0\n",
      "15      0.0      0.0      0.0      0.0      0.0      0.0\n",
      "16      0.0      0.0      0.0      0.0      0.0      0.0\n",
      "ENET_05    1\n",
      "ENET_06    1\n",
      "ENET_07    1\n",
      "ENET_08    1\n",
      "ENET_09    1\n",
      "ENET_10    1\n",
      "dtype: int64\n",
      "\n",
      "    ENET_11  ENET_12 DESCR ARE_LOC                     geometry\n",
      "0       0.0      0.0            NU  POINT (-37.83698 -11.37108)\n",
      "1       0.0      0.0            NU  POINT (-37.78467 -11.26908)\n",
      "2       0.0      0.0            NU  POINT (-37.62577 -11.26438)\n",
      "3       0.0      0.0            NU  POINT (-37.83698 -11.37108)\n",
      "4       0.0      0.0            NU  POINT (-37.62577 -11.26438)\n",
      "5       0.0      0.0            NU  POINT (-37.78467 -11.26908)\n",
      "6       0.0      0.0            NU  POINT (-37.85778 -11.11692)\n",
      "7       0.0      0.0            NU  POINT (-37.48668 -11.47918)\n",
      "8       0.0      0.0            NU  POINT (-37.78467 -11.26908)\n",
      "9       0.0      0.0            NU  POINT (-37.85778 -11.11692)\n",
      "10      0.0      0.0            NU  POINT (-37.83698 -11.37108)\n",
      "11      0.0      0.0            NU  POINT (-37.85778 -11.11692)\n",
      "12      0.0      0.0            NU  POINT (-37.62577 -11.26438)\n",
      "13      0.0      0.0            NU  POINT (-37.48668 -11.47918)\n",
      "14      0.0      0.0            NU  POINT (-37.48668 -11.47918)\n",
      "15      0.0      0.0            NU  POINT (-37.44029 -11.26357)\n",
      "16      0.0      0.0            NU  POINT (-37.44029 -11.26357)\n",
      "ENET_11     1\n",
      "ENET_12     1\n",
      "DESCR       1\n",
      "ARE_LOC     1\n",
      "geometry    6\n",
      "dtype: int64\n",
      "\n"
     ]
    }
   ],
   "source": [
    "n_cols_p_step = 6\n",
    "for i in range(0, len(untrs.columns), n_cols_p_step):\n",
    "    col_names = untrs.columns[i:i + n_cols_p_step]\n",
    "    print(untrs[col_names])\n",
    "    print(untrs[col_names].nunique())\n",
    "    print()"
   ]
  },
  {
   "cell_type": "markdown",
   "metadata": {},
   "source": [
    "5 - *Seleccione las variables relevantes, realize tratamiento de valores invalidos y outliers correspondientes. Agrupe los valores por UNTRD y agregue al dataset.*"
   ]
  },
  {
   "cell_type": "code",
   "execution_count": 17,
   "metadata": {},
   "outputs": [
    {
     "data": {
      "text/html": [
       "<div>\n",
       "<style scoped>\n",
       "    .dataframe tbody tr th:only-of-type {\n",
       "        vertical-align: middle;\n",
       "    }\n",
       "\n",
       "    .dataframe tbody tr th {\n",
       "        vertical-align: top;\n",
       "    }\n",
       "\n",
       "    .dataframe thead th {\n",
       "        text-align: right;\n",
       "    }\n",
       "</style>\n",
       "<table border=\"1\" class=\"dataframe\">\n",
       "  <thead>\n",
       "    <tr style=\"text-align: right;\">\n",
       "      <th></th>\n",
       "      <th>COD_ID</th>\n",
       "      <th>CONJ</th>\n",
       "      <th>MUN</th>\n",
       "      <th>ARE_LOC</th>\n",
       "      <th>geometry</th>\n",
       "      <th>UNI_TR_S</th>\n",
       "      <th>DIC</th>\n",
       "      <th>FIC</th>\n",
       "      <th>CNAE</th>\n",
       "      <th>ENE_01</th>\n",
       "      <th>...</th>\n",
       "      <th>TR_S_ENES_03</th>\n",
       "      <th>TR_S_ENES_04</th>\n",
       "      <th>TR_S_ENES_05</th>\n",
       "      <th>TR_S_ENES_06</th>\n",
       "      <th>TR_S_ENES_07</th>\n",
       "      <th>TR_S_ENES_08</th>\n",
       "      <th>TR_S_ENES_09</th>\n",
       "      <th>TR_S_ENES_10</th>\n",
       "      <th>TR_S_ENES_11</th>\n",
       "      <th>TR_S_ENES_12</th>\n",
       "    </tr>\n",
       "  </thead>\n",
       "  <tbody>\n",
       "    <tr>\n",
       "      <th>0</th>\n",
       "      <td>4_1040341</td>\n",
       "      <td>12737</td>\n",
       "      <td>2805802</td>\n",
       "      <td>NU</td>\n",
       "      <td>POINT (627712.617 8776098.670)</td>\n",
       "      <td>1_SESAQ_1</td>\n",
       "      <td>7.050</td>\n",
       "      <td>8.0</td>\n",
       "      <td>0</td>\n",
       "      <td>147.0</td>\n",
       "      <td>...</td>\n",
       "      <td>13310184.0</td>\n",
       "      <td>13444950.0</td>\n",
       "      <td>13191438.0</td>\n",
       "      <td>12313358.0</td>\n",
       "      <td>11755778.0</td>\n",
       "      <td>12337156.0</td>\n",
       "      <td>12848866.0</td>\n",
       "      <td>12691834.0</td>\n",
       "      <td>13943276.0</td>\n",
       "      <td>13033788.0</td>\n",
       "    </tr>\n",
       "    <tr>\n",
       "      <th>1</th>\n",
       "      <td>4_1040306</td>\n",
       "      <td>12737</td>\n",
       "      <td>2805802</td>\n",
       "      <td>NU</td>\n",
       "      <td>POINT (626353.418 8777498.606)</td>\n",
       "      <td>1_SESAQ_1</td>\n",
       "      <td>5.470</td>\n",
       "      <td>7.0</td>\n",
       "      <td>0</td>\n",
       "      <td>275.0</td>\n",
       "      <td>...</td>\n",
       "      <td>13310184.0</td>\n",
       "      <td>13444950.0</td>\n",
       "      <td>13191438.0</td>\n",
       "      <td>12313358.0</td>\n",
       "      <td>11755778.0</td>\n",
       "      <td>12337156.0</td>\n",
       "      <td>12848866.0</td>\n",
       "      <td>12691834.0</td>\n",
       "      <td>13943276.0</td>\n",
       "      <td>13033788.0</td>\n",
       "    </tr>\n",
       "    <tr>\n",
       "      <th>2</th>\n",
       "      <td>4_1040035</td>\n",
       "      <td>12737</td>\n",
       "      <td>2805802</td>\n",
       "      <td>NU</td>\n",
       "      <td>POINT (635724.137 8773322.662)</td>\n",
       "      <td>1_SESAQ_1</td>\n",
       "      <td>7.130</td>\n",
       "      <td>7.0</td>\n",
       "      <td>0</td>\n",
       "      <td>1732.0</td>\n",
       "      <td>...</td>\n",
       "      <td>13310184.0</td>\n",
       "      <td>13444950.0</td>\n",
       "      <td>13191438.0</td>\n",
       "      <td>12313358.0</td>\n",
       "      <td>11755778.0</td>\n",
       "      <td>12337156.0</td>\n",
       "      <td>12848866.0</td>\n",
       "      <td>12691834.0</td>\n",
       "      <td>13943276.0</td>\n",
       "      <td>13033788.0</td>\n",
       "    </tr>\n",
       "    <tr>\n",
       "      <th>3</th>\n",
       "      <td>4_1040036</td>\n",
       "      <td>12737</td>\n",
       "      <td>2805802</td>\n",
       "      <td>NU</td>\n",
       "      <td>POINT (638696.486 8773991.732)</td>\n",
       "      <td>1_SESAQ_1</td>\n",
       "      <td>5.190</td>\n",
       "      <td>6.0</td>\n",
       "      <td>0</td>\n",
       "      <td>692.0</td>\n",
       "      <td>...</td>\n",
       "      <td>13310184.0</td>\n",
       "      <td>13444950.0</td>\n",
       "      <td>13191438.0</td>\n",
       "      <td>12313358.0</td>\n",
       "      <td>11755778.0</td>\n",
       "      <td>12337156.0</td>\n",
       "      <td>12848866.0</td>\n",
       "      <td>12691834.0</td>\n",
       "      <td>13943276.0</td>\n",
       "      <td>13033788.0</td>\n",
       "    </tr>\n",
       "    <tr>\n",
       "      <th>4</th>\n",
       "      <td>4_1040038</td>\n",
       "      <td>12737</td>\n",
       "      <td>2805802</td>\n",
       "      <td>NU</td>\n",
       "      <td>POINT (638310.799 8773035.106)</td>\n",
       "      <td>1_SESAQ_1</td>\n",
       "      <td>5.840</td>\n",
       "      <td>7.0</td>\n",
       "      <td>0</td>\n",
       "      <td>1297.0</td>\n",
       "      <td>...</td>\n",
       "      <td>13310184.0</td>\n",
       "      <td>13444950.0</td>\n",
       "      <td>13191438.0</td>\n",
       "      <td>12313358.0</td>\n",
       "      <td>11755778.0</td>\n",
       "      <td>12337156.0</td>\n",
       "      <td>12848866.0</td>\n",
       "      <td>12691834.0</td>\n",
       "      <td>13943276.0</td>\n",
       "      <td>13033788.0</td>\n",
       "    </tr>\n",
       "    <tr>\n",
       "      <th>...</th>\n",
       "      <td>...</td>\n",
       "      <td>...</td>\n",
       "      <td>...</td>\n",
       "      <td>...</td>\n",
       "      <td>...</td>\n",
       "      <td>...</td>\n",
       "      <td>...</td>\n",
       "      <td>...</td>\n",
       "      <td>...</td>\n",
       "      <td>...</td>\n",
       "      <td>...</td>\n",
       "      <td>...</td>\n",
       "      <td>...</td>\n",
       "      <td>...</td>\n",
       "      <td>...</td>\n",
       "      <td>...</td>\n",
       "      <td>...</td>\n",
       "      <td>...</td>\n",
       "      <td>...</td>\n",
       "      <td>...</td>\n",
       "      <td>...</td>\n",
       "    </tr>\n",
       "    <tr>\n",
       "      <th>8828</th>\n",
       "      <td>8_1080578</td>\n",
       "      <td>12730</td>\n",
       "      <td>2802809</td>\n",
       "      <td>NU</td>\n",
       "      <td>POINT (653013.399 8739601.889)</td>\n",
       "      <td>1_SECON_1</td>\n",
       "      <td>21.510</td>\n",
       "      <td>10.0</td>\n",
       "      <td>0</td>\n",
       "      <td>1206.0</td>\n",
       "      <td>...</td>\n",
       "      <td>9629278.0</td>\n",
       "      <td>9519481.0</td>\n",
       "      <td>8886469.0</td>\n",
       "      <td>8563985.0</td>\n",
       "      <td>7908330.0</td>\n",
       "      <td>8312732.0</td>\n",
       "      <td>8856697.0</td>\n",
       "      <td>8965352.0</td>\n",
       "      <td>9627315.0</td>\n",
       "      <td>9212908.0</td>\n",
       "    </tr>\n",
       "    <tr>\n",
       "      <th>8829</th>\n",
       "      <td>8_1080577</td>\n",
       "      <td>12730</td>\n",
       "      <td>2802809</td>\n",
       "      <td>NU</td>\n",
       "      <td>POINT (653309.344 8739968.353)</td>\n",
       "      <td>1_SECON_1</td>\n",
       "      <td>21.510</td>\n",
       "      <td>10.0</td>\n",
       "      <td>0</td>\n",
       "      <td>1469.0</td>\n",
       "      <td>...</td>\n",
       "      <td>9629278.0</td>\n",
       "      <td>9519481.0</td>\n",
       "      <td>8886469.0</td>\n",
       "      <td>8563985.0</td>\n",
       "      <td>7908330.0</td>\n",
       "      <td>8312732.0</td>\n",
       "      <td>8856697.0</td>\n",
       "      <td>8965352.0</td>\n",
       "      <td>9627315.0</td>\n",
       "      <td>9212908.0</td>\n",
       "    </tr>\n",
       "    <tr>\n",
       "      <th>8830</th>\n",
       "      <td>12_1120421</td>\n",
       "      <td>12730</td>\n",
       "      <td>2807600</td>\n",
       "      <td>NU</td>\n",
       "      <td>POINT (644710.911 8734252.079)</td>\n",
       "      <td>1_SECON_1</td>\n",
       "      <td>21.130</td>\n",
       "      <td>9.0</td>\n",
       "      <td>0</td>\n",
       "      <td>189.0</td>\n",
       "      <td>...</td>\n",
       "      <td>9629278.0</td>\n",
       "      <td>9519481.0</td>\n",
       "      <td>8886469.0</td>\n",
       "      <td>8563985.0</td>\n",
       "      <td>7908330.0</td>\n",
       "      <td>8312732.0</td>\n",
       "      <td>8856697.0</td>\n",
       "      <td>8965352.0</td>\n",
       "      <td>9627315.0</td>\n",
       "      <td>9212908.0</td>\n",
       "    </tr>\n",
       "    <tr>\n",
       "      <th>8831</th>\n",
       "      <td>8_1080557</td>\n",
       "      <td>12730</td>\n",
       "      <td>2802809</td>\n",
       "      <td>NU</td>\n",
       "      <td>POINT (673768.068 8730109.019)</td>\n",
       "      <td>1_SECON_1</td>\n",
       "      <td>11.435</td>\n",
       "      <td>6.0</td>\n",
       "      <td>0</td>\n",
       "      <td>69.0</td>\n",
       "      <td>...</td>\n",
       "      <td>9629278.0</td>\n",
       "      <td>9519481.0</td>\n",
       "      <td>8886469.0</td>\n",
       "      <td>8563985.0</td>\n",
       "      <td>7908330.0</td>\n",
       "      <td>8312732.0</td>\n",
       "      <td>8856697.0</td>\n",
       "      <td>8965352.0</td>\n",
       "      <td>9627315.0</td>\n",
       "      <td>9212908.0</td>\n",
       "    </tr>\n",
       "    <tr>\n",
       "      <th>8832</th>\n",
       "      <td>9_2090010</td>\n",
       "      <td>12730</td>\n",
       "      <td>2806305</td>\n",
       "      <td>NU</td>\n",
       "      <td>POINT (672089.772 8741871.181)</td>\n",
       "      <td>1_SECON_1</td>\n",
       "      <td>10.600</td>\n",
       "      <td>5.0</td>\n",
       "      <td>3600601</td>\n",
       "      <td>1557.0</td>\n",
       "      <td>...</td>\n",
       "      <td>9629278.0</td>\n",
       "      <td>9519481.0</td>\n",
       "      <td>8886469.0</td>\n",
       "      <td>8563985.0</td>\n",
       "      <td>7908330.0</td>\n",
       "      <td>8312732.0</td>\n",
       "      <td>8856697.0</td>\n",
       "      <td>8965352.0</td>\n",
       "      <td>9627315.0</td>\n",
       "      <td>9212908.0</td>\n",
       "    </tr>\n",
       "  </tbody>\n",
       "</table>\n",
       "<p>8833 rows × 45 columns</p>\n",
       "</div>"
      ],
      "text/plain": [
       "          COD_ID   CONJ      MUN ARE_LOC                        geometry  \\\n",
       "0      4_1040341  12737  2805802      NU  POINT (627712.617 8776098.670)   \n",
       "1      4_1040306  12737  2805802      NU  POINT (626353.418 8777498.606)   \n",
       "2      4_1040035  12737  2805802      NU  POINT (635724.137 8773322.662)   \n",
       "3      4_1040036  12737  2805802      NU  POINT (638696.486 8773991.732)   \n",
       "4      4_1040038  12737  2805802      NU  POINT (638310.799 8773035.106)   \n",
       "...          ...    ...      ...     ...                             ...   \n",
       "8828   8_1080578  12730  2802809      NU  POINT (653013.399 8739601.889)   \n",
       "8829   8_1080577  12730  2802809      NU  POINT (653309.344 8739968.353)   \n",
       "8830  12_1120421  12730  2807600      NU  POINT (644710.911 8734252.079)   \n",
       "8831   8_1080557  12730  2802809      NU  POINT (673768.068 8730109.019)   \n",
       "8832   9_2090010  12730  2806305      NU  POINT (672089.772 8741871.181)   \n",
       "\n",
       "       UNI_TR_S     DIC   FIC     CNAE  ENE_01  ...  TR_S_ENES_03  \\\n",
       "0     1_SESAQ_1   7.050   8.0        0   147.0  ...    13310184.0   \n",
       "1     1_SESAQ_1   5.470   7.0        0   275.0  ...    13310184.0   \n",
       "2     1_SESAQ_1   7.130   7.0        0  1732.0  ...    13310184.0   \n",
       "3     1_SESAQ_1   5.190   6.0        0   692.0  ...    13310184.0   \n",
       "4     1_SESAQ_1   5.840   7.0        0  1297.0  ...    13310184.0   \n",
       "...         ...     ...   ...      ...     ...  ...           ...   \n",
       "8828  1_SECON_1  21.510  10.0        0  1206.0  ...     9629278.0   \n",
       "8829  1_SECON_1  21.510  10.0        0  1469.0  ...     9629278.0   \n",
       "8830  1_SECON_1  21.130   9.0        0   189.0  ...     9629278.0   \n",
       "8831  1_SECON_1  11.435   6.0        0    69.0  ...     9629278.0   \n",
       "8832  1_SECON_1  10.600   5.0  3600601  1557.0  ...     9629278.0   \n",
       "\n",
       "      TR_S_ENES_04  TR_S_ENES_05  TR_S_ENES_06  TR_S_ENES_07  TR_S_ENES_08  \\\n",
       "0       13444950.0    13191438.0    12313358.0    11755778.0    12337156.0   \n",
       "1       13444950.0    13191438.0    12313358.0    11755778.0    12337156.0   \n",
       "2       13444950.0    13191438.0    12313358.0    11755778.0    12337156.0   \n",
       "3       13444950.0    13191438.0    12313358.0    11755778.0    12337156.0   \n",
       "4       13444950.0    13191438.0    12313358.0    11755778.0    12337156.0   \n",
       "...            ...           ...           ...           ...           ...   \n",
       "8828     9519481.0     8886469.0     8563985.0     7908330.0     8312732.0   \n",
       "8829     9519481.0     8886469.0     8563985.0     7908330.0     8312732.0   \n",
       "8830     9519481.0     8886469.0     8563985.0     7908330.0     8312732.0   \n",
       "8831     9519481.0     8886469.0     8563985.0     7908330.0     8312732.0   \n",
       "8832     9519481.0     8886469.0     8563985.0     7908330.0     8312732.0   \n",
       "\n",
       "      TR_S_ENES_09  TR_S_ENES_10  TR_S_ENES_11  TR_S_ENES_12  \n",
       "0       12848866.0    12691834.0    13943276.0    13033788.0  \n",
       "1       12848866.0    12691834.0    13943276.0    13033788.0  \n",
       "2       12848866.0    12691834.0    13943276.0    13033788.0  \n",
       "3       12848866.0    12691834.0    13943276.0    13033788.0  \n",
       "4       12848866.0    12691834.0    13943276.0    13033788.0  \n",
       "...            ...           ...           ...           ...  \n",
       "8828     8856697.0     8965352.0     9627315.0     9212908.0  \n",
       "8829     8856697.0     8965352.0     9627315.0     9212908.0  \n",
       "8830     8856697.0     8965352.0     9627315.0     9212908.0  \n",
       "8831     8856697.0     8965352.0     9627315.0     9212908.0  \n",
       "8832     8856697.0     8965352.0     9627315.0     9212908.0  \n",
       "\n",
       "[8833 rows x 45 columns]"
      ]
     },
     "execution_count": 17,
     "metadata": {},
     "output_type": "execute_result"
    }
   ],
   "source": [
    "enes_col_names = ['ENES_{:02}'.format(i) for i in range(1, 13)]\n",
    "untrs_relevant_col_names = ['COD_ID', 'SUB', 'BARR_1', 'BARR_2', 'BARR_3',\n",
    "                            'POT_NOM', 'PER_FER', 'PER_TOT', 'DAT_CON',\n",
    "                            'CONJ', 'MUN', 'geometry'] + enes_col_names\n",
    "\n",
    "clean_untrs = untrs[untrs_relevant_col_names]\n",
    "\n",
    "dataframe = ext_untrd.merge(clean_untrs.add_prefix('TR_S_'), left_on='UNI_TR_S', right_on='TR_S_COD_ID')\n",
    "\n",
    "dataframe"
   ]
  },
  {
   "cell_type": "markdown",
   "metadata": {
    "colab_type": "text",
    "id": "M7DVfIv9kRca"
   },
   "source": [
    "## Generacion de variables en base a puntos de referencia\n",
    "\n",
    "5 - *Calcule la distancia euclideana de cada untrd al correspondiente untrs y adicione al dataset.*"
   ]
  },
  {
   "cell_type": "code",
   "execution_count": 22,
   "metadata": {},
   "outputs": [],
   "source": [
    "dataframe['DIST'] = dataframe.geometry.distance(dataframe.TR_S_geometry[0])"
   ]
  },
  {
   "cell_type": "markdown",
   "metadata": {},
   "source": [
    "6 - *Usando OSMnx descargue la informacion sobre caminos dentro del area de cobertura de la distribuidora. Cree variables para las distancias a autopistas (trunk), a caminos primarios (primary) y a caminos secundarios (secondary)*"
   ]
  },
  {
   "cell_type": "code",
   "execution_count": 18,
   "metadata": {
    "colab": {},
    "colab_type": "code",
    "id": "0i4vsOVXpl6Q"
   },
   "outputs": [],
   "source": [
    "#Calcule la distancia euclideana de cada untrd al correspondiente untrs y adicione al dataset.\n",
    "dist_untrs = untrd.distance(untrs.geometry[0])\n",
    "untrd['dist_untrs'] = dist_untrs"
   ]
  },
  {
   "cell_type": "code",
   "execution_count": 19,
   "metadata": {},
   "outputs": [],
   "source": [
    "#Cree una variable que sea la distancia media a los tres centros urbanos mas cercanos.\n",
    "## tres centros urbanos mas cercas\n",
    "centro_1 = 'Itabaianinha, Sergipe, Brazil'\n",
    "centro_2 = 'Tomar do Geru, Sergipe, Brazil'\n",
    "centro_3 = 'Arauá, Sergipe, Brazil'"
   ]
  },
  {
   "cell_type": "markdown",
   "metadata": {
    "colab_type": "text",
    "id": "Y8kY4fHOoZkF"
   },
   "source": [
    "## Generacion de variables con arboles de busqueda\n",
    "\n",
    "8 - Cree variables que indique la cantidad de consumidores en radios de 25, 50 y 100 metros del transformador.\n",
    "\n",
    "9 - Cree una variable indicando la distancia media de cada fila a los 5 untrd mas cercanos.\n",
    "\n",
    "10 - [Opcional] Usando OSMnx descargue los footprints de edificios disponibles, y cree una variable que indique la cantidad de edificios en un radio de 200 metros al transformador."
   ]
  },
  {
   "cell_type": "code",
   "execution_count": 21,
   "metadata": {
    "colab": {},
    "colab_type": "code",
    "id": "0_WPCpDDoB3O"
   },
   "outputs": [
    {
     "data": {
      "text/plain": [
       "(148801, 40)"
      ]
     },
     "execution_count": 21,
     "metadata": {},
     "output_type": "execute_result"
    }
   ],
   "source": [
    "# Cree variables que indique la cantidad de consumidores en radios de 25, 50 y 100 metros del transformador.\n",
    "ucbt = gpd.read_file(data_path, driver='FileGDB', layer='UCBT')\n",
    "ucbt = ucbt.to_crs(epsg=31984)\n",
    "ucbt.shape"
   ]
  },
  {
   "cell_type": "code",
   "execution_count": 22,
   "metadata": {},
   "outputs": [],
   "source": [
    "# Convertimos las coordenas a una matriz\n",
    "ucbt_loc_array = [x.coords[0] for x in ucbt.geometry]\n",
    "untrd_loc_array = [x.coords[0] for x in untrd.geometry]"
   ]
  },
  {
   "cell_type": "code",
   "execution_count": 23,
   "metadata": {},
   "outputs": [
    {
     "name": "stdout",
     "output_type": "stream",
     "text": [
      "[(627712.6169779997, 8776098.670127511), (626353.4179798126, 8777498.606078334), (632355.4149737856, 8753247.956105636), (635724.1370160332, 8773322.662057359), (631104.5580278498, 8720058.23505237), (638696.4859638879, 8773991.73208276), (638310.7990282972, 8773035.106081862), (623701.882989638, 8737730.572129583), (638236.557017495, 8772759.907124765), (626993.9699670533, 8775185.16404461)]\n"
     ]
    }
   ],
   "source": [
    "print(untrd_loc_array[:10])"
   ]
  },
  {
   "cell_type": "code",
   "execution_count": 24,
   "metadata": {},
   "outputs": [],
   "source": [
    "radio = 25\n",
    "radio1 = 50\n",
    "radio2 = 100\n",
    "tree = cKDTree(ucbt_loc_array)\n",
    "near_consumers = tree.query_ball_point(untrd_loc_array, radio)\n",
    "near_consumers1 = tree.query_ball_point(untrd_loc_array, radio1)\n",
    "near_consumers2 = tree.query_ball_point(untrd_loc_array, radio2)"
   ]
  },
  {
   "cell_type": "code",
   "execution_count": 25,
   "metadata": {},
   "outputs": [
    {
     "name": "stdout",
     "output_type": "stream",
     "text": [
      "[list([100083]) list([104711])\n",
      " list([15668, 15669, 15671, 15673, 15674, 15951, 15955, 69473, 69474, 69551, 69553, 122579, 122580])\n",
      " list([100959]) list([68479])\n",
      " list([100563, 100564, 100719, 100720, 100721, 100722, 110816])\n",
      " list([116692, 136261]) list([35337]) list([8748, 91949, 91950]) list([])]\n"
     ]
    }
   ],
   "source": [
    "print(near_consumers[:10])"
   ]
  },
  {
   "cell_type": "code",
   "execution_count": 26,
   "metadata": {},
   "outputs": [
    {
     "name": "stdout",
     "output_type": "stream",
     "text": [
      "1201\n"
     ]
    }
   ],
   "source": [
    "untrd['n_close_con'] = [len(c) for c in near_consumers2]\n",
    "untrd['is_urb'] =  untrd['n_close_con'] > 50\n",
    "print(len(untrd[untrd.is_urb == True]))"
   ]
  },
  {
   "cell_type": "markdown",
   "metadata": {
    "colab_type": "text",
    "id": "u12CHTmpppf7"
   },
   "source": [
    "## Generacion de grafos y calculo de rutas\n",
    "\n",
    "11 - Usando las tecnicas mostradas en el notebook sobre procesamiento de informacion georeferenciada, construya un grafo basado en la capa de linea de distribicion de media tension:\n",
    "  - Utilize los puntos de conexion PCON_1 y PCON_2 como nodos, y los segmentos como edges.\n",
    "  - Adicione COMP y COD_ID como atributos de edge (aristas)\n",
    "  - Asocie cada transformador untrd con un nodo\n",
    "  - Asocie cada punto de conexion los circuitos de media tension (CTMT) con la subestacion, a un nodo."
   ]
  },
  {
   "cell_type": "code",
   "execution_count": 28,
   "metadata": {},
   "outputs": [],
   "source": [
    "# Generar grafo basado en la red de distribucion\n",
    "SG = nx.Graph()\n",
    "SG.add_weighted_edges_from(ssmt[['PN_CON_1','PN_CON_2','COMP']].values.tolist(), weight='length')"
   ]
  },
  {
   "cell_type": "code",
   "execution_count": 29,
   "metadata": {},
   "outputs": [
    {
     "data": {
      "text/plain": [
       "{'length': 25.63}"
      ]
     },
     "execution_count": 29,
     "metadata": {},
     "output_type": "execute_result"
    }
   ],
   "source": [
    "SG.edges['671470', '671471']"
   ]
  },
  {
   "cell_type": "code",
   "execution_count": 30,
   "metadata": {},
   "outputs": [],
   "source": [
    "# Puedo agregar mas atributos despues de creado el grafo\n",
    "# Agrego el COD_ID de cada segmento como atributo de Edge\n",
    "ID_attr_dict = {tuple((x[0], x[1])): x[2:] for x in ssmt[['PN_CON_1','PN_CON_2','COD_ID','COMP']].values}\n",
    "nx.set_edge_attributes(SG, ID_attr_dict, 'SEG_ID')"
   ]
  },
  {
   "cell_type": "code",
   "execution_count": 31,
   "metadata": {},
   "outputs": [
    {
     "data": {
      "text/plain": [
       "((124647, 24),\n",
       " Index(['COD_ID', 'DIST', 'TIP_PN', 'POS', 'ESTR', 'MAT', 'ESF', 'ALT', 'CONJ',\n",
       "        'MUN', 'ODI', 'TI', 'CM', 'TUC', 'A1', 'A2', 'A3', 'A4', 'A5', 'A6',\n",
       "        'SITCONT', 'DESCR', 'ARE_LOC', 'geometry'],\n",
       "       dtype='object'))"
      ]
     },
     "execution_count": 31,
     "metadata": {},
     "output_type": "execute_result"
    }
   ],
   "source": [
    "ponnot = gpd.read_file(data_path, driver='FileGDB', layer='PONNOT')\n",
    "ponnot = ponnot.to_crs(epsg=31984)\n",
    "ponnot_loc_array = [x.coords[0] for x in ponnot.geometry]\n",
    "ponnot.shape, ponnot.columns"
   ]
  },
  {
   "cell_type": "markdown",
   "metadata": {},
   "source": [
    "### Create Graph"
   ]
  },
  {
   "cell_type": "code",
   "execution_count": 33,
   "metadata": {},
   "outputs": [],
   "source": [
    "pn_tree = cKDTree(ponnot_loc_array) # algorithm that makes a tree of nodes\n",
    "untrd_loc_array = [x.coords[0] for x in untrd.geometry]\n",
    "pnd, pni = pn_tree.query(untrd_loc_array, n_jobs=-1) # query the tree for the nearest node\n",
    "# pnd = distances to the nearest neighbors, pni = locations of the neighbors"
   ]
  },
  {
   "cell_type": "code",
   "execution_count": 35,
   "metadata": {},
   "outputs": [],
   "source": [
    "untrd['NODE'] = [ponnot.iloc[i].COD_ID for i in pni] "
   ]
  },
  {
   "cell_type": "markdown",
   "metadata": {},
   "source": [
    "### Set the CTMT for each circuit"
   ]
  },
  {
   "cell_type": "code",
   "execution_count": 36,
   "metadata": {},
   "outputs": [],
   "source": [
    "ctmt_endpoints = pd.read_csv('./data/endpoints_utf.csv')\n",
    "ep_dict = {row.CTMT: str(row.PONNOT) for i,row in ctmt_endpoints.iterrows()} \n",
    "# this is a dictionary of the post at the source (the subestacion) of the main line a.k.a. the \"ENDNODE\""
   ]
  },
  {
   "cell_type": "code",
   "execution_count": 37,
   "metadata": {},
   "outputs": [],
   "source": [
    "untrd['ENDNODE'] = untrd.CTMT.map(ep_dict)"
   ]
  },
  {
   "cell_type": "code",
   "execution_count": 38,
   "metadata": {},
   "outputs": [
    {
     "data": {
      "text/html": [
       "<div>\n",
       "<style scoped>\n",
       "    .dataframe tbody tr th:only-of-type {\n",
       "        vertical-align: middle;\n",
       "    }\n",
       "\n",
       "    .dataframe tbody tr th {\n",
       "        vertical-align: top;\n",
       "    }\n",
       "\n",
       "    .dataframe thead th {\n",
       "        text-align: right;\n",
       "    }\n",
       "</style>\n",
       "<table border=\"1\" class=\"dataframe\">\n",
       "  <thead>\n",
       "    <tr style=\"text-align: right;\">\n",
       "      <th></th>\n",
       "      <th>COD_ID</th>\n",
       "      <th>DIST</th>\n",
       "      <th>PAC_1</th>\n",
       "      <th>PAC_2</th>\n",
       "      <th>PAC_3</th>\n",
       "      <th>FAS_CON_P</th>\n",
       "      <th>FAS_CON_S</th>\n",
       "      <th>FAS_CON_T</th>\n",
       "      <th>SIT_ATIV</th>\n",
       "      <th>TIP_UNID</th>\n",
       "      <th>...</th>\n",
       "      <th>TIP_TRAFO</th>\n",
       "      <th>MRT</th>\n",
       "      <th>DESCR</th>\n",
       "      <th>ARE_LOC</th>\n",
       "      <th>geometry</th>\n",
       "      <th>dist_untrs</th>\n",
       "      <th>n_close_con</th>\n",
       "      <th>is_urb</th>\n",
       "      <th>NODE</th>\n",
       "      <th>ENDNODE</th>\n",
       "    </tr>\n",
       "  </thead>\n",
       "  <tbody>\n",
       "  </tbody>\n",
       "</table>\n",
       "<p>0 rows × 38 columns</p>\n",
       "</div>"
      ],
      "text/plain": [
       "Empty GeoDataFrame\n",
       "Columns: [COD_ID, DIST, PAC_1, PAC_2, PAC_3, FAS_CON_P, FAS_CON_S, FAS_CON_T, SIT_ATIV, TIP_UNID, POS, ATRB_PER, TEN_LIN_SE, CAP_ELO, CAP_CHA, TAP, CONF, POSTO, POT_NOM, PER_FER, PER_TOT, DAT_CON, CTMT, UNI_TR_S, SUB, CONJ, MUN, BANC, TIP_TRAFO, MRT, DESCR, ARE_LOC, geometry, dist_untrs, n_close_con, is_urb, NODE, ENDNODE]\n",
       "Index: []\n",
       "\n",
       "[0 rows x 38 columns]"
      ]
     },
     "execution_count": 38,
     "metadata": {},
     "output_type": "execute_result"
    }
   ],
   "source": [
    "untrd[untrd.NODE.isna()]"
   ]
  },
  {
   "cell_type": "code",
   "execution_count": 39,
   "metadata": {},
   "outputs": [
    {
     "data": {
      "text/html": [
       "<div>\n",
       "<style scoped>\n",
       "    .dataframe tbody tr th:only-of-type {\n",
       "        vertical-align: middle;\n",
       "    }\n",
       "\n",
       "    .dataframe tbody tr th {\n",
       "        vertical-align: top;\n",
       "    }\n",
       "\n",
       "    .dataframe thead th {\n",
       "        text-align: right;\n",
       "    }\n",
       "</style>\n",
       "<table border=\"1\" class=\"dataframe\">\n",
       "  <thead>\n",
       "    <tr style=\"text-align: right;\">\n",
       "      <th></th>\n",
       "      <th>COD_ID</th>\n",
       "      <th>DIST</th>\n",
       "      <th>PAC_1</th>\n",
       "      <th>PAC_2</th>\n",
       "      <th>PAC_3</th>\n",
       "      <th>FAS_CON_P</th>\n",
       "      <th>FAS_CON_S</th>\n",
       "      <th>FAS_CON_T</th>\n",
       "      <th>SIT_ATIV</th>\n",
       "      <th>TIP_UNID</th>\n",
       "      <th>...</th>\n",
       "      <th>TIP_TRAFO</th>\n",
       "      <th>MRT</th>\n",
       "      <th>DESCR</th>\n",
       "      <th>ARE_LOC</th>\n",
       "      <th>geometry</th>\n",
       "      <th>dist_untrs</th>\n",
       "      <th>n_close_con</th>\n",
       "      <th>is_urb</th>\n",
       "      <th>NODE</th>\n",
       "      <th>ENDNODE</th>\n",
       "    </tr>\n",
       "  </thead>\n",
       "  <tbody>\n",
       "    <tr>\n",
       "      <th>4434</th>\n",
       "      <td>5_2051999</td>\n",
       "      <td>46</td>\n",
       "      <td>1111871</td>\n",
       "      <td>ET5_2051999</td>\n",
       "      <td>0</td>\n",
       "      <td>ABC</td>\n",
       "      <td>ABCN</td>\n",
       "      <td>0</td>\n",
       "      <td>AT</td>\n",
       "      <td>38</td>\n",
       "      <td>...</td>\n",
       "      <td>T</td>\n",
       "      <td>0</td>\n",
       "      <td></td>\n",
       "      <td>NU</td>\n",
       "      <td>POINT (676658.220 8769770.402)</td>\n",
       "      <td>8.795851e+06</td>\n",
       "      <td>0</td>\n",
       "      <td>False</td>\n",
       "      <td>111187</td>\n",
       "      <td>NaN</td>\n",
       "    </tr>\n",
       "    <tr>\n",
       "      <th>4435</th>\n",
       "      <td>5_2052000</td>\n",
       "      <td>46</td>\n",
       "      <td>1111861</td>\n",
       "      <td>ET5_2052000</td>\n",
       "      <td>0</td>\n",
       "      <td>ABC</td>\n",
       "      <td>ABCN</td>\n",
       "      <td>0</td>\n",
       "      <td>AT</td>\n",
       "      <td>38</td>\n",
       "      <td>...</td>\n",
       "      <td>T</td>\n",
       "      <td>0</td>\n",
       "      <td></td>\n",
       "      <td>NU</td>\n",
       "      <td>POINT (677226.272 8769627.387)</td>\n",
       "      <td>8.795752e+06</td>\n",
       "      <td>0</td>\n",
       "      <td>False</td>\n",
       "      <td>111186</td>\n",
       "      <td>NaN</td>\n",
       "    </tr>\n",
       "    <tr>\n",
       "      <th>7940</th>\n",
       "      <td>5_2054000</td>\n",
       "      <td>46</td>\n",
       "      <td>6727481</td>\n",
       "      <td>ET5_2054000</td>\n",
       "      <td>0</td>\n",
       "      <td>ABC</td>\n",
       "      <td>ABCN</td>\n",
       "      <td>0</td>\n",
       "      <td>AT</td>\n",
       "      <td>38</td>\n",
       "      <td>...</td>\n",
       "      <td>T</td>\n",
       "      <td>0</td>\n",
       "      <td></td>\n",
       "      <td>NU</td>\n",
       "      <td>POINT (674358.386 8762674.380)</td>\n",
       "      <td>8.788599e+06</td>\n",
       "      <td>0</td>\n",
       "      <td>False</td>\n",
       "      <td>672748</td>\n",
       "      <td>NaN</td>\n",
       "    </tr>\n",
       "    <tr>\n",
       "      <th>8213</th>\n",
       "      <td>5_2050479</td>\n",
       "      <td>46</td>\n",
       "      <td>6599181</td>\n",
       "      <td>ET5_2050479</td>\n",
       "      <td>0</td>\n",
       "      <td>ABC</td>\n",
       "      <td>ABCN</td>\n",
       "      <td>0</td>\n",
       "      <td>AT</td>\n",
       "      <td>38</td>\n",
       "      <td>...</td>\n",
       "      <td>T</td>\n",
       "      <td>0</td>\n",
       "      <td></td>\n",
       "      <td>UB</td>\n",
       "      <td>POINT (669278.493 8754050.738)</td>\n",
       "      <td>8.779612e+06</td>\n",
       "      <td>0</td>\n",
       "      <td>False</td>\n",
       "      <td>659918</td>\n",
       "      <td>NaN</td>\n",
       "    </tr>\n",
       "  </tbody>\n",
       "</table>\n",
       "<p>4 rows × 38 columns</p>\n",
       "</div>"
      ],
      "text/plain": [
       "         COD_ID  DIST    PAC_1        PAC_2 PAC_3 FAS_CON_P FAS_CON_S  \\\n",
       "4434  5_2051999    46  1111871  ET5_2051999     0       ABC      ABCN   \n",
       "4435  5_2052000    46  1111861  ET5_2052000     0       ABC      ABCN   \n",
       "7940  5_2054000    46  6727481  ET5_2054000     0       ABC      ABCN   \n",
       "8213  5_2050479    46  6599181  ET5_2050479     0       ABC      ABCN   \n",
       "\n",
       "     FAS_CON_T SIT_ATIV TIP_UNID  ... TIP_TRAFO  MRT  DESCR ARE_LOC  \\\n",
       "4434         0       AT       38  ...         T    0             NU   \n",
       "4435         0       AT       38  ...         T    0             NU   \n",
       "7940         0       AT       38  ...         T    0             NU   \n",
       "8213         0       AT       38  ...         T    0             UB   \n",
       "\n",
       "                            geometry    dist_untrs n_close_con is_urb    NODE  \\\n",
       "4434  POINT (676658.220 8769770.402)  8.795851e+06           0  False  111187   \n",
       "4435  POINT (677226.272 8769627.387)  8.795752e+06           0  False  111186   \n",
       "7940  POINT (674358.386 8762674.380)  8.788599e+06           0  False  672748   \n",
       "8213  POINT (669278.493 8754050.738)  8.779612e+06           0  False  659918   \n",
       "\n",
       "      ENDNODE  \n",
       "4434      NaN  \n",
       "4435      NaN  \n",
       "7940      NaN  \n",
       "8213      NaN  \n",
       "\n",
       "[4 rows x 38 columns]"
      ]
     },
     "execution_count": 39,
     "metadata": {},
     "output_type": "execute_result"
    }
   ],
   "source": [
    "untrd[untrd.ENDNODE.isna()]"
   ]
  },
  {
   "cell_type": "code",
   "execution_count": 40,
   "metadata": {},
   "outputs": [
    {
     "data": {
      "text/html": [
       "<div>\n",
       "<style scoped>\n",
       "    .dataframe tbody tr th:only-of-type {\n",
       "        vertical-align: middle;\n",
       "    }\n",
       "\n",
       "    .dataframe tbody tr th {\n",
       "        vertical-align: top;\n",
       "    }\n",
       "\n",
       "    .dataframe thead th {\n",
       "        text-align: right;\n",
       "    }\n",
       "</style>\n",
       "<table border=\"1\" class=\"dataframe\">\n",
       "  <thead>\n",
       "    <tr style=\"text-align: right;\">\n",
       "      <th></th>\n",
       "      <th>COD_ID</th>\n",
       "      <th>DIST</th>\n",
       "      <th>PAC_1</th>\n",
       "      <th>PAC_2</th>\n",
       "      <th>PAC_3</th>\n",
       "      <th>FAS_CON_P</th>\n",
       "      <th>FAS_CON_S</th>\n",
       "      <th>FAS_CON_T</th>\n",
       "      <th>SIT_ATIV</th>\n",
       "      <th>TIP_UNID</th>\n",
       "      <th>...</th>\n",
       "      <th>TIP_TRAFO</th>\n",
       "      <th>MRT</th>\n",
       "      <th>DESCR</th>\n",
       "      <th>ARE_LOC</th>\n",
       "      <th>geometry</th>\n",
       "      <th>dist_untrs</th>\n",
       "      <th>n_close_con</th>\n",
       "      <th>is_urb</th>\n",
       "      <th>NODE</th>\n",
       "      <th>ENDNODE</th>\n",
       "    </tr>\n",
       "  </thead>\n",
       "  <tbody>\n",
       "    <tr>\n",
       "      <th>0</th>\n",
       "      <td>4_1040341</td>\n",
       "      <td>46</td>\n",
       "      <td>452971</td>\n",
       "      <td>ET4_1040341</td>\n",
       "      <td>0</td>\n",
       "      <td>ABC</td>\n",
       "      <td>ABCN</td>\n",
       "      <td>0</td>\n",
       "      <td>AT</td>\n",
       "      <td>38</td>\n",
       "      <td>...</td>\n",
       "      <td>T</td>\n",
       "      <td>0</td>\n",
       "      <td></td>\n",
       "      <td>NU</td>\n",
       "      <td>POINT (627712.617 8776098.670)</td>\n",
       "      <td>8.798533e+06</td>\n",
       "      <td>1</td>\n",
       "      <td>False</td>\n",
       "      <td>45297</td>\n",
       "      <td>44304</td>\n",
       "    </tr>\n",
       "    <tr>\n",
       "      <th>1</th>\n",
       "      <td>4_1040306</td>\n",
       "      <td>46</td>\n",
       "      <td>452681</td>\n",
       "      <td>ET4_1040306</td>\n",
       "      <td>0</td>\n",
       "      <td>ABC</td>\n",
       "      <td>ABCN</td>\n",
       "      <td>0</td>\n",
       "      <td>AT</td>\n",
       "      <td>38</td>\n",
       "      <td>...</td>\n",
       "      <td>T</td>\n",
       "      <td>0</td>\n",
       "      <td></td>\n",
       "      <td>NU</td>\n",
       "      <td>POINT (626353.418 8777498.606)</td>\n",
       "      <td>8.799832e+06</td>\n",
       "      <td>1</td>\n",
       "      <td>False</td>\n",
       "      <td>45268</td>\n",
       "      <td>44304</td>\n",
       "    </tr>\n",
       "    <tr>\n",
       "      <th>2</th>\n",
       "      <td>7_2070013</td>\n",
       "      <td>46</td>\n",
       "      <td>600021</td>\n",
       "      <td>ET7_2070013</td>\n",
       "      <td>0</td>\n",
       "      <td>ABC</td>\n",
       "      <td>ABCN</td>\n",
       "      <td>0</td>\n",
       "      <td>AT</td>\n",
       "      <td>38</td>\n",
       "      <td>...</td>\n",
       "      <td>T</td>\n",
       "      <td>0</td>\n",
       "      <td></td>\n",
       "      <td>UB</td>\n",
       "      <td>POINT (632355.415 8753247.956)</td>\n",
       "      <td>8.776074e+06</td>\n",
       "      <td>195</td>\n",
       "      <td>True</td>\n",
       "      <td>60002</td>\n",
       "      <td>48689</td>\n",
       "    </tr>\n",
       "    <tr>\n",
       "      <th>3</th>\n",
       "      <td>4_1040035</td>\n",
       "      <td>46</td>\n",
       "      <td>462831</td>\n",
       "      <td>ET4_1040035</td>\n",
       "      <td>ET4_1040035</td>\n",
       "      <td>AB</td>\n",
       "      <td>AN</td>\n",
       "      <td>BN</td>\n",
       "      <td>AT</td>\n",
       "      <td>38</td>\n",
       "      <td>...</td>\n",
       "      <td>MT</td>\n",
       "      <td>0</td>\n",
       "      <td></td>\n",
       "      <td>NU</td>\n",
       "      <td>POINT (635724.137 8773322.662)</td>\n",
       "      <td>8.796339e+06</td>\n",
       "      <td>14</td>\n",
       "      <td>False</td>\n",
       "      <td>46283</td>\n",
       "      <td>44304</td>\n",
       "    </tr>\n",
       "    <tr>\n",
       "      <th>4</th>\n",
       "      <td>13_1130368</td>\n",
       "      <td>46</td>\n",
       "      <td>148261</td>\n",
       "      <td>ET13_1130368</td>\n",
       "      <td>0</td>\n",
       "      <td>ABC</td>\n",
       "      <td>ABCN</td>\n",
       "      <td>0</td>\n",
       "      <td>AT</td>\n",
       "      <td>38</td>\n",
       "      <td>...</td>\n",
       "      <td>T</td>\n",
       "      <td>0</td>\n",
       "      <td></td>\n",
       "      <td>NU</td>\n",
       "      <td>POINT (631104.558 8720058.235)</td>\n",
       "      <td>8.742880e+06</td>\n",
       "      <td>4</td>\n",
       "      <td>False</td>\n",
       "      <td>14826</td>\n",
       "      <td>17749</td>\n",
       "    </tr>\n",
       "  </tbody>\n",
       "</table>\n",
       "<p>5 rows × 38 columns</p>\n",
       "</div>"
      ],
      "text/plain": [
       "       COD_ID  DIST   PAC_1         PAC_2        PAC_3 FAS_CON_P FAS_CON_S  \\\n",
       "0   4_1040341    46  452971   ET4_1040341            0       ABC      ABCN   \n",
       "1   4_1040306    46  452681   ET4_1040306            0       ABC      ABCN   \n",
       "2   7_2070013    46  600021   ET7_2070013            0       ABC      ABCN   \n",
       "3   4_1040035    46  462831   ET4_1040035  ET4_1040035        AB        AN   \n",
       "4  13_1130368    46  148261  ET13_1130368            0       ABC      ABCN   \n",
       "\n",
       "  FAS_CON_T SIT_ATIV TIP_UNID  ... TIP_TRAFO  MRT  DESCR ARE_LOC  \\\n",
       "0         0       AT       38  ...         T    0             NU   \n",
       "1         0       AT       38  ...         T    0             NU   \n",
       "2         0       AT       38  ...         T    0             UB   \n",
       "3        BN       AT       38  ...        MT    0             NU   \n",
       "4         0       AT       38  ...         T    0             NU   \n",
       "\n",
       "                         geometry    dist_untrs n_close_con is_urb   NODE  \\\n",
       "0  POINT (627712.617 8776098.670)  8.798533e+06           1  False  45297   \n",
       "1  POINT (626353.418 8777498.606)  8.799832e+06           1  False  45268   \n",
       "2  POINT (632355.415 8753247.956)  8.776074e+06         195   True  60002   \n",
       "3  POINT (635724.137 8773322.662)  8.796339e+06          14  False  46283   \n",
       "4  POINT (631104.558 8720058.235)  8.742880e+06           4  False  14826   \n",
       "\n",
       "   ENDNODE  \n",
       "0    44304  \n",
       "1    44304  \n",
       "2    48689  \n",
       "3    44304  \n",
       "4    17749  \n",
       "\n",
       "[5 rows x 38 columns]"
      ]
     },
     "execution_count": 40,
     "metadata": {},
     "output_type": "execute_result"
    }
   ],
   "source": [
    "untrd = untrd[untrd.ENDNODE.notna()]\n",
    "untrd.head()"
   ]
  },
  {
   "cell_type": "markdown",
   "metadata": {},
   "source": [
    "12 - Seleccione al menos 5 metricas de grafo, calcule sus valores para los nodos asociados a cada fila y adicionelos como features al dataset."
   ]
  },
  {
   "cell_type": "markdown",
   "metadata": {},
   "source": [
    "### Generar Metricas"
   ]
  },
  {
   "cell_type": "code",
   "execution_count": 41,
   "metadata": {},
   "outputs": [
    {
     "name": "stdout",
     "output_type": "stream",
     "text": [
      "#1 - Degree\n",
      "#2 - Neighbor degree\n",
      "#3 - Pagerank\n",
      "#4 - Dispersion\n",
      "#5 - Eigenvector centrality\n"
     ]
    }
   ],
   "source": [
    "print('#1 - Degree')\n",
    "g_degree = SG.degree(untrd.NODE)\n",
    "print('#2 - Neighbor degree')\n",
    "g_avg_ndeg = nx.average_neighbor_degree(SG)\n",
    "print('#3 - Pagerank')\n",
    "g_pr = nx.pagerank(SG)\n",
    "print('#4 - Dispersion')\n",
    "g_dis = nx.dispersion(SG)\n",
    "print('#5 - Eigenvector centrality')\n",
    "eigen = nx.eigenvector_centrality(SG)"
   ]
  },
  {
   "cell_type": "code",
   "execution_count": 42,
   "metadata": {},
   "outputs": [],
   "source": [
    "# Adicionar al grafico como Atributo de los nodos\n",
    "nx.set_node_attributes(SG, g_degree, 'degree')\n",
    "nx.set_node_attributes(SG, g_avg_ndeg, 'avg_nei_degree')\n",
    "nx.set_node_attributes(SG, eigen, 'eigenvector_centrality')\n",
    "nx.set_node_attributes(SG, g_pr, 'pagerank')\n",
    "nx.set_node_attributes(SG, g_dis, 'dispersion')"
   ]
  },
  {
   "cell_type": "code",
   "execution_count": 43,
   "metadata": {},
   "outputs": [],
   "source": [
    "# Mapear valores a al dataframe de transformadores\n",
    "untrd['g_degree'] = untrd.NODE.map(g_degree)\n",
    "untrd['g_avg_ndeg'] = untrd.NODE.map(g_avg_ndeg)\n",
    "untrd['g_pagerank'] = untrd.NODE.map(g_pr)\n",
    "untrd['g_dispersion'] = untrd.NODE.map(g_dis)\n",
    "untrd['eigenvector_centrality'] = untrd.NODE.map(eigen)"
   ]
  },
  {
   "cell_type": "markdown",
   "metadata": {},
   "source": [
    "14 - Calcule la distancia de cada untrd a su correspondiente punto de conexion con la subestacion, ponderando por COMP (longitud de segmento), utilize el parametro \"method\" para calcular diferentes tipos de distancias.\n",
    "Adicione los resultados como variables del dataset."
   ]
  },
  {
   "cell_type": "markdown",
   "metadata": {},
   "source": [
    "### Graph Network entre UNTRDs (trandformadores) <--------> ORIGEN (la subestacion)"
   ]
  },
  {
   "cell_type": "code",
   "execution_count": 44,
   "metadata": {},
   "outputs": [
    {
     "data": {
      "text/plain": [
       "284"
      ]
     },
     "execution_count": 44,
     "metadata": {},
     "output_type": "execute_result"
    }
   ],
   "source": [
    "nx.shortest_path_length(SG, untrd.NODE[10], untrd.ENDNODE[10], weight='COMP', method='dijkstra')"
   ]
  },
  {
   "cell_type": "code",
   "execution_count": 45,
   "metadata": {},
   "outputs": [],
   "source": [
    "# cuidado. lleva mucho tiempo\n",
    "untrd['dist_to_trs_dijkstra'] = [nx.shortest_path_length(SG, trd.NODE, trd.ENDNODE, weight='COMP', method='dijkstra') for i, trd in untrd.iterrows()]"
   ]
  },
  {
   "cell_type": "code",
   "execution_count": null,
   "metadata": {},
   "outputs": [],
   "source": [
    "#untrd['dist_to_trs_bellman'] = [nx.shortest_path_length(SG, trd.NODE, trd.ENDNODE, weight='COMP', method='bellman-ford') for i, trd in untrd.iterrows()]"
   ]
  },
  {
   "cell_type": "code",
   "execution_count": 46,
   "metadata": {},
   "outputs": [
    {
     "data": {
      "text/plain": [
       "0    110\n",
       "1    126\n",
       "2     38\n",
       "3    240\n",
       "4    548\n",
       "5    233\n",
       "6    261\n",
       "7     94\n",
       "8    258\n",
       "9    115\n",
       "Name: dist_to_trs_dijkstra, dtype: int64"
      ]
     },
     "execution_count": 46,
     "metadata": {},
     "output_type": "execute_result"
    }
   ],
   "source": [
    "untrd.dist_to_trs_dijkstra[:10]"
   ]
  },
  {
   "cell_type": "code",
   "execution_count": 47,
   "metadata": {},
   "outputs": [
    {
     "data": {
      "text/plain": [
       "((124647, 24),\n",
       " Index(['COD_ID', 'DIST', 'TIP_PN', 'POS', 'ESTR', 'MAT', 'ESF', 'ALT', 'CONJ',\n",
       "        'MUN', 'ODI', 'TI', 'CM', 'TUC', 'A1', 'A2', 'A3', 'A4', 'A5', 'A6',\n",
       "        'SITCONT', 'DESCR', 'ARE_LOC', 'geometry'],\n",
       "       dtype='object'))"
      ]
     },
     "execution_count": 47,
     "metadata": {},
     "output_type": "execute_result"
    }
   ],
   "source": [
    "ponnot = gpd.read_file(data_path, driver='FileGDB', layer='PONNOT')\n",
    "ponnot = ponnot.to_crs(epsg=31984)\n",
    "ponnot_loc_array = [x.coords[0] for x in ponnot.geometry]\n",
    "ponnot.shape, ponnot.columns"
   ]
  },
  {
   "cell_type": "markdown",
   "metadata": {},
   "source": [
    "## Visulaizacion del grafo entre node 10 y el subestacion. "
   ]
  },
  {
   "cell_type": "code",
   "execution_count": 49,
   "metadata": {},
   "outputs": [
    {
     "name": "stderr",
     "output_type": "stream",
     "text": [
      "/Users/brandonjanes/miniconda2/envs/gis/lib/python3.7/site-packages/ipykernel_launcher.py:5: FutureWarning: The \"contextily.tile_providers\" module is deprecated and will be removed in contextily v1.1. Please use \"contextily.providers\" instead.\n",
      "  \"\"\"\n"
     ]
    },
    {
     "data": {
      "image/png": "[encoded data removed]",
      "text/plain": [
       "<Figure size 576x576 with 1 Axes>"
      ]
     },
     "metadata": {
      "needs_background": "light"
     },
     "output_type": "display_data"
    }
   ],
   "source": [
    "path = nx.shortest_path(SG,untrd.NODE[10], untrd.ENDNODE[10])\n",
    "ponnot.set_index('COD_ID', inplace=True)\n",
    "path_ponnot = ponnot.loc[path]\n",
    "ax = path_ponnot.to_crs(epsg=3857).plot(figsize=(8,8))\n",
    "ctx.add_basemap(ax, source= ctx.sources.OSM_A)"
   ]
  }
 ],
 "metadata": {
  "kernelspec": {
   "display_name": "Python 3",
   "language": "python",
   "name": "python3"
  },
  "language_info": {
   "codemirror_mode": {
    "name": "ipython",
    "version": 3
   },
   "file_extension": ".py",
   "mimetype": "text/x-python",
   "name": "python",
   "nbconvert_exporter": "python",
   "pygments_lexer": "ipython3",
   "version": "3.7.7"
  }
 },
 "nbformat": 4,
 "nbformat_minor": 4
}
