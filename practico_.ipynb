{
 "cells": [
  {
   "cell_type": "code",
   "execution_count": null,
   "metadata": {},
   "outputs": [],
   "source": []
  },
  {
   "cell_type": "markdown",
   "metadata": {
    "colab_type": "text",
    "id": "view-in-github"
   },
   "source": [
    "<a href=\"https://colab.research.google.com/github/ramirojc/Mentoria/blob/master/2_1_TPractico2_ExploracionCuracion.ipynb\" target=\"_parent\"><img src=\"https://colab.research.google.com/assets/colab-badge.svg\" alt=\"Open In Colab\"/></a>"
   ]
  },
  {
   "cell_type": "markdown",
   "metadata": {
    "colab_type": "text",
    "id": "6rj5IlyYDYLD"
   },
   "source": [
    "## Introduccion, Analisis y Curacion de Datos\n",
    "\n",
    "## Diplodatos 2020, Mentorias\n",
    "### Mentor: Ramiro Caro"
   ]
  },
  {
   "cell_type": "code",
   "execution_count": 1,
   "metadata": {
    "colab": {},
    "colab_type": "code",
    "id": "A9-o_rCuyZes"
   },
   "outputs": [],
   "source": [
    "# !pip install geopandas\n",
    "# !apt install libspatialindex-dev\n",
    "# !pip install rtree\n",
    "# !pip install osmnx\n",
    "# !pip install contextily"
   ]
  },
  {
   "cell_type": "markdown",
   "metadata": {
    "colab_type": "text",
    "id": "YoEmMUucwpu6"
   },
   "source": [
    "## Introduccion, carga de datos\n",
    "\n",
    "A partir de este punto, utilizaremos los transformadores de distribucion como elemnto de analisis, e incorporaremos datos de consumidores, subestacion y lineas de distribucion."
   ]
  },
  {
   "cell_type": "code",
   "execution_count": 2,
   "metadata": {
    "colab": {},
    "colab_type": "code",
    "id": "7QiqtG-9ybT-"
   },
   "outputs": [],
   "source": [
    "import geopandas as gpd\n",
    "import pandas as pd\n",
    "from shapely.geometry import Point, LineString, Polygon, MultiPoint, MultiLineString\n",
    "import contextily as ctx\n",
    "from scipy.spatial import cKDTree"
   ]
  },
  {
   "cell_type": "code",
   "execution_count": 3,
   "metadata": {
    "colab": {},
    "colab_type": "code",
    "id": "4lTCR0RKuKnH"
   },
   "outputs": [],
   "source": [
    "import networkx as nx"
   ]
  },
  {
   "cell_type": "code",
   "execution_count": 4,
   "metadata": {
    "colab": {},
    "colab_type": "code",
    "id": "a-wN4MnfyTCk"
   },
   "outputs": [],
   "source": [
    "# Editar con el path correspondiente a sus datos\n",
    "data_path = 'data/SULGIPE_46_2018-12-31_M10_20190611-1750.gdb'"
   ]
  },
  {
   "cell_type": "code",
   "execution_count": 5,
   "metadata": {
    "colab": {
     "base_uri": "https://localhost:8080/",
     "height": 136
    },
    "colab_type": "code",
    "id": "T1xC2lhcuRy-",
    "outputId": "0515c613-1ac1-41c2-903b-8a451f0fb6b4"
   },
   "outputs": [
    {
     "data": {
      "text/plain": [
       "((10508, 33),\n",
       " Index(['COD_ID', 'DIST', 'PAC_1', 'PAC_2', 'PAC_3', 'FAS_CON_P', 'FAS_CON_S',\n",
       "        'FAS_CON_T', 'SIT_ATIV', 'TIP_UNID', 'POS', 'ATRB_PER', 'TEN_LIN_SE',\n",
       "        'CAP_ELO', 'CAP_CHA', 'TAP', 'CONF', 'POSTO', 'POT_NOM', 'PER_FER',\n",
       "        'PER_TOT', 'DAT_CON', 'CTMT', 'UNI_TR_S', 'SUB', 'CONJ', 'MUN', 'BANC',\n",
       "        'TIP_TRAFO', 'MRT', 'DESCR', 'ARE_LOC', 'geometry'],\n",
       "       dtype='object'))"
      ]
     },
     "execution_count": 5,
     "metadata": {},
     "output_type": "execute_result"
    }
   ],
   "source": [
    "untrd = gpd.read_file(data_path, driver='FileGDB', layer='UNTRD')\n",
    "untrd = untrd.to_crs(epsg=31984)\n",
    "untrd.shape, untrd.columns"
   ]
  },
  {
   "cell_type": "code",
   "execution_count": 6,
   "metadata": {
    "colab": {
     "base_uri": "https://localhost:8080/",
     "height": 204
    },
    "colab_type": "code",
    "id": "F0yigp8pyWvx",
    "outputId": "e6e45e5d-6737-4fad-b67f-a9bc09272100"
   },
   "outputs": [
    {
     "data": {
      "text/plain": [
       "((17, 53),\n",
       " Index(['COD_ID', 'SUB', 'BARR_1', 'BARR_2', 'BARR_3', 'PAC_1', 'PAC_2',\n",
       "        'PAC_3', 'DIST', 'FAS_CON_P', 'FAS_CON_S', 'FAS_CON_T', 'SIT_ATIV',\n",
       "        'TIP_UNID', 'POS', 'POT_NOM', 'POT_F01', 'POT_F02', 'PER_FER',\n",
       "        'PER_TOT', 'BANC', 'DAT_CON', 'CONJ', 'MUN', 'TIP_TRAFO', 'ALOC_PERD',\n",
       "        'ENES_01', 'ENES_02', 'ENES_03', 'ENES_04', 'ENES_05', 'ENES_06',\n",
       "        'ENES_07', 'ENES_08', 'ENES_09', 'ENES_10', 'ENES_11', 'ENES_12',\n",
       "        'ENET_01', 'ENET_02', 'ENET_03', 'ENET_04', 'ENET_05', 'ENET_06',\n",
       "        'ENET_07', 'ENET_08', 'ENET_09', 'ENET_10', 'ENET_11', 'ENET_12',\n",
       "        'DESCR', 'ARE_LOC', 'geometry'],\n",
       "       dtype='object'))"
      ]
     },
     "execution_count": 6,
     "metadata": {},
     "output_type": "execute_result"
    }
   ],
   "source": [
    "untrs = gpd.read_file(data_path, driver='FileGDB', layer='UNTRS')\n",
    "untrs.shape, untrs.columns"
   ]
  },
  {
   "cell_type": "code",
   "execution_count": 7,
   "metadata": {
    "colab": {
     "base_uri": "https://localhost:8080/",
     "height": 187
    },
    "colab_type": "code",
    "id": "neS4sBkdzboc",
    "outputId": "501b300d-58e6-4d85-9ab7-32b23ac79190"
   },
   "outputs": [
    {
     "data": {
      "text/plain": [
       "Index(['COD_ID', 'PN_CON_1', 'PN_CON_2', 'CTMT', 'UNI_TR_S', 'SUB', 'CONJ',\n",
       "       'DIST', 'PAC_1', 'PAC_2', 'FAS_CON', 'TIP_CND', 'POS', 'ODI_FAS',\n",
       "       'TI_FAS', 'ODI_NEU', 'TI_NEU', 'COMP', 'DESCR', 'SITCONTFAS',\n",
       "       'SITCONTNEU', 'ARE_LOC', 'Shape_Length', 'geometry'],\n",
       "      dtype='object')"
      ]
     },
     "execution_count": 7,
     "metadata": {},
     "output_type": "execute_result"
    }
   ],
   "source": [
    "ssmt = gpd.read_file(data_path, driver='FileGDB', layer='SSDMT') # the electrical lines\n",
    "ssmt.columns"
   ]
  },
  {
   "cell_type": "code",
   "execution_count": 8,
   "metadata": {
    "colab": {
     "base_uri": "https://localhost:8080/",
     "height": 289
    },
    "colab_type": "code",
    "id": "Sp2Ewh9L0cke",
    "outputId": "4ce1ee12-69fe-4677-b2c8-4df0b9db732b"
   },
   "outputs": [],
   "source": [
    "# segcon = gpd.read_file(data_path, driver='FileGDB', layer='SEGCON')\n",
    "# segcon.columns, segcon.columns"
   ]
  },
  {
   "cell_type": "code",
   "execution_count": 9,
   "metadata": {
    "colab": {
     "base_uri": "https://localhost:8080/",
     "height": 255
    },
    "colab_type": "code",
    "id": "KacEd34JzdO4",
    "outputId": "7ee4cc05-3912-4d07-e3b0-52f433974dab"
   },
   "outputs": [
    {
     "data": {
      "text/plain": [
       "(Index(['DIST', 'PAC', 'PN_CON', 'UNI_TR_D', 'CTMT', 'UNI_TR_S', 'SUB', 'CONJ',\n",
       "        'MUN', 'BRR', 'CEP', 'CLAS_SUB', 'CNAE', 'TIP_CC', 'FAS_CON', 'GRU_TEN',\n",
       "        'TEN_FORN', 'GRU_TAR', 'SIT_ATIV', 'DAT_CON', 'CAR_INST', 'LIV',\n",
       "        'ENE_01', 'ENE_02', 'ENE_03', 'ENE_04', 'ENE_05', 'ENE_06', 'ENE_07',\n",
       "        'ENE_08', 'ENE_09', 'ENE_10', 'ENE_11', 'ENE_12', 'DIC', 'FIC',\n",
       "        'SEMRED', 'DESCR', 'ARE_LOC', 'geometry'],\n",
       "       dtype='object'),\n",
       " Index(['DIST', 'PAC', 'PN_CON', 'UNI_TR_D', 'CTMT', 'UNI_TR_S', 'SUB', 'CONJ',\n",
       "        'MUN', 'BRR', 'CEP', 'CLAS_SUB', 'CNAE', 'TIP_CC', 'FAS_CON', 'GRU_TEN',\n",
       "        'TEN_FORN', 'GRU_TAR', 'SIT_ATIV', 'DAT_CON', 'CAR_INST', 'LIV',\n",
       "        'ENE_01', 'ENE_02', 'ENE_03', 'ENE_04', 'ENE_05', 'ENE_06', 'ENE_07',\n",
       "        'ENE_08', 'ENE_09', 'ENE_10', 'ENE_11', 'ENE_12', 'DIC', 'FIC',\n",
       "        'SEMRED', 'DESCR', 'ARE_LOC', 'geometry'],\n",
       "       dtype='object'))"
      ]
     },
     "execution_count": 9,
     "metadata": {},
     "output_type": "execute_result"
    }
   ],
   "source": [
    "ucbt = gpd.read_file(data_path, driver='FileGDB', layer='UCBT')\n",
    "ucbt.columns, ucbt.columns"
   ]
  },
  {
   "cell_type": "markdown",
   "metadata": {
    "colab_type": "text",
    "id": "pa-bOWcEhua5"
   },
   "source": [
    "## Informacion sobre consumindores\n",
    "\n",
    "1 - En base a los resultados obtenidos en el practico 1. Defina que informacion sobre consumidores, es la mas relevante para la estimacion de calidad de servicio.\n",
    "\n",
    "2 - Realize el tratamiento de las filas con valores invalidos y outliers, y luego agrupe los datos en base a la variable UNI_TF_D.\n",
    "\n",
    "3 - Justifique los metodos utilizados para agrupar las variables numericas y categoricas."
   ]
  },
  {
   "cell_type": "markdown",
   "metadata": {
    "colab": {},
    "colab_type": "code",
    "id": "NuQfSR9NJZe2"
   },
   "source": [
    "1 -"
   ]
  },
  {
   "cell_type": "markdown",
   "metadata": {},
   "source": [
    "2 - "
   ]
  },
  {
   "cell_type": "markdown",
   "metadata": {},
   "source": [
    "3 - "
   ]
  },
  {
   "cell_type": "markdown",
   "metadata": {
    "colab_type": "text",
    "id": "L9pgI86JjO8v"
   },
   "source": [
    "## Informacion sobre subestacion\n",
    "\n",
    "4 - Analise la informacion disponible sobre los transformadores de segmentacion (UNI_TR_S > UNTRS)\n",
    "\n",
    "5 - Seleccione las variables relevantes, realize tratamiento de valores invalidos y outliers correspondientes. Agrupe los valores por UNTRD y agregue al dataset."
   ]
  },
  {
   "cell_type": "markdown",
   "metadata": {
    "colab": {},
    "colab_type": "code",
    "id": "MywEq68gzzGh"
   },
   "source": [
    "4 - "
   ]
  },
  {
   "cell_type": "markdown",
   "metadata": {},
   "source": [
    "5 -"
   ]
  },
  {
   "cell_type": "markdown",
   "metadata": {
    "colab_type": "text",
    "id": "M7DVfIv9kRca"
   },
   "source": [
    "## Generacion de variables en base a puntos de referencia\n",
    "\n",
    "5 - Calcule la distancia euclideana de cada untrd al correspondiente untrs y adicione al dataset.\n",
    "\n",
    "6 - Cree una variable que sea la distancia media a los tres centros urbanos mas cercanos.\n",
    "\n",
    "7 - Usando OSMnx descargue la informacion sobre caminos dentro del area de cobertura de la distribuidora. Cree variables para las distancias a autopistas (trunk), a caminos primarios (primary) y a caminos secundarios (secondary)\n"
   ]
  },
  {
   "cell_type": "code",
   "execution_count": 11,
   "metadata": {
    "colab": {},
    "colab_type": "code",
    "id": "0i4vsOVXpl6Q"
   },
   "outputs": [],
   "source": [
    "#Calcule la distancia euclideana de cada untrd al correspondiente untrs y adicione al dataset.\n",
    "dist_untrs = untrd.distance(untrs.geometry[0])\n",
    "untrd['dist_untrs'] = dist_untrs"
   ]
  },
  {
   "cell_type": "code",
   "execution_count": 12,
   "metadata": {},
   "outputs": [],
   "source": [
    "#Cree una variable que sea la distancia media a los tres centros urbanos mas cercanos.\n",
    "## tres centros urbanos mas cercas\n",
    "centro_1 = 'Itabaianinha, Sergipe, Brazil'\n",
    "centro_2 = 'Tomar do Geru, Sergipe, Brazil'\n",
    "centro_3 = 'Arauá, Sergipe, Brazil'"
   ]
  },
  {
   "cell_type": "code",
   "execution_count": 13,
   "metadata": {},
   "outputs": [
    {
     "ename": "NameError",
     "evalue": "name 'l_costa' is not defined",
     "output_type": "error",
     "traceback": [
      "\u001b[0;31m---------------------------------------------------------------------------\u001b[0m",
      "\u001b[0;31mNameError\u001b[0m                                 Traceback (most recent call last)",
      "\u001b[0;32m<ipython-input-13-20becb742323>\u001b[0m in \u001b[0;36m<module>\u001b[0;34m\u001b[0m\n\u001b[0;32m----> 1\u001b[0;31m \u001b[0muntrd\u001b[0m\u001b[0;34m[\u001b[0m\u001b[0;34m'dist_mar'\u001b[0m\u001b[0;34m]\u001b[0m \u001b[0;34m=\u001b[0m \u001b[0muntrd\u001b[0m\u001b[0;34m.\u001b[0m\u001b[0mdistance\u001b[0m\u001b[0;34m(\u001b[0m\u001b[0ml_costa\u001b[0m\u001b[0;34m)\u001b[0m\u001b[0;34m\u001b[0m\u001b[0;34m\u001b[0m\u001b[0m\n\u001b[0m",
      "\u001b[0;31mNameError\u001b[0m: name 'l_costa' is not defined"
     ]
    }
   ],
   "source": [
    "#untrd['dist_mar'] = untrd.distance(l_costa)"
   ]
  },
  {
   "cell_type": "markdown",
   "metadata": {
    "colab_type": "text",
    "id": "Y8kY4fHOoZkF"
   },
   "source": [
    "## Generacion de variables con arboles de busqueda\n",
    "\n",
    "8 - Cree variables que indique la cantidad de consumidores en radios de 25, 50 y 100 metros del transformador.\n",
    "\n",
    "9 - Cree una variable indicando la distancia media de cada fila a los 5 untrd mas cercanos.\n",
    "\n",
    "10 - [Opcional] Usando OSMnx descargue los footprints de edificios disponibles, y cree una variable que indique la cantidad de edificios en un radio de 200 metros al transformador."
   ]
  },
  {
   "cell_type": "code",
   "execution_count": 14,
   "metadata": {},
   "outputs": [],
   "source": [
    "from scipy.spatial import cKDTree\n",
    "import geopandas as gpd"
   ]
  },
  {
   "cell_type": "code",
   "execution_count": 15,
   "metadata": {
    "colab": {},
    "colab_type": "code",
    "id": "0_WPCpDDoB3O"
   },
   "outputs": [
    {
     "data": {
      "text/plain": [
       "((148801, 40),\n",
       " Index(['COD_ID', 'PN_CON_1', 'PN_CON_2', 'CTMT', 'UNI_TR_S', 'SUB', 'CONJ',\n",
       "        'DIST', 'PAC_1', 'PAC_2', 'FAS_CON', 'TIP_CND', 'POS', 'ODI_FAS',\n",
       "        'TI_FAS', 'ODI_NEU', 'TI_NEU', 'COMP', 'DESCR', 'SITCONTFAS',\n",
       "        'SITCONTNEU', 'ARE_LOC', 'Shape_Length', 'geometry'],\n",
       "       dtype='object'))"
      ]
     },
     "execution_count": 15,
     "metadata": {},
     "output_type": "execute_result"
    }
   ],
   "source": [
    "# Cree variables que indique la cantidad de consumidores en radios de 25, 50 y 100 metros del transformador.\n",
    "ucbt = gpd.read_file(data_path, driver='FileGDB', layer='UCBT')\n",
    "ucbt = ucbt.to_crs(epsg=31984)\n",
    "ucbt.shape"
   ]
  },
  {
   "cell_type": "code",
   "execution_count": 16,
   "metadata": {},
   "outputs": [],
   "source": [
    "# Convertimos las coordenas a una matriz\n",
    "ucbt_loc_array = [x.coords[0] for x in ucbt.geometry]\n",
    "untrd_loc_array = [x.coords[0] for x in untrd.geometry]"
   ]
  },
  {
   "cell_type": "code",
   "execution_count": 17,
   "metadata": {},
   "outputs": [
    {
     "name": "stdout",
     "output_type": "stream",
     "text": [
      "[(627712.6169779997, 8776098.670127511), (626353.4179798126, 8777498.606078334), (632355.4149737856, 8753247.956105636), (635724.1370160332, 8773322.662057359), (631104.5580278498, 8720058.23505237), (638696.4859638879, 8773991.73208276), (638310.7990282972, 8773035.106081862), (623701.882989638, 8737730.572129583), (638236.557017495, 8772759.907124765), (626993.9699670533, 8775185.16404461)]\n"
     ]
    }
   ],
   "source": [
    "print(untrd_loc_array[:10])"
   ]
  },
  {
   "cell_type": "code",
   "execution_count": 18,
   "metadata": {},
   "outputs": [],
   "source": [
    "radio = 25\n",
    "radio1 = 50\n",
    "radio2 = 100\n",
    "tree = cKDTree(ucbt_loc_array)\n",
    "near_consumers = tree.query_ball_point(untrd_loc_array, radio)\n",
    "near_consumers1 = tree.query_ball_point(untrd_loc_array, radio1)\n",
    "near_consumers2 = tree.query_ball_point(untrd_loc_array, radio2)"
   ]
  },
  {
   "cell_type": "code",
   "execution_count": 19,
   "metadata": {},
   "outputs": [
    {
     "name": "stdout",
     "output_type": "stream",
     "text": [
      "[list([100083]) list([104711])\n",
      " list([15668, 15669, 15671, 15673, 15674, 15951, 15955, 69473, 69474, 69551, 69553, 122579, 122580])\n",
      " list([100959]) list([68479])\n",
      " list([100563, 100564, 100719, 100720, 100721, 100722, 110816])\n",
      " list([116692, 136261]) list([35337]) list([8748, 91949, 91950]) list([])]\n"
     ]
    }
   ],
   "source": [
    "print(near_consumers[:10])"
   ]
  },
  {
   "cell_type": "code",
   "execution_count": null,
   "metadata": {},
   "outputs": [],
   "source": [
    "# print(\"Cantidad de consumidores rurales: \",len(near_consumers_rural))\n",
    "# print(\"Cantidad de consumidores intermedios: \",len(near_consumers_intermedio))\n",
    "# print(\"Cantidad de consumidores urbanos: \",len(near_consumers_urban))"
   ]
  },
  {
   "cell_type": "code",
   "execution_count": 20,
   "metadata": {},
   "outputs": [
    {
     "name": "stdout",
     "output_type": "stream",
     "text": [
      "1201\n"
     ]
    }
   ],
   "source": [
    "untrd['n_close_con'] = [len(c) for c in near_consumers2]\n",
    "untrd['is_urb'] =  untrd['n_close_con'] > 50\n",
    "print(len(untrd[untrd.is_urb == True]))"
   ]
  },
  {
   "cell_type": "markdown",
   "metadata": {
    "colab_type": "text",
    "id": "u12CHTmpppf7"
   },
   "source": [
    "## Generacion de grafos y calculo de rutas\n",
    "\n",
    "11 - Usando las tecnicas mostradas en el notebook sobre procesamiento de informacion georeferenciada, construya un grafo basado en la capa de linea de distribicion de media tension:\n",
    "  - Utilize los puntos de conexion PCON_1 y PCON_2 como nodos, y los segmentos como edges.\n",
    "  - Adicione COMP y COD_ID como atributos de edge (aristas)\n",
    "  - Asocie cada transformador untrd con un nodo\n",
    "  - Asocie cada punto de conexion los circuitos de media tension (CTMT) con la subestacion, a un nodo."
   ]
  },
  {
   "cell_type": "code",
   "execution_count": null,
   "metadata": {},
   "outputs": [],
   "source": [
    "ssmt.head()"
   ]
  },
  {
   "cell_type": "code",
   "execution_count": 10,
   "metadata": {},
   "outputs": [],
   "source": [
    "# Generar grafo basado en la red de distribucion\n",
    "SG = nx.Graph()\n",
    "SG.add_weighted_edges_from(ssmt[['PN_CON_1','PN_CON_2','COMP']].values.tolist(), weight='length')"
   ]
  },
  {
   "cell_type": "code",
   "execution_count": 11,
   "metadata": {},
   "outputs": [
    {
     "data": {
      "text/plain": [
       "{'length': 25.63}"
      ]
     },
     "execution_count": 11,
     "metadata": {},
     "output_type": "execute_result"
    }
   ],
   "source": [
    "SG.edges['671470', '671471']"
   ]
  },
  {
   "cell_type": "code",
   "execution_count": 22,
   "metadata": {},
   "outputs": [],
   "source": [
    "# Puedo agregar mas atributos despues de creado el grafo\n",
    "# Agrego el COD_ID de cada segmento como atributo de Edge\n",
    "ID_attr_dict = {tuple((x[0], x[1])): x[2:] for x in ssmt[['PN_CON_1','PN_CON_2','COD_ID','COMP']].values}\n",
    "nx.set_edge_attributes(SG, ID_attr_dict, 'SEG_ID')"
   ]
  },
  {
   "cell_type": "code",
   "execution_count": 33,
   "metadata": {},
   "outputs": [
    {
     "data": {
      "text/plain": [
       "((124647, 24),\n",
       " Index(['COD_ID', 'DIST', 'TIP_PN', 'POS', 'ESTR', 'MAT', 'ESF', 'ALT', 'CONJ',\n",
       "        'MUN', 'ODI', 'TI', 'CM', 'TUC', 'A1', 'A2', 'A3', 'A4', 'A5', 'A6',\n",
       "        'SITCONT', 'DESCR', 'ARE_LOC', 'geometry'],\n",
       "       dtype='object'))"
      ]
     },
     "execution_count": 33,
     "metadata": {},
     "output_type": "execute_result"
    }
   ],
   "source": [
    "ponnot = gpd.read_file(data_path, driver='FileGDB', layer='PONNOT')\n",
    "ponnot = ponnot.to_crs(epsg=31984)\n",
    "ponnot_loc_array = [x.coords[0] for x in ponnot.geometry]\n",
    "ponnot.shape, ponnot.columns"
   ]
  },
  {
   "cell_type": "markdown",
   "metadata": {},
   "source": [
    "# Create Graph"
   ]
  },
  {
   "cell_type": "code",
   "execution_count": 88,
   "metadata": {},
   "outputs": [],
   "source": [
    "pn_tree = cKDTree(ponnot_loc_array) # algorithm that makes a tree of nodes\n",
    "untrd_loc_array = [x.coords[0] for x in untrd.geometry]\n",
    "pnd, pni = pn_tree.query(untrd_loc_array, n_jobs=-1) # query the tree for the nearest node\n",
    "# pnd = distances to the nearest neighbors, pni = locations of the neighbors"
   ]
  },
  {
   "cell_type": "code",
   "execution_count": 89,
   "metadata": {},
   "outputs": [],
   "source": [
    "for i in pni:\n",
    "    print(ponnot.iloc[i].COD_ID "
   ]
  },
  {
   "cell_type": "code",
   "execution_count": 41,
   "metadata": {},
   "outputs": [],
   "source": [
    "untrd['NODE'] = [ponnot.iloc[i].COD_ID for i in pni] "
   ]
  },
  {
   "cell_type": "markdown",
   "metadata": {},
   "source": [
    "### Set the CTMT for each circuit"
   ]
  },
  {
   "cell_type": "code",
   "execution_count": 44,
   "metadata": {
    "jupyter": {
     "source_hidden": true
    }
   },
   "outputs": [],
   "source": [
    "ctmt_endpoints = pd.read_csv('./data/endpoints_utf.csv')\n",
    "ep_dict = {row.CTMT: str(row.PONNOT) for i,row in ctmt_endpoints.iterrows()} \n",
    "# this is a dictionary of the post at the source (the subestacion) of the main line a.k.a. the \"ENDNODE\""
   ]
  },
  {
   "cell_type": "code",
   "execution_count": 45,
   "metadata": {},
   "outputs": [],
   "source": [
    "untrd['ENDNODE'] = untrd.CTMT.map(ep_dict)"
   ]
  },
  {
   "cell_type": "code",
   "execution_count": 46,
   "metadata": {},
   "outputs": [
    {
     "data": {
      "text/html": [
       "<div>\n",
       "<style scoped>\n",
       "    .dataframe tbody tr th:only-of-type {\n",
       "        vertical-align: middle;\n",
       "    }\n",
       "\n",
       "    .dataframe tbody tr th {\n",
       "        vertical-align: top;\n",
       "    }\n",
       "\n",
       "    .dataframe thead th {\n",
       "        text-align: right;\n",
       "    }\n",
       "</style>\n",
       "<table border=\"1\" class=\"dataframe\">\n",
       "  <thead>\n",
       "    <tr style=\"text-align: right;\">\n",
       "      <th></th>\n",
       "      <th>COD_ID</th>\n",
       "      <th>DIST</th>\n",
       "      <th>PAC_1</th>\n",
       "      <th>PAC_2</th>\n",
       "      <th>PAC_3</th>\n",
       "      <th>FAS_CON_P</th>\n",
       "      <th>FAS_CON_S</th>\n",
       "      <th>FAS_CON_T</th>\n",
       "      <th>SIT_ATIV</th>\n",
       "      <th>TIP_UNID</th>\n",
       "      <th>...</th>\n",
       "      <th>CONJ</th>\n",
       "      <th>MUN</th>\n",
       "      <th>BANC</th>\n",
       "      <th>TIP_TRAFO</th>\n",
       "      <th>MRT</th>\n",
       "      <th>DESCR</th>\n",
       "      <th>ARE_LOC</th>\n",
       "      <th>geometry</th>\n",
       "      <th>NODE</th>\n",
       "      <th>ENDNODE</th>\n",
       "    </tr>\n",
       "  </thead>\n",
       "  <tbody>\n",
       "  </tbody>\n",
       "</table>\n",
       "<p>0 rows × 35 columns</p>\n",
       "</div>"
      ],
      "text/plain": [
       "Empty GeoDataFrame\n",
       "Columns: [COD_ID, DIST, PAC_1, PAC_2, PAC_3, FAS_CON_P, FAS_CON_S, FAS_CON_T, SIT_ATIV, TIP_UNID, POS, ATRB_PER, TEN_LIN_SE, CAP_ELO, CAP_CHA, TAP, CONF, POSTO, POT_NOM, PER_FER, PER_TOT, DAT_CON, CTMT, UNI_TR_S, SUB, CONJ, MUN, BANC, TIP_TRAFO, MRT, DESCR, ARE_LOC, geometry, NODE, ENDNODE]\n",
       "Index: []\n",
       "\n",
       "[0 rows x 35 columns]"
      ]
     },
     "execution_count": 46,
     "metadata": {},
     "output_type": "execute_result"
    }
   ],
   "source": [
    "untrd[untrd.NODE.isna()]"
   ]
  },
  {
   "cell_type": "code",
   "execution_count": 48,
   "metadata": {},
   "outputs": [
    {
     "data": {
      "text/html": [
       "<div>\n",
       "<style scoped>\n",
       "    .dataframe tbody tr th:only-of-type {\n",
       "        vertical-align: middle;\n",
       "    }\n",
       "\n",
       "    .dataframe tbody tr th {\n",
       "        vertical-align: top;\n",
       "    }\n",
       "\n",
       "    .dataframe thead th {\n",
       "        text-align: right;\n",
       "    }\n",
       "</style>\n",
       "<table border=\"1\" class=\"dataframe\">\n",
       "  <thead>\n",
       "    <tr style=\"text-align: right;\">\n",
       "      <th></th>\n",
       "      <th>COD_ID</th>\n",
       "      <th>DIST</th>\n",
       "      <th>PAC_1</th>\n",
       "      <th>PAC_2</th>\n",
       "      <th>PAC_3</th>\n",
       "      <th>FAS_CON_P</th>\n",
       "      <th>FAS_CON_S</th>\n",
       "      <th>FAS_CON_T</th>\n",
       "      <th>SIT_ATIV</th>\n",
       "      <th>TIP_UNID</th>\n",
       "      <th>...</th>\n",
       "      <th>CONJ</th>\n",
       "      <th>MUN</th>\n",
       "      <th>BANC</th>\n",
       "      <th>TIP_TRAFO</th>\n",
       "      <th>MRT</th>\n",
       "      <th>DESCR</th>\n",
       "      <th>ARE_LOC</th>\n",
       "      <th>geometry</th>\n",
       "      <th>NODE</th>\n",
       "      <th>ENDNODE</th>\n",
       "    </tr>\n",
       "  </thead>\n",
       "  <tbody>\n",
       "    <tr>\n",
       "      <th>4434</th>\n",
       "      <td>5_2051999</td>\n",
       "      <td>46</td>\n",
       "      <td>1111871</td>\n",
       "      <td>ET5_2051999</td>\n",
       "      <td>0</td>\n",
       "      <td>ABC</td>\n",
       "      <td>ABCN</td>\n",
       "      <td>0</td>\n",
       "      <td>AT</td>\n",
       "      <td>38</td>\n",
       "      <td>...</td>\n",
       "      <td>15602</td>\n",
       "      <td>2802106</td>\n",
       "      <td>0</td>\n",
       "      <td>T</td>\n",
       "      <td>0</td>\n",
       "      <td></td>\n",
       "      <td>NU</td>\n",
       "      <td>POINT (676658.220 8769770.402)</td>\n",
       "      <td>111187</td>\n",
       "      <td>NaN</td>\n",
       "    </tr>\n",
       "    <tr>\n",
       "      <th>4435</th>\n",
       "      <td>5_2052000</td>\n",
       "      <td>46</td>\n",
       "      <td>1111861</td>\n",
       "      <td>ET5_2052000</td>\n",
       "      <td>0</td>\n",
       "      <td>ABC</td>\n",
       "      <td>ABCN</td>\n",
       "      <td>0</td>\n",
       "      <td>AT</td>\n",
       "      <td>38</td>\n",
       "      <td>...</td>\n",
       "      <td>15602</td>\n",
       "      <td>2802106</td>\n",
       "      <td>0</td>\n",
       "      <td>T</td>\n",
       "      <td>0</td>\n",
       "      <td></td>\n",
       "      <td>NU</td>\n",
       "      <td>POINT (677226.272 8769627.387)</td>\n",
       "      <td>111186</td>\n",
       "      <td>NaN</td>\n",
       "    </tr>\n",
       "    <tr>\n",
       "      <th>7940</th>\n",
       "      <td>5_2054000</td>\n",
       "      <td>46</td>\n",
       "      <td>6727481</td>\n",
       "      <td>ET5_2054000</td>\n",
       "      <td>0</td>\n",
       "      <td>ABC</td>\n",
       "      <td>ABCN</td>\n",
       "      <td>0</td>\n",
       "      <td>AT</td>\n",
       "      <td>38</td>\n",
       "      <td>...</td>\n",
       "      <td>15600</td>\n",
       "      <td>2802106</td>\n",
       "      <td>0</td>\n",
       "      <td>T</td>\n",
       "      <td>0</td>\n",
       "      <td></td>\n",
       "      <td>NU</td>\n",
       "      <td>POINT (674358.386 8762674.380)</td>\n",
       "      <td>672748</td>\n",
       "      <td>NaN</td>\n",
       "    </tr>\n",
       "    <tr>\n",
       "      <th>8213</th>\n",
       "      <td>5_2050479</td>\n",
       "      <td>46</td>\n",
       "      <td>6599181</td>\n",
       "      <td>ET5_2050479</td>\n",
       "      <td>0</td>\n",
       "      <td>ABC</td>\n",
       "      <td>ABCN</td>\n",
       "      <td>0</td>\n",
       "      <td>AT</td>\n",
       "      <td>38</td>\n",
       "      <td>...</td>\n",
       "      <td>15600</td>\n",
       "      <td>2802106</td>\n",
       "      <td>0</td>\n",
       "      <td>T</td>\n",
       "      <td>0</td>\n",
       "      <td></td>\n",
       "      <td>UB</td>\n",
       "      <td>POINT (669278.493 8754050.738)</td>\n",
       "      <td>659918</td>\n",
       "      <td>NaN</td>\n",
       "    </tr>\n",
       "  </tbody>\n",
       "</table>\n",
       "<p>4 rows × 35 columns</p>\n",
       "</div>"
      ],
      "text/plain": [
       "         COD_ID  DIST    PAC_1        PAC_2 PAC_3 FAS_CON_P FAS_CON_S  \\\n",
       "4434  5_2051999    46  1111871  ET5_2051999     0       ABC      ABCN   \n",
       "4435  5_2052000    46  1111861  ET5_2052000     0       ABC      ABCN   \n",
       "7940  5_2054000    46  6727481  ET5_2054000     0       ABC      ABCN   \n",
       "8213  5_2050479    46  6599181  ET5_2050479     0       ABC      ABCN   \n",
       "\n",
       "     FAS_CON_T SIT_ATIV TIP_UNID  ...   CONJ      MUN  BANC TIP_TRAFO MRT  \\\n",
       "4434         0       AT       38  ...  15602  2802106     0         T   0   \n",
       "4435         0       AT       38  ...  15602  2802106     0         T   0   \n",
       "7940         0       AT       38  ...  15600  2802106     0         T   0   \n",
       "8213         0       AT       38  ...  15600  2802106     0         T   0   \n",
       "\n",
       "      DESCR ARE_LOC                        geometry    NODE  ENDNODE  \n",
       "4434             NU  POINT (676658.220 8769770.402)  111187      NaN  \n",
       "4435             NU  POINT (677226.272 8769627.387)  111186      NaN  \n",
       "7940             NU  POINT (674358.386 8762674.380)  672748      NaN  \n",
       "8213             UB  POINT (669278.493 8754050.738)  659918      NaN  \n",
       "\n",
       "[4 rows x 35 columns]"
      ]
     },
     "execution_count": 48,
     "metadata": {},
     "output_type": "execute_result"
    }
   ],
   "source": [
    "untrd[untrd.ENDNODE.isna()]"
   ]
  },
  {
   "cell_type": "code",
   "execution_count": 49,
   "metadata": {},
   "outputs": [
    {
     "data": {
      "text/html": [
       "<div>\n",
       "<style scoped>\n",
       "    .dataframe tbody tr th:only-of-type {\n",
       "        vertical-align: middle;\n",
       "    }\n",
       "\n",
       "    .dataframe tbody tr th {\n",
       "        vertical-align: top;\n",
       "    }\n",
       "\n",
       "    .dataframe thead th {\n",
       "        text-align: right;\n",
       "    }\n",
       "</style>\n",
       "<table border=\"1\" class=\"dataframe\">\n",
       "  <thead>\n",
       "    <tr style=\"text-align: right;\">\n",
       "      <th></th>\n",
       "      <th>COD_ID</th>\n",
       "      <th>DIST</th>\n",
       "      <th>PAC_1</th>\n",
       "      <th>PAC_2</th>\n",
       "      <th>PAC_3</th>\n",
       "      <th>FAS_CON_P</th>\n",
       "      <th>FAS_CON_S</th>\n",
       "      <th>FAS_CON_T</th>\n",
       "      <th>SIT_ATIV</th>\n",
       "      <th>TIP_UNID</th>\n",
       "      <th>...</th>\n",
       "      <th>CONJ</th>\n",
       "      <th>MUN</th>\n",
       "      <th>BANC</th>\n",
       "      <th>TIP_TRAFO</th>\n",
       "      <th>MRT</th>\n",
       "      <th>DESCR</th>\n",
       "      <th>ARE_LOC</th>\n",
       "      <th>geometry</th>\n",
       "      <th>NODE</th>\n",
       "      <th>ENDNODE</th>\n",
       "    </tr>\n",
       "  </thead>\n",
       "  <tbody>\n",
       "    <tr>\n",
       "      <th>0</th>\n",
       "      <td>4_1040341</td>\n",
       "      <td>46</td>\n",
       "      <td>452971</td>\n",
       "      <td>ET4_1040341</td>\n",
       "      <td>0</td>\n",
       "      <td>ABC</td>\n",
       "      <td>ABCN</td>\n",
       "      <td>0</td>\n",
       "      <td>AT</td>\n",
       "      <td>38</td>\n",
       "      <td>...</td>\n",
       "      <td>12737</td>\n",
       "      <td>2805802</td>\n",
       "      <td>0</td>\n",
       "      <td>T</td>\n",
       "      <td>0</td>\n",
       "      <td></td>\n",
       "      <td>NU</td>\n",
       "      <td>POINT (627712.617 8776098.670)</td>\n",
       "      <td>45297</td>\n",
       "      <td>44304</td>\n",
       "    </tr>\n",
       "    <tr>\n",
       "      <th>1</th>\n",
       "      <td>4_1040306</td>\n",
       "      <td>46</td>\n",
       "      <td>452681</td>\n",
       "      <td>ET4_1040306</td>\n",
       "      <td>0</td>\n",
       "      <td>ABC</td>\n",
       "      <td>ABCN</td>\n",
       "      <td>0</td>\n",
       "      <td>AT</td>\n",
       "      <td>38</td>\n",
       "      <td>...</td>\n",
       "      <td>12737</td>\n",
       "      <td>2805802</td>\n",
       "      <td>0</td>\n",
       "      <td>T</td>\n",
       "      <td>0</td>\n",
       "      <td></td>\n",
       "      <td>NU</td>\n",
       "      <td>POINT (626353.418 8777498.606)</td>\n",
       "      <td>45268</td>\n",
       "      <td>44304</td>\n",
       "    </tr>\n",
       "    <tr>\n",
       "      <th>2</th>\n",
       "      <td>7_2070013</td>\n",
       "      <td>46</td>\n",
       "      <td>600021</td>\n",
       "      <td>ET7_2070013</td>\n",
       "      <td>0</td>\n",
       "      <td>ABC</td>\n",
       "      <td>ABCN</td>\n",
       "      <td>0</td>\n",
       "      <td>AT</td>\n",
       "      <td>38</td>\n",
       "      <td>...</td>\n",
       "      <td>15601</td>\n",
       "      <td>2803005</td>\n",
       "      <td>0</td>\n",
       "      <td>T</td>\n",
       "      <td>0</td>\n",
       "      <td></td>\n",
       "      <td>UB</td>\n",
       "      <td>POINT (632355.415 8753247.956)</td>\n",
       "      <td>60002</td>\n",
       "      <td>48689</td>\n",
       "    </tr>\n",
       "    <tr>\n",
       "      <th>3</th>\n",
       "      <td>4_1040035</td>\n",
       "      <td>46</td>\n",
       "      <td>462831</td>\n",
       "      <td>ET4_1040035</td>\n",
       "      <td>ET4_1040035</td>\n",
       "      <td>AB</td>\n",
       "      <td>AN</td>\n",
       "      <td>BN</td>\n",
       "      <td>AT</td>\n",
       "      <td>38</td>\n",
       "      <td>...</td>\n",
       "      <td>12737</td>\n",
       "      <td>2805802</td>\n",
       "      <td>0</td>\n",
       "      <td>MT</td>\n",
       "      <td>0</td>\n",
       "      <td></td>\n",
       "      <td>NU</td>\n",
       "      <td>POINT (635724.137 8773322.662)</td>\n",
       "      <td>46283</td>\n",
       "      <td>44304</td>\n",
       "    </tr>\n",
       "    <tr>\n",
       "      <th>4</th>\n",
       "      <td>13_1130368</td>\n",
       "      <td>46</td>\n",
       "      <td>148261</td>\n",
       "      <td>ET13_1130368</td>\n",
       "      <td>0</td>\n",
       "      <td>ABC</td>\n",
       "      <td>ABCN</td>\n",
       "      <td>0</td>\n",
       "      <td>AT</td>\n",
       "      <td>38</td>\n",
       "      <td>...</td>\n",
       "      <td>12743</td>\n",
       "      <td>2917904</td>\n",
       "      <td>0</td>\n",
       "      <td>T</td>\n",
       "      <td>0</td>\n",
       "      <td></td>\n",
       "      <td>NU</td>\n",
       "      <td>POINT (631104.558 8720058.235)</td>\n",
       "      <td>14826</td>\n",
       "      <td>17749</td>\n",
       "    </tr>\n",
       "  </tbody>\n",
       "</table>\n",
       "<p>5 rows × 35 columns</p>\n",
       "</div>"
      ],
      "text/plain": [
       "       COD_ID  DIST   PAC_1         PAC_2        PAC_3 FAS_CON_P FAS_CON_S  \\\n",
       "0   4_1040341    46  452971   ET4_1040341            0       ABC      ABCN   \n",
       "1   4_1040306    46  452681   ET4_1040306            0       ABC      ABCN   \n",
       "2   7_2070013    46  600021   ET7_2070013            0       ABC      ABCN   \n",
       "3   4_1040035    46  462831   ET4_1040035  ET4_1040035        AB        AN   \n",
       "4  13_1130368    46  148261  ET13_1130368            0       ABC      ABCN   \n",
       "\n",
       "  FAS_CON_T SIT_ATIV TIP_UNID  ...   CONJ      MUN  BANC TIP_TRAFO MRT  DESCR  \\\n",
       "0         0       AT       38  ...  12737  2805802     0         T   0          \n",
       "1         0       AT       38  ...  12737  2805802     0         T   0          \n",
       "2         0       AT       38  ...  15601  2803005     0         T   0          \n",
       "3        BN       AT       38  ...  12737  2805802     0        MT   0          \n",
       "4         0       AT       38  ...  12743  2917904     0         T   0          \n",
       "\n",
       "  ARE_LOC                        geometry   NODE  ENDNODE  \n",
       "0      NU  POINT (627712.617 8776098.670)  45297    44304  \n",
       "1      NU  POINT (626353.418 8777498.606)  45268    44304  \n",
       "2      UB  POINT (632355.415 8753247.956)  60002    48689  \n",
       "3      NU  POINT (635724.137 8773322.662)  46283    44304  \n",
       "4      NU  POINT (631104.558 8720058.235)  14826    17749  \n",
       "\n",
       "[5 rows x 35 columns]"
      ]
     },
     "execution_count": 49,
     "metadata": {},
     "output_type": "execute_result"
    }
   ],
   "source": [
    "untrd = untrd[untrd.ENDNODE.notna()]\n",
    "untrd.head()"
   ]
  },
  {
   "cell_type": "markdown",
   "metadata": {},
   "source": [
    "12 - Seleccione al menos 5 metricas de grafo, calcule sus valores para los nodos asociados a cada fila y adicionelos como features al dataset."
   ]
  },
  {
   "cell_type": "markdown",
   "metadata": {},
   "source": [
    "### Generar Metricas"
   ]
  },
  {
   "cell_type": "code",
   "execution_count": 51,
   "metadata": {},
   "outputs": [
    {
     "name": "stdout",
     "output_type": "stream",
     "text": [
      "#1 - Degree\n",
      "# 2 - Neighbor degree\n",
      "#3 - Pagerank\n",
      "#4 - Dispersion\n",
      "#5 - Eigenvector centrality\n"
     ]
    }
   ],
   "source": [
    "print('#1 - Degree')\n",
    "g_degree = SG.degree(untrd.NODE)\n",
    "print('# 2 - Neighbor degree')\n",
    "g_avg_ndeg = nx.average_neighbor_degree(SG)\n",
    "print('#3 - Pagerank')\n",
    "g_pr = nx.pagerank(SG)\n",
    "print('#4 - Dispersion')\n",
    "g_dis = nx.dispersion(SG)\n",
    "print('#5 - Eigenvector centrality')\n",
    "eigen = nx.eigenvector_centrality(SG)"
   ]
  },
  {
   "cell_type": "code",
   "execution_count": 52,
   "metadata": {},
   "outputs": [],
   "source": [
    "# Adicionar al grafico como Atributo de los nodos\n",
    "nx.set_node_attributes(SG, g_degree, 'degree')\n",
    "nx.set_node_attributes(SG, g_avg_ndeg, 'avg_nei_degree')\n",
    "nx.set_node_attributes(SG, eigen, 'eigenvector_centrality')\n",
    "nx.set_node_attributes(SG, g_pr, 'pagerank')\n",
    "nx.set_node_attributes(SG, g_dis, 'dispersion')"
   ]
  },
  {
   "cell_type": "code",
   "execution_count": 53,
   "metadata": {},
   "outputs": [],
   "source": [
    "# Mapear valores a al dataframe de transformadores\n",
    "untrd['g_degree'] = untrd.NODE.map(g_degree)\n",
    "untrd['g_avg_ndeg'] = untrd.NODE.map(g_avg_ndeg)\n",
    "untrd['g_pagerank'] = untrd.NODE.map(g_pr)\n",
    "untrd['g_dispersion'] = untrd.NODE.map(g_dis)\n",
    "untrd['eigenvector_centrality'] = untrd.NODE.map(eigen)"
   ]
  },
  {
   "cell_type": "code",
   "execution_count": 54,
   "metadata": {},
   "outputs": [
    {
     "data": {
      "text/html": [
       "<div>\n",
       "<style scoped>\n",
       "    .dataframe tbody tr th:only-of-type {\n",
       "        vertical-align: middle;\n",
       "    }\n",
       "\n",
       "    .dataframe tbody tr th {\n",
       "        vertical-align: top;\n",
       "    }\n",
       "\n",
       "    .dataframe thead th {\n",
       "        text-align: right;\n",
       "    }\n",
       "</style>\n",
       "<table border=\"1\" class=\"dataframe\">\n",
       "  <thead>\n",
       "    <tr style=\"text-align: right;\">\n",
       "      <th></th>\n",
       "      <th>COD_ID</th>\n",
       "      <th>DIST</th>\n",
       "      <th>PAC_1</th>\n",
       "      <th>PAC_2</th>\n",
       "      <th>PAC_3</th>\n",
       "      <th>FAS_CON_P</th>\n",
       "      <th>FAS_CON_S</th>\n",
       "      <th>FAS_CON_T</th>\n",
       "      <th>SIT_ATIV</th>\n",
       "      <th>TIP_UNID</th>\n",
       "      <th>...</th>\n",
       "      <th>DESCR</th>\n",
       "      <th>ARE_LOC</th>\n",
       "      <th>geometry</th>\n",
       "      <th>NODE</th>\n",
       "      <th>ENDNODE</th>\n",
       "      <th>g_degree</th>\n",
       "      <th>g_avg_ndeg</th>\n",
       "      <th>g_pagerank</th>\n",
       "      <th>g_dispersion</th>\n",
       "      <th>eigenvector_centrality</th>\n",
       "    </tr>\n",
       "  </thead>\n",
       "  <tbody>\n",
       "    <tr>\n",
       "      <th>0</th>\n",
       "      <td>4_1040341</td>\n",
       "      <td>46</td>\n",
       "      <td>452971</td>\n",
       "      <td>ET4_1040341</td>\n",
       "      <td>0</td>\n",
       "      <td>ABC</td>\n",
       "      <td>ABCN</td>\n",
       "      <td>0</td>\n",
       "      <td>AT</td>\n",
       "      <td>38</td>\n",
       "      <td>...</td>\n",
       "      <td></td>\n",
       "      <td>NU</td>\n",
       "      <td>POINT (627712.617 8776098.670)</td>\n",
       "      <td>45297</td>\n",
       "      <td>44304</td>\n",
       "      <td>2</td>\n",
       "      <td>2.0</td>\n",
       "      <td>0.000012</td>\n",
       "      <td>{'45298': 0.0, '45296': 0.0}</td>\n",
       "      <td>5.680527e-06</td>\n",
       "    </tr>\n",
       "    <tr>\n",
       "      <th>1</th>\n",
       "      <td>4_1040306</td>\n",
       "      <td>46</td>\n",
       "      <td>452681</td>\n",
       "      <td>ET4_1040306</td>\n",
       "      <td>0</td>\n",
       "      <td>ABC</td>\n",
       "      <td>ABCN</td>\n",
       "      <td>0</td>\n",
       "      <td>AT</td>\n",
       "      <td>38</td>\n",
       "      <td>...</td>\n",
       "      <td></td>\n",
       "      <td>NU</td>\n",
       "      <td>POINT (626353.418 8777498.606)</td>\n",
       "      <td>45268</td>\n",
       "      <td>44304</td>\n",
       "      <td>1</td>\n",
       "      <td>2.0</td>\n",
       "      <td>0.000007</td>\n",
       "      <td>{'45269': 0.0}</td>\n",
       "      <td>2.625699e-06</td>\n",
       "    </tr>\n",
       "    <tr>\n",
       "      <th>2</th>\n",
       "      <td>7_2070013</td>\n",
       "      <td>46</td>\n",
       "      <td>600021</td>\n",
       "      <td>ET7_2070013</td>\n",
       "      <td>0</td>\n",
       "      <td>ABC</td>\n",
       "      <td>ABCN</td>\n",
       "      <td>0</td>\n",
       "      <td>AT</td>\n",
       "      <td>38</td>\n",
       "      <td>...</td>\n",
       "      <td></td>\n",
       "      <td>UB</td>\n",
       "      <td>POINT (632355.415 8753247.956)</td>\n",
       "      <td>60002</td>\n",
       "      <td>48689</td>\n",
       "      <td>1</td>\n",
       "      <td>3.0</td>\n",
       "      <td>0.000006</td>\n",
       "      <td>{'669661': 0.0}</td>\n",
       "      <td>2.395393e-05</td>\n",
       "    </tr>\n",
       "    <tr>\n",
       "      <th>3</th>\n",
       "      <td>4_1040035</td>\n",
       "      <td>46</td>\n",
       "      <td>462831</td>\n",
       "      <td>ET4_1040035</td>\n",
       "      <td>ET4_1040035</td>\n",
       "      <td>AB</td>\n",
       "      <td>AN</td>\n",
       "      <td>BN</td>\n",
       "      <td>AT</td>\n",
       "      <td>38</td>\n",
       "      <td>...</td>\n",
       "      <td></td>\n",
       "      <td>NU</td>\n",
       "      <td>POINT (635724.137 8773322.662)</td>\n",
       "      <td>46283</td>\n",
       "      <td>44304</td>\n",
       "      <td>2</td>\n",
       "      <td>2.0</td>\n",
       "      <td>0.000012</td>\n",
       "      <td>{'46285': 0.0, '46282': 0.0}</td>\n",
       "      <td>4.072908e-07</td>\n",
       "    </tr>\n",
       "    <tr>\n",
       "      <th>4</th>\n",
       "      <td>13_1130368</td>\n",
       "      <td>46</td>\n",
       "      <td>148261</td>\n",
       "      <td>ET13_1130368</td>\n",
       "      <td>0</td>\n",
       "      <td>ABC</td>\n",
       "      <td>ABCN</td>\n",
       "      <td>0</td>\n",
       "      <td>AT</td>\n",
       "      <td>38</td>\n",
       "      <td>...</td>\n",
       "      <td></td>\n",
       "      <td>NU</td>\n",
       "      <td>POINT (631104.558 8720058.235)</td>\n",
       "      <td>14826</td>\n",
       "      <td>17749</td>\n",
       "      <td>2</td>\n",
       "      <td>2.5</td>\n",
       "      <td>0.000011</td>\n",
       "      <td>{'14825': 0.0, '14812': 0.0}</td>\n",
       "      <td>4.121470e-06</td>\n",
       "    </tr>\n",
       "  </tbody>\n",
       "</table>\n",
       "<p>5 rows × 40 columns</p>\n",
       "</div>"
      ],
      "text/plain": [
       "       COD_ID  DIST   PAC_1         PAC_2        PAC_3 FAS_CON_P FAS_CON_S  \\\n",
       "0   4_1040341    46  452971   ET4_1040341            0       ABC      ABCN   \n",
       "1   4_1040306    46  452681   ET4_1040306            0       ABC      ABCN   \n",
       "2   7_2070013    46  600021   ET7_2070013            0       ABC      ABCN   \n",
       "3   4_1040035    46  462831   ET4_1040035  ET4_1040035        AB        AN   \n",
       "4  13_1130368    46  148261  ET13_1130368            0       ABC      ABCN   \n",
       "\n",
       "  FAS_CON_T SIT_ATIV TIP_UNID  ... DESCR  ARE_LOC  \\\n",
       "0         0       AT       38  ...             NU   \n",
       "1         0       AT       38  ...             NU   \n",
       "2         0       AT       38  ...             UB   \n",
       "3        BN       AT       38  ...             NU   \n",
       "4         0       AT       38  ...             NU   \n",
       "\n",
       "                         geometry   NODE ENDNODE  g_degree g_avg_ndeg  \\\n",
       "0  POINT (627712.617 8776098.670)  45297   44304         2        2.0   \n",
       "1  POINT (626353.418 8777498.606)  45268   44304         1        2.0   \n",
       "2  POINT (632355.415 8753247.956)  60002   48689         1        3.0   \n",
       "3  POINT (635724.137 8773322.662)  46283   44304         2        2.0   \n",
       "4  POINT (631104.558 8720058.235)  14826   17749         2        2.5   \n",
       "\n",
       "  g_pagerank                  g_dispersion  eigenvector_centrality  \n",
       "0   0.000012  {'45298': 0.0, '45296': 0.0}            5.680527e-06  \n",
       "1   0.000007                {'45269': 0.0}            2.625699e-06  \n",
       "2   0.000006               {'669661': 0.0}            2.395393e-05  \n",
       "3   0.000012  {'46285': 0.0, '46282': 0.0}            4.072908e-07  \n",
       "4   0.000011  {'14825': 0.0, '14812': 0.0}            4.121470e-06  \n",
       "\n",
       "[5 rows x 40 columns]"
      ]
     },
     "execution_count": 54,
     "metadata": {},
     "output_type": "execute_result"
    }
   ],
   "source": [
    "untrd.head()"
   ]
  },
  {
   "cell_type": "markdown",
   "metadata": {},
   "source": [
    "14 - Calcule la distancia de cada untrd a su correspondiente punto de conexion con la subestacion, ponderando por COMP (longitud de segmento), utilize el parametro \"method\" para calcular diferentes tipos de distancias.\n",
    "Adicione los resultados como variables del dataset."
   ]
  },
  {
   "cell_type": "markdown",
   "metadata": {},
   "source": [
    "### Graph Network entre UNTRDs <--------> ORIGEN (la subestacion)"
   ]
  },
  {
   "cell_type": "code",
   "execution_count": 63,
   "metadata": {},
   "outputs": [
    {
     "data": {
      "text/plain": [
       "284"
      ]
     },
     "execution_count": 63,
     "metadata": {},
     "output_type": "execute_result"
    }
   ],
   "source": [
    "nx.shortest_path_length(SG, untrd.NODE[10], untrd.ENDNODE[10], weight='COMP', method='dijkstra')"
   ]
  },
  {
   "cell_type": "code",
   "execution_count": 64,
   "metadata": {},
   "outputs": [],
   "source": [
    "untrd['dist_to_trs_dijkstra'] = [nx.shortest_path_length(SG, trd.NODE, trd.ENDNODE, weight='COMP', method='dijkstra') for i, trd in untrd.iterrows()]"
   ]
  },
  {
   "cell_type": "code",
   "execution_count": 68,
   "metadata": {},
   "outputs": [],
   "source": [
    "#untrd['dist_to_trs_bellman'] = [nx.shortest_path_length(SG, trd.NODE, trd.ENDNODE, weight='COMP', method='bellman-ford') for i, trd in untrd.iterrows()]"
   ]
  },
  {
   "cell_type": "code",
   "execution_count": 67,
   "metadata": {},
   "outputs": [
    {
     "data": {
      "text/html": [
       "<div>\n",
       "<style scoped>\n",
       "    .dataframe tbody tr th:only-of-type {\n",
       "        vertical-align: middle;\n",
       "    }\n",
       "\n",
       "    .dataframe tbody tr th {\n",
       "        vertical-align: top;\n",
       "    }\n",
       "\n",
       "    .dataframe thead th {\n",
       "        text-align: right;\n",
       "    }\n",
       "</style>\n",
       "<table border=\"1\" class=\"dataframe\">\n",
       "  <thead>\n",
       "    <tr style=\"text-align: right;\">\n",
       "      <th></th>\n",
       "      <th>COD_ID</th>\n",
       "      <th>DIST</th>\n",
       "      <th>PAC_1</th>\n",
       "      <th>PAC_2</th>\n",
       "      <th>PAC_3</th>\n",
       "      <th>FAS_CON_P</th>\n",
       "      <th>FAS_CON_S</th>\n",
       "      <th>FAS_CON_T</th>\n",
       "      <th>SIT_ATIV</th>\n",
       "      <th>TIP_UNID</th>\n",
       "      <th>...</th>\n",
       "      <th>geometry</th>\n",
       "      <th>NODE</th>\n",
       "      <th>ENDNODE</th>\n",
       "      <th>g_degree</th>\n",
       "      <th>g_avg_ndeg</th>\n",
       "      <th>g_pagerank</th>\n",
       "      <th>g_dispersion</th>\n",
       "      <th>eigenvector_centrality</th>\n",
       "      <th>dist_to_trs</th>\n",
       "      <th>dist_to_trs_dijkstra</th>\n",
       "    </tr>\n",
       "  </thead>\n",
       "  <tbody>\n",
       "    <tr>\n",
       "      <th>0</th>\n",
       "      <td>4_1040341</td>\n",
       "      <td>46</td>\n",
       "      <td>452971</td>\n",
       "      <td>ET4_1040341</td>\n",
       "      <td>0</td>\n",
       "      <td>ABC</td>\n",
       "      <td>ABCN</td>\n",
       "      <td>0</td>\n",
       "      <td>AT</td>\n",
       "      <td>38</td>\n",
       "      <td>...</td>\n",
       "      <td>POINT (627712.617 8776098.670)</td>\n",
       "      <td>45297</td>\n",
       "      <td>44304</td>\n",
       "      <td>2</td>\n",
       "      <td>2.0</td>\n",
       "      <td>0.000012</td>\n",
       "      <td>{'45298': 0.0, '45296': 0.0}</td>\n",
       "      <td>5.680527e-06</td>\n",
       "      <td>110</td>\n",
       "      <td>110</td>\n",
       "    </tr>\n",
       "    <tr>\n",
       "      <th>1</th>\n",
       "      <td>4_1040306</td>\n",
       "      <td>46</td>\n",
       "      <td>452681</td>\n",
       "      <td>ET4_1040306</td>\n",
       "      <td>0</td>\n",
       "      <td>ABC</td>\n",
       "      <td>ABCN</td>\n",
       "      <td>0</td>\n",
       "      <td>AT</td>\n",
       "      <td>38</td>\n",
       "      <td>...</td>\n",
       "      <td>POINT (626353.418 8777498.606)</td>\n",
       "      <td>45268</td>\n",
       "      <td>44304</td>\n",
       "      <td>1</td>\n",
       "      <td>2.0</td>\n",
       "      <td>0.000007</td>\n",
       "      <td>{'45269': 0.0}</td>\n",
       "      <td>2.625699e-06</td>\n",
       "      <td>126</td>\n",
       "      <td>126</td>\n",
       "    </tr>\n",
       "    <tr>\n",
       "      <th>2</th>\n",
       "      <td>7_2070013</td>\n",
       "      <td>46</td>\n",
       "      <td>600021</td>\n",
       "      <td>ET7_2070013</td>\n",
       "      <td>0</td>\n",
       "      <td>ABC</td>\n",
       "      <td>ABCN</td>\n",
       "      <td>0</td>\n",
       "      <td>AT</td>\n",
       "      <td>38</td>\n",
       "      <td>...</td>\n",
       "      <td>POINT (632355.415 8753247.956)</td>\n",
       "      <td>60002</td>\n",
       "      <td>48689</td>\n",
       "      <td>1</td>\n",
       "      <td>3.0</td>\n",
       "      <td>0.000006</td>\n",
       "      <td>{'669661': 0.0}</td>\n",
       "      <td>2.395393e-05</td>\n",
       "      <td>38</td>\n",
       "      <td>38</td>\n",
       "    </tr>\n",
       "    <tr>\n",
       "      <th>3</th>\n",
       "      <td>4_1040035</td>\n",
       "      <td>46</td>\n",
       "      <td>462831</td>\n",
       "      <td>ET4_1040035</td>\n",
       "      <td>ET4_1040035</td>\n",
       "      <td>AB</td>\n",
       "      <td>AN</td>\n",
       "      <td>BN</td>\n",
       "      <td>AT</td>\n",
       "      <td>38</td>\n",
       "      <td>...</td>\n",
       "      <td>POINT (635724.137 8773322.662)</td>\n",
       "      <td>46283</td>\n",
       "      <td>44304</td>\n",
       "      <td>2</td>\n",
       "      <td>2.0</td>\n",
       "      <td>0.000012</td>\n",
       "      <td>{'46285': 0.0, '46282': 0.0}</td>\n",
       "      <td>4.072908e-07</td>\n",
       "      <td>240</td>\n",
       "      <td>240</td>\n",
       "    </tr>\n",
       "    <tr>\n",
       "      <th>4</th>\n",
       "      <td>13_1130368</td>\n",
       "      <td>46</td>\n",
       "      <td>148261</td>\n",
       "      <td>ET13_1130368</td>\n",
       "      <td>0</td>\n",
       "      <td>ABC</td>\n",
       "      <td>ABCN</td>\n",
       "      <td>0</td>\n",
       "      <td>AT</td>\n",
       "      <td>38</td>\n",
       "      <td>...</td>\n",
       "      <td>POINT (631104.558 8720058.235)</td>\n",
       "      <td>14826</td>\n",
       "      <td>17749</td>\n",
       "      <td>2</td>\n",
       "      <td>2.5</td>\n",
       "      <td>0.000011</td>\n",
       "      <td>{'14825': 0.0, '14812': 0.0}</td>\n",
       "      <td>4.121470e-06</td>\n",
       "      <td>548</td>\n",
       "      <td>548</td>\n",
       "    </tr>\n",
       "  </tbody>\n",
       "</table>\n",
       "<p>5 rows × 42 columns</p>\n",
       "</div>"
      ],
      "text/plain": [
       "       COD_ID  DIST   PAC_1         PAC_2        PAC_3 FAS_CON_P FAS_CON_S  \\\n",
       "0   4_1040341    46  452971   ET4_1040341            0       ABC      ABCN   \n",
       "1   4_1040306    46  452681   ET4_1040306            0       ABC      ABCN   \n",
       "2   7_2070013    46  600021   ET7_2070013            0       ABC      ABCN   \n",
       "3   4_1040035    46  462831   ET4_1040035  ET4_1040035        AB        AN   \n",
       "4  13_1130368    46  148261  ET13_1130368            0       ABC      ABCN   \n",
       "\n",
       "  FAS_CON_T SIT_ATIV TIP_UNID  ...                        geometry   NODE  \\\n",
       "0         0       AT       38  ...  POINT (627712.617 8776098.670)  45297   \n",
       "1         0       AT       38  ...  POINT (626353.418 8777498.606)  45268   \n",
       "2         0       AT       38  ...  POINT (632355.415 8753247.956)  60002   \n",
       "3        BN       AT       38  ...  POINT (635724.137 8773322.662)  46283   \n",
       "4         0       AT       38  ...  POINT (631104.558 8720058.235)  14826   \n",
       "\n",
       "   ENDNODE g_degree g_avg_ndeg  g_pagerank                  g_dispersion  \\\n",
       "0    44304        2        2.0    0.000012  {'45298': 0.0, '45296': 0.0}   \n",
       "1    44304        1        2.0    0.000007                {'45269': 0.0}   \n",
       "2    48689        1        3.0    0.000006               {'669661': 0.0}   \n",
       "3    44304        2        2.0    0.000012  {'46285': 0.0, '46282': 0.0}   \n",
       "4    17749        2        2.5    0.000011  {'14825': 0.0, '14812': 0.0}   \n",
       "\n",
       "  eigenvector_centrality  dist_to_trs  dist_to_trs_dijkstra  \n",
       "0           5.680527e-06          110                   110  \n",
       "1           2.625699e-06          126                   126  \n",
       "2           2.395393e-05           38                    38  \n",
       "3           4.072908e-07          240                   240  \n",
       "4           4.121470e-06          548                   548  \n",
       "\n",
       "[5 rows x 42 columns]"
      ]
     },
     "execution_count": 67,
     "metadata": {},
     "output_type": "execute_result"
    }
   ],
   "source": [
    "untrd.head()"
   ]
  },
  {
   "cell_type": "code",
   "execution_count": null,
   "metadata": {},
   "outputs": [],
   "source": [
    "ponnot = gpd.read_file(data_path, driver='FileGDB', layer='PONNOT')\n",
    "ponnot = ponnot.to_crs(epsg=31984)\n",
    "ponnot_loc_array = [x.coords[0] for x in ponnot.geometry]\n",
    "ponnot.shape, ponnot.columns"
   ]
  },
  {
   "cell_type": "code",
   "execution_count": null,
   "metadata": {},
   "outputs": [],
   "source": [
    "untrd.dist_to_trs_dijsktra[10]"
   ]
  },
  {
   "cell_type": "code",
   "execution_count": 62,
   "metadata": {},
   "outputs": [
    {
     "name": "stderr",
     "output_type": "stream",
     "text": [
      "/Users/brandonjanes/miniconda2/envs/gis/lib/python3.7/site-packages/ipykernel_launcher.py:5: FutureWarning: The \"contextily.tile_providers\" module is deprecated and will be removed in contextily v1.1. Please use \"contextily.providers\" instead.\n",
      "  \"\"\"\n"
     ]
    },
    {
     "data": {
      "image/png": "[encoded data removed]",
      "text/plain": [
       "<Figure size 576x576 with 1 Axes>"
      ]
     },
     "metadata": {
      "needs_background": "light"
     },
     "output_type": "display_data"
    }
   ],
   "source": [
    "path = nx.shortest_path(SG,untrd.NODE[10], untrd.ENDNODE[10])\n",
    "ponnot.set_index('COD_ID', inplace=True)\n",
    "path_ponnot = ponnot.loc[path]\n",
    "ax = path_ponnot.to_crs(epsg=3857).plot(figsize=(8,8))\n",
    "ctx.add_basemap(ax, source= ctx.sources.OSM_A)"
   ]
  },
  {
   "cell_type": "markdown",
   "metadata": {},
   "source": [
    "### Usando las tecnicas mostradas en el notebook sobre procesamiento de informacion georeferenciada, construya un grafo basado en la capa de linea de distribicion de media tension:\n",
    "- Resistencia electica total de cada conexion\n",
    "- Reactancia electrica de cada conexion. [Opcional]\n",
    "- Modulo y Angulo de la Impedancia.\n",
    "- Corriente Nonimal media a lo largo de la ruta\n",
    "- Corriente Maxima media del conductor a lo largo la ruta"
   ]
  },
  {
   "cell_type": "markdown",
   "metadata": {},
   "source": [
    "# Graph network entre SSDMT <--------> ORIGEN (la subestacion)"
   ]
  },
  {
   "cell_type": "code",
   "execution_count": 83,
   "metadata": {},
   "outputs": [
    {
     "data": {
      "text/plain": [
       "(180, 51)"
      ]
     },
     "execution_count": 83,
     "metadata": {},
     "output_type": "execute_result"
    }
   ],
   "source": [
    "# import layer \n",
    "ucmt = gpd.read_file(data_path, driver='FileGDB', layer='UCMT')\n",
    "ucmt = ucmt.to_crs(epsg=31984)\n",
    "ucmt.shape"
   ]
  },
  {
   "cell_type": "code",
   "execution_count": 80,
   "metadata": {},
   "outputs": [],
   "source": [
    "# Generar grafo basado en la red de distribucion\n",
    "SG = nx.Graph()\n",
    "SG.add_weighted_edges_from(ssmt[['PN_CON_1','PN_CON_2','COMP']].values.tolist(), weight='length')"
   ]
  },
  {
   "cell_type": "code",
   "execution_count": 81,
   "metadata": {},
   "outputs": [],
   "source": [
    "# Puedo agregar mas atributos despues de creado el grafo\n",
    "# Agrego el COD_ID de cada segmento como atributo de Edge\n",
    "ID_attr_dict = {tuple((x[0], x[1])): x[2:] for x in ssmt[['PN_CON_1','PN_CON_2','COD_ID','COMP']].values}\n",
    "nx.set_edge_attributes(SG, ID_attr_dict, 'SEG_ID')"
   ]
  },
  {
   "cell_type": "code",
   "execution_count": 82,
   "metadata": {},
   "outputs": [
    {
     "data": {
      "text/plain": [
       "((124647, 24),\n",
       " Index(['COD_ID', 'DIST', 'TIP_PN', 'POS', 'ESTR', 'MAT', 'ESF', 'ALT', 'CONJ',\n",
       "        'MUN', 'ODI', 'TI', 'CM', 'TUC', 'A1', 'A2', 'A3', 'A4', 'A5', 'A6',\n",
       "        'SITCONT', 'DESCR', 'ARE_LOC', 'geometry'],\n",
       "       dtype='object'))"
      ]
     },
     "execution_count": 82,
     "metadata": {},
     "output_type": "execute_result"
    }
   ],
   "source": [
    "ponnot = gpd.read_file(data_path, driver='FileGDB', layer='PONNOT')\n",
    "ponnot = ponnot.to_crs(epsg=31984)\n",
    "ponnot_loc_array = [x.coords[0] for x in ponnot.geometry]\n",
    "ponnot.shape, ponnot.columns"
   ]
  },
  {
   "cell_type": "markdown",
   "metadata": {},
   "source": [
    "## create graph of media tension"
   ]
  },
  {
   "cell_type": "code",
   "execution_count": 75,
   "metadata": {},
   "outputs": [],
   "source": [
    "pn_tree = cKDTree(ponnot_loc_array) # algorithm that makes a tree of nodes\n",
    "ucmt_loc_array = [x.coords[0] for x in ucmt.geometry]\n",
    "pnd, pni = pn_tree.query(ucmt_loc_array, n_jobs=-1) # query the tree for the nearest node\n",
    "# pnd = distances to the nearest neighbors, pni = locations of the neighbors"
   ]
  },
  {
   "cell_type": "code",
   "execution_count": 87,
   "metadata": {},
   "outputs": [
    {
     "data": {
      "text/plain": [
       "Index(['COD_ID', 'DIST', 'TIP_PN', 'POS', 'ESTR', 'MAT', 'ESF', 'ALT', 'CONJ',\n",
       "       'MUN', 'ODI', 'TI', 'CM', 'TUC', 'A1', 'A2', 'A3', 'A4', 'A5', 'A6',\n",
       "       'SITCONT', 'DESCR', 'ARE_LOC', 'geometry'],\n",
       "      dtype='object')"
      ]
     },
     "execution_count": 87,
     "metadata": {},
     "output_type": "execute_result"
    }
   ],
   "source": [
    "ponnot.columns"
   ]
  },
  {
   "cell_type": "code",
   "execution_count": 76,
   "metadata": {},
   "outputs": [
    {
     "ename": "ValueError",
     "evalue": "Length of values does not match length of index",
     "output_type": "error",
     "traceback": [
      "\u001b[0;31m---------------------------------------------------------------------------\u001b[0m",
      "\u001b[0;31mValueError\u001b[0m                                Traceback (most recent call last)",
      "\u001b[0;32m<ipython-input-76-04ec01292280>\u001b[0m in \u001b[0;36m<module>\u001b[0;34m\u001b[0m\n\u001b[0;32m----> 1\u001b[0;31m \u001b[0muntrd\u001b[0m\u001b[0;34m[\u001b[0m\u001b[0;34m'NODE'\u001b[0m\u001b[0;34m]\u001b[0m \u001b[0;34m=\u001b[0m \u001b[0;34m[\u001b[0m\u001b[0mponnot\u001b[0m\u001b[0;34m.\u001b[0m\u001b[0miloc\u001b[0m\u001b[0;34m[\u001b[0m\u001b[0mi\u001b[0m\u001b[0;34m]\u001b[0m\u001b[0;34m.\u001b[0m\u001b[0mCOD_ID\u001b[0m \u001b[0;32mfor\u001b[0m \u001b[0mi\u001b[0m \u001b[0;32min\u001b[0m \u001b[0mpni\u001b[0m\u001b[0;34m]\u001b[0m\u001b[0;34m\u001b[0m\u001b[0;34m\u001b[0m\u001b[0m\n\u001b[0m",
      "\u001b[0;32m~/miniconda2/envs/gis/lib/python3.7/site-packages/geopandas/geodataframe.py\u001b[0m in \u001b[0;36m__setitem__\u001b[0;34m(self, key, value)\u001b[0m\n\u001b[1;32m    829\u001b[0m             \u001b[0;32mexcept\u001b[0m \u001b[0mTypeError\u001b[0m\u001b[0;34m:\u001b[0m\u001b[0;34m\u001b[0m\u001b[0;34m\u001b[0m\u001b[0m\n\u001b[1;32m    830\u001b[0m                 \u001b[0mwarnings\u001b[0m\u001b[0;34m.\u001b[0m\u001b[0mwarn\u001b[0m\u001b[0;34m(\u001b[0m\u001b[0;34m\"Geometry column does not contain geometry.\"\u001b[0m\u001b[0;34m)\u001b[0m\u001b[0;34m\u001b[0m\u001b[0;34m\u001b[0m\u001b[0m\n\u001b[0;32m--> 831\u001b[0;31m         \u001b[0msuper\u001b[0m\u001b[0;34m(\u001b[0m\u001b[0mGeoDataFrame\u001b[0m\u001b[0;34m,\u001b[0m \u001b[0mself\u001b[0m\u001b[0;34m)\u001b[0m\u001b[0;34m.\u001b[0m\u001b[0m__setitem__\u001b[0m\u001b[0;34m(\u001b[0m\u001b[0mkey\u001b[0m\u001b[0;34m,\u001b[0m \u001b[0mvalue\u001b[0m\u001b[0;34m)\u001b[0m\u001b[0;34m\u001b[0m\u001b[0;34m\u001b[0m\u001b[0m\n\u001b[0m\u001b[1;32m    832\u001b[0m \u001b[0;34m\u001b[0m\u001b[0m\n\u001b[1;32m    833\u001b[0m     \u001b[0;31m#\u001b[0m\u001b[0;34m\u001b[0m\u001b[0;34m\u001b[0m\u001b[0;34m\u001b[0m\u001b[0m\n",
      "\u001b[0;32m~/.local/lib/python3.7/site-packages/pandas/core/frame.py\u001b[0m in \u001b[0;36m__setitem__\u001b[0;34m(self, key, value)\u001b[0m\n\u001b[1;32m   2936\u001b[0m         \u001b[0;32melse\u001b[0m\u001b[0;34m:\u001b[0m\u001b[0;34m\u001b[0m\u001b[0;34m\u001b[0m\u001b[0m\n\u001b[1;32m   2937\u001b[0m             \u001b[0;31m# set column\u001b[0m\u001b[0;34m\u001b[0m\u001b[0;34m\u001b[0m\u001b[0;34m\u001b[0m\u001b[0m\n\u001b[0;32m-> 2938\u001b[0;31m             \u001b[0mself\u001b[0m\u001b[0;34m.\u001b[0m\u001b[0m_set_item\u001b[0m\u001b[0;34m(\u001b[0m\u001b[0mkey\u001b[0m\u001b[0;34m,\u001b[0m \u001b[0mvalue\u001b[0m\u001b[0;34m)\u001b[0m\u001b[0;34m\u001b[0m\u001b[0;34m\u001b[0m\u001b[0m\n\u001b[0m\u001b[1;32m   2939\u001b[0m \u001b[0;34m\u001b[0m\u001b[0m\n\u001b[1;32m   2940\u001b[0m     \u001b[0;32mdef\u001b[0m \u001b[0m_setitem_slice\u001b[0m\u001b[0;34m(\u001b[0m\u001b[0mself\u001b[0m\u001b[0;34m,\u001b[0m \u001b[0mkey\u001b[0m\u001b[0;34m,\u001b[0m \u001b[0mvalue\u001b[0m\u001b[0;34m)\u001b[0m\u001b[0;34m:\u001b[0m\u001b[0;34m\u001b[0m\u001b[0;34m\u001b[0m\u001b[0m\n",
      "\u001b[0;32m~/.local/lib/python3.7/site-packages/pandas/core/frame.py\u001b[0m in \u001b[0;36m_set_item\u001b[0;34m(self, key, value)\u001b[0m\n\u001b[1;32m   2998\u001b[0m \u001b[0;34m\u001b[0m\u001b[0m\n\u001b[1;32m   2999\u001b[0m         \u001b[0mself\u001b[0m\u001b[0;34m.\u001b[0m\u001b[0m_ensure_valid_index\u001b[0m\u001b[0;34m(\u001b[0m\u001b[0mvalue\u001b[0m\u001b[0;34m)\u001b[0m\u001b[0;34m\u001b[0m\u001b[0;34m\u001b[0m\u001b[0m\n\u001b[0;32m-> 3000\u001b[0;31m         \u001b[0mvalue\u001b[0m \u001b[0;34m=\u001b[0m \u001b[0mself\u001b[0m\u001b[0;34m.\u001b[0m\u001b[0m_sanitize_column\u001b[0m\u001b[0;34m(\u001b[0m\u001b[0mkey\u001b[0m\u001b[0;34m,\u001b[0m \u001b[0mvalue\u001b[0m\u001b[0;34m)\u001b[0m\u001b[0;34m\u001b[0m\u001b[0;34m\u001b[0m\u001b[0m\n\u001b[0m\u001b[1;32m   3001\u001b[0m         \u001b[0mNDFrame\u001b[0m\u001b[0;34m.\u001b[0m\u001b[0m_set_item\u001b[0m\u001b[0;34m(\u001b[0m\u001b[0mself\u001b[0m\u001b[0;34m,\u001b[0m \u001b[0mkey\u001b[0m\u001b[0;34m,\u001b[0m \u001b[0mvalue\u001b[0m\u001b[0;34m)\u001b[0m\u001b[0;34m\u001b[0m\u001b[0;34m\u001b[0m\u001b[0m\n\u001b[1;32m   3002\u001b[0m \u001b[0;34m\u001b[0m\u001b[0m\n",
      "\u001b[0;32m~/.local/lib/python3.7/site-packages/pandas/core/frame.py\u001b[0m in \u001b[0;36m_sanitize_column\u001b[0;34m(self, key, value, broadcast)\u001b[0m\n\u001b[1;32m   3634\u001b[0m \u001b[0;34m\u001b[0m\u001b[0m\n\u001b[1;32m   3635\u001b[0m             \u001b[0;31m# turn me into an ndarray\u001b[0m\u001b[0;34m\u001b[0m\u001b[0;34m\u001b[0m\u001b[0;34m\u001b[0m\u001b[0m\n\u001b[0;32m-> 3636\u001b[0;31m             \u001b[0mvalue\u001b[0m \u001b[0;34m=\u001b[0m \u001b[0msanitize_index\u001b[0m\u001b[0;34m(\u001b[0m\u001b[0mvalue\u001b[0m\u001b[0;34m,\u001b[0m \u001b[0mself\u001b[0m\u001b[0;34m.\u001b[0m\u001b[0mindex\u001b[0m\u001b[0;34m,\u001b[0m \u001b[0mcopy\u001b[0m\u001b[0;34m=\u001b[0m\u001b[0;32mFalse\u001b[0m\u001b[0;34m)\u001b[0m\u001b[0;34m\u001b[0m\u001b[0;34m\u001b[0m\u001b[0m\n\u001b[0m\u001b[1;32m   3637\u001b[0m             \u001b[0;32mif\u001b[0m \u001b[0;32mnot\u001b[0m \u001b[0misinstance\u001b[0m\u001b[0;34m(\u001b[0m\u001b[0mvalue\u001b[0m\u001b[0;34m,\u001b[0m \u001b[0;34m(\u001b[0m\u001b[0mnp\u001b[0m\u001b[0;34m.\u001b[0m\u001b[0mndarray\u001b[0m\u001b[0;34m,\u001b[0m \u001b[0mIndex\u001b[0m\u001b[0;34m)\u001b[0m\u001b[0;34m)\u001b[0m\u001b[0;34m:\u001b[0m\u001b[0;34m\u001b[0m\u001b[0;34m\u001b[0m\u001b[0m\n\u001b[1;32m   3638\u001b[0m                 \u001b[0;32mif\u001b[0m \u001b[0misinstance\u001b[0m\u001b[0;34m(\u001b[0m\u001b[0mvalue\u001b[0m\u001b[0;34m,\u001b[0m \u001b[0mlist\u001b[0m\u001b[0;34m)\u001b[0m \u001b[0;32mand\u001b[0m \u001b[0mlen\u001b[0m\u001b[0;34m(\u001b[0m\u001b[0mvalue\u001b[0m\u001b[0;34m)\u001b[0m \u001b[0;34m>\u001b[0m \u001b[0;36m0\u001b[0m\u001b[0;34m:\u001b[0m\u001b[0;34m\u001b[0m\u001b[0;34m\u001b[0m\u001b[0m\n",
      "\u001b[0;32m~/.local/lib/python3.7/site-packages/pandas/core/internals/construction.py\u001b[0m in \u001b[0;36msanitize_index\u001b[0;34m(data, index, copy)\u001b[0m\n\u001b[1;32m    609\u001b[0m \u001b[0;34m\u001b[0m\u001b[0m\n\u001b[1;32m    610\u001b[0m     \u001b[0;32mif\u001b[0m \u001b[0mlen\u001b[0m\u001b[0;34m(\u001b[0m\u001b[0mdata\u001b[0m\u001b[0;34m)\u001b[0m \u001b[0;34m!=\u001b[0m \u001b[0mlen\u001b[0m\u001b[0;34m(\u001b[0m\u001b[0mindex\u001b[0m\u001b[0;34m)\u001b[0m\u001b[0;34m:\u001b[0m\u001b[0;34m\u001b[0m\u001b[0;34m\u001b[0m\u001b[0m\n\u001b[0;32m--> 611\u001b[0;31m         \u001b[0;32mraise\u001b[0m \u001b[0mValueError\u001b[0m\u001b[0;34m(\u001b[0m\u001b[0;34m\"Length of values does not match length of index\"\u001b[0m\u001b[0;34m)\u001b[0m\u001b[0;34m\u001b[0m\u001b[0;34m\u001b[0m\u001b[0m\n\u001b[0m\u001b[1;32m    612\u001b[0m \u001b[0;34m\u001b[0m\u001b[0m\n\u001b[1;32m    613\u001b[0m     \u001b[0;32mif\u001b[0m \u001b[0misinstance\u001b[0m\u001b[0;34m(\u001b[0m\u001b[0mdata\u001b[0m\u001b[0;34m,\u001b[0m \u001b[0mABCIndexClass\u001b[0m\u001b[0;34m)\u001b[0m \u001b[0;32mand\u001b[0m \u001b[0;32mnot\u001b[0m \u001b[0mcopy\u001b[0m\u001b[0;34m:\u001b[0m\u001b[0;34m\u001b[0m\u001b[0;34m\u001b[0m\u001b[0m\n",
      "\u001b[0;31mValueError\u001b[0m: Length of values does not match length of index"
     ]
    }
   ],
   "source": [
    "untrd['NODE'] = [ponnot.iloc[i].COD_ID for i in pni] "
   ]
  },
  {
   "cell_type": "markdown",
   "metadata": {},
   "source": [
    "#### TODO: add data points about \n",
    "* height\n",
    "* material\n",
    "* resistance"
   ]
  },
  {
   "cell_type": "code",
   "execution_count": null,
   "metadata": {},
   "outputs": [],
   "source": []
  },
  {
   "cell_type": "code",
   "execution_count": null,
   "metadata": {},
   "outputs": [],
   "source": []
  },
  {
   "cell_type": "code",
   "execution_count": null,
   "metadata": {},
   "outputs": [],
   "source": [
    "path = nx.shortest_path(SG,ucmt.NODE[10], ucmt.ENDNODE[10])\n",
    "ponnot.set_index('COD_ID', inplace=True)\n",
    "path_ponnot = ponnot.loc[path]\n",
    "ax = path_ponnot.to_crs(epsg=3857).plot(figsize=(8,8))\n",
    "ctx.add_basemap(ax, source= ctx.sources.OSM_A)"
   ]
  }
 ],
 "metadata": {
  "kernelspec": {
   "display_name": "Python 3",
   "language": "python",
   "name": "python3"
  },
  "language_info": {
   "codemirror_mode": {
    "name": "ipython",
    "version": 3
   },
   "file_extension": ".py",
   "mimetype": "text/x-python",
   "name": "python",
   "nbconvert_exporter": "python",
   "pygments_lexer": "ipython3",
   "version": "3.7.7"
  }
 },
 "nbformat": 4,
 "nbformat_minor": 4
}
